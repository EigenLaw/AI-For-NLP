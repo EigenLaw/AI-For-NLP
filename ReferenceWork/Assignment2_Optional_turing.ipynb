{
 "cells": [
  {
   "cell_type": "markdown",
   "metadata": {
    "toc": true
   },
   "source": [
    "<h1>Table of Contents<span class=\"tocSkip\"></span></h1>\n",
    "<div class=\"toc\"><ul class=\"toc-item\"></ul></div>"
   ]
  },
  {
   "cell_type": "code",
   "execution_count": 26,
   "metadata": {},
   "outputs": [
    {
     "data": {
      "text/plain": [
       "['ba', 'ab', 'ba', 'aa', 'ac', 'cb', 'bc', 'ca', 'ac', 'ca', 'ac']"
      ]
     },
     "execution_count": 26,
     "metadata": {},
     "output_type": "execute_result"
    }
   ],
   "source": [
    "#!pip install jieba\n",
    "import jieba\n",
    "from collections import Counter\n",
    "\n",
    "#text=\"你好你好这是一个简单的文本的的的测试\"\n",
    "text=\"ba ab ba aa ac cb bc ca ac ca ac\"\n",
    "\n",
    "#token = list(jieba.cut(text))\n",
    "token = text.split()\n",
    "token"
   ]
  },
  {
   "cell_type": "code",
   "execution_count": 27,
   "metadata": {},
   "outputs": [
    {
     "data": {
      "text/plain": [
       "Counter({'aa': 1, 'ab': 1, 'ac': 3, 'ba': 2, 'bc': 1, 'ca': 2, 'cb': 1})"
      ]
     },
     "execution_count": 27,
     "metadata": {},
     "output_type": "execute_result"
    }
   ],
   "source": [
    "words_count = Counter(token)\n",
    "words_count"
   ]
  },
  {
   "cell_type": "code",
   "execution_count": 28,
   "metadata": {
    "collapsed": true
   },
   "outputs": [],
   "source": [
    "Nr = {}\n",
    "N = 0\n",
    "\n",
    "def turing_good_get_Nr(r):    \n",
    "    for i in range(len(Nr)):\n",
    "        if r in Nr.keys():\n",
    "            return Nr[r]\n",
    "        else:\n",
    "            r = r + 1\n",
    "\n",
    "            \n",
    "def turing_good_prob(word):\n",
    "    global N\n",
    "    global Nr\n",
    "    if word in words_count.keys():\n",
    "        r = words_count[word]\n",
    "        if r == max(Nr.keys()):\n",
    "            return r / N\n",
    "        return (r + 1) * turing_good_get_Nr(r + 1) / (N * turing_good_get_Nr(r))\n",
    "    # word count is 0\n",
    "    else:\n",
    "        return (turing_good_get_Nr(1) / N)\n",
    "\n",
    "\n",
    "def turing_good_init(words):\n",
    "    global N\n",
    "    global Nr\n",
    "    for k, v in words.items():\n",
    "        #print(k, v)\n",
    "        if v in Nr.keys():\n",
    "            Nr[v] = Nr[v] + 1\n",
    "        else:\n",
    "            Nr[v] = 1\n",
    "            \n",
    "    for k, v in Nr.items():\n",
    "        N = N + k * v\n",
    "        \n",
    "    #print(Nr)\n",
    "    #print(N)\n",
    "    \n",
    "\n",
    "#turing_good_init(words_count)\n",
    "\n",
    "\n",
    "#print(turing_good_prob(\"ac\"))"
   ]
  },
  {
   "cell_type": "code",
   "execution_count": 29,
   "metadata": {},
   "outputs": [
    {
     "data": {
      "text/plain": [
       "['ba', 'ab', 'aa', 'ac', 'cb', 'bc', 'ca']"
      ]
     },
     "execution_count": 29,
     "metadata": {},
     "output_type": "execute_result"
    }
   ],
   "source": [
    "list(words_count.keys())[:10]"
   ]
  },
  {
   "cell_type": "code",
   "execution_count": 30,
   "metadata": {
    "collapsed": true
   },
   "outputs": [],
   "source": [
    "import pandas as pd\n",
    "import jieba\n",
    "import chardet\n",
    "\n",
    "database = \"C:/Users/Christopher_luole/Git_Project/mydata/sqlResult_1558435.csv\""
   ]
  },
  {
   "cell_type": "code",
   "execution_count": 31,
   "metadata": {},
   "outputs": [
    {
     "data": {
      "text/plain": [
       "['此外，自本周（6月12日）起，除小米手机6等15款机型外，其余机型已暂停更新发布（含开发版/体验版内测，稳定版暂不受影响），以确保工程师可以集中全部精力进行系统优化工作。有人猜测这也是将精力主要用到MIUI 9的研发之中。\\r\\nMIUI 8去年5月发布，距今已有一年有余，也是时候更新换代了。\\r\\n当然，关于MIUI 9的确切信息，我们还是等待官方消息。\\r\\n',\n",
       " '骁龙835作为唯一通过Windows 10桌面平台认证的ARM处理器，高通强调，不会因为只考虑性能而去屏蔽掉小核心。相反，他们正联手微软，找到一种适合桌面平台的、兼顾性能和功耗的完美方案。\\r\\n报道称，微软已经拿到了一些新的源码，以便Windows 10更好地理解big.little架构。\\r\\n资料显示，骁龙835作为一款集成了CPU、GPU、基带、蓝牙/Wi-Fi的SoC，比传统的Wintel方案可以节省至少30%的PCB空间。\\r\\n按计划，今年Q4，华硕、惠普、联想将首发骁龙835 Win10电脑，预计均是二合一形态的产品。\\r\\n当然，高通骁龙只是个开始，未来也许还能见到三星Exynos、联发科、华为麒麟、小米澎湃等进入Windows 10桌面平台。\\r\\n',\n",
       " '此前的一加3T搭载的是3400mAh电池，DashCharge快充规格为5V/4A。\\r\\n至于电池缩水，可能与刘作虎所说，一加手机5要做市面最轻薄大屏旗舰的设定有关。\\r\\n按照目前掌握的资料，一加手机5拥有5.5寸1080P三星AMOLED显示屏、6G/8GB RAM，64GB/128GB ROM，双1600万摄像头，备货量“惊喜”。\\r\\n根据京东泄露的信息，一加5起售价是xx99元，应该是在2799/2899/2999中的某个。\\r\\n',\n",
       " '这是6月18日在葡萄牙中部大佩德罗冈地区拍摄的被森林大火烧毁的汽车。新华社记者张立云摄\\r\\n',\n",
       " '（原标题：44岁女子跑深圳约会网友被拒，暴雨中裸身奔走……）\\r\\n@深圳交警微博称：昨日清晨交警发现有一女子赤裸上身，行走在南坪快速上，期间还起了轻生年头，一辅警发现后赶紧为其披上黄衣，并一路劝说她。\\r\\n那么事发时\\r\\n到底都发生了些什么呢？\\r\\n南都记者带您一起还原现场\\r\\n南都记者在龙岗大队坂田中队见到了辅警刘青（发现女生的辅警），一位外表高大帅气，说话略带些腼腆的90后青年。\\r\\n刘青介绍，6月16日早上7时36分，他正在环城南路附近值勤，接到中队关于一位女子裸身进入机动车可能有危险的警情，随后骑着小铁骑开始沿路寻找，大概花了十多分钟在南坪大道坂田出口往龙岗方向的逆行辅道上发现该女子。\\r\\n女子身上一丝不挂地逆车流而行，时走时停，时坐时躺，险象环生。刘青停好小铁骑，和另外一名巡防员追了上去，发现女子的情绪很低落，话不多，刘青尝试和女子交流，劝说女子离开，可女子并不愿意接受，继续缓慢地往南坪快速路的主干道上走去。\\r\\n此时路边上已经聚集了很市民围观，为了不刺激女子的情绪，刘青和巡防员一边盯着女子一边驱赶着围观的群众。\\r\\n现场还原\\r\\n从警方提供的一份视频了解到，16日早上7时25分，女子出现在坂雪岗大道与环城南路的监控视频中，此时女子还穿着白色的内裤，正沿着坂雪岗大道往南坪快速的方向缓慢地走着。\\r\\n当时正值上班高峰期，十字路口的车流已经排起了长队。当女子出现时，路上的市民纷纷驻足观望，不少车辆也放慢了速度，但女子并不为市民观望停下脚步，依然缓慢走着。当女子行进到十字路口中间时，一辆大货车挡住了镜头，但是当女子再次出现镜头时，可以发现女子已经没穿内裤了，全身裸露继续朝着南坪快速方向走去。记者发现，视频中女子周围并没有人尾随或者上前劝止的市民。\\r\\n一大清早路上看到这样的情况\\r\\n恐怕大家都没办法淡定\\r\\n面对这一情况\\r\\n刘青表示，“一开始根本不敢看她，心里挺别扭，感觉很尴尬”，但当刘青跟随女子上了南坪快速路主干道时，女子作出了让人意想不到的举动，她突然靠近护栏要从上面跳下去，刘青赶忙冲上去拉住了女子的手，将其控制住并远离护栏。碍于女子没有穿衣服，刘青递上衣服，女子没接受还把衣服扔到排水沟里，继续往前走，没办法刘青只能紧紧拉着她的一只手跟在后面。\\r\\n刘青一路上耐心地开导安慰她，但只听到她不断地重复着一句话“要是你也遭遇我的事，你也会这样的”，期间她还不时试图挣脱刘青的手要冲向护栏往下跳。\\r\\n就这样，我被牵着走了大概十多分钟，天突然下起了大暴雨，雨大的连眼睛都睁不开”刘青继续说着，瞬间他们就被雨透了，但女子依然不愿意接受刘青的帮助，就继续冒着大雨往前走。\\r\\n大概走了有四十分钟吧，女子突然停下来说“我想回家了”，然后女子也接受了刘青递过来的小黄衣，就出现了深圳微博上的照片，女子披着小黄衣，刘青小心翼翼地在旁边走着的场景。从南平快速下来后，刘青和巡防员将女子带到了附近的坂田派出所。\\r\\n那姑娘到底是遭遇了什么样的事情\\r\\n才会说\\r\\n“要是你也遭遇我的事，你也会这样”\\r\\n据警方透露，该女子姓陈，系湖北人，今年44岁，据家属反映其有精神病史。三天前，陈某从老家来深圳约会网友，但约会受挫导致情绪异常，女子遂产生轻生念头。\\r\\n目前\\r\\n陈某已经被送往深圳某精神病医院进行治疗\\r\\n大大君只希望姑娘能早点康复\\r\\n其实真爱的到来并不存在年龄的限制\\r\\n你们说呢？\\r\\n因善良的原因\\r\\n一众网友纷纷为\\r\\n交警暖男点ZAN\\r\\n@弓常yan桦：就想问这个小哥哥有女票吗\\r\\n@原谅我这一辈子浪荡不羁爱萨摩耶：有什么过不去的要轻生嘛？ 想想自己的家人。同时也感谢交警蜀黍\\r\\n@火心聆听心灵：点赞交警\\r\\n@中華云盾：警察……警察就是群众最需时申出援手\\r\\n@Tomchlee：蜀黍帅！\\r\\n@SJ-李赫海i：这个交警很暖有木有！\\r\\n男子迷奸网友拍418个视频 女方从20岁到50岁不等\\r\\n去年6月7号上午，淮安市涟水县公安局刑警大队突然接到了一个奇怪的报警电话，一名女子言语不清，声称自己遭到了侵害。女子、被侵害、言语不清，几个关键词令接到电话的民警瞬间紧张起来。\\r\\n']"
      ]
     },
     "execution_count": 31,
     "metadata": {},
     "output_type": "execute_result"
    }
   ],
   "source": [
    "dataframe = pd.read_csv(database, encoding='gb18030')\n",
    "all_contents = dataframe['content'].tolist()\n",
    "all_contents[:5]"
   ]
  },
  {
   "cell_type": "code",
   "execution_count": 32,
   "metadata": {
    "collapsed": true
   },
   "outputs": [],
   "source": [
    "import re\n",
    "def remove_extra_char(string):\n",
    "    pattern = re.compile('[\\w|\\d]+') \n",
    "    string = pattern.findall(str(string))\n",
    "    return ' '.join(s for s in string)"
   ]
  },
  {
   "cell_type": "code",
   "execution_count": 33,
   "metadata": {
    "collapsed": true
   },
   "outputs": [],
   "source": [
    "text = [remove_extra_char(t) for t in all_contents]\n",
    "text[:2]\n",
    "TEXT = ''.join(t for t in text )"
   ]
  },
  {
   "cell_type": "code",
   "execution_count": 34,
   "metadata": {
    "collapsed": true
   },
   "outputs": [],
   "source": [
    "# def cut(string):return list(jieba.cut(string))"
   ]
  },
  {
   "cell_type": "code",
   "execution_count": 35,
   "metadata": {},
   "outputs": [],
   "source": [
    "# ALL_TOKEN = cut(TEXT)\n",
    "# ALL_TOKEN[:10]"
   ]
  },
  {
   "cell_type": "code",
   "execution_count": 36,
   "metadata": {},
   "outputs": [],
   "source": [
    "with open('C:/Users/Christopher_luole/Git_Project/ALL_TOKENS.txt','r') as file:\n",
    "    ALL_TOKEN=file.read()\n",
    "\n",
    "ALL_TOKEN=ALL_TOKEN.replace(\"'\",\"\").replace(\"[\",\"\").replace(\"]\",\"\").split(', ')"
   ]
  },
  {
   "cell_type": "code",
   "execution_count": 37,
   "metadata": {},
   "outputs": [
    {
     "data": {
      "text/plain": [
       "['此外', '自', '本周', '6', '月', '12', '日起', '除', '小米', '手机']"
      ]
     },
     "execution_count": 37,
     "metadata": {},
     "output_type": "execute_result"
    }
   ],
   "source": [
    "valid_tokens = [t for t in ALL_TOKEN if t.strip() and t != 'n']\n",
    "valid_tokens[:10]"
   ]
  },
  {
   "cell_type": "code",
   "execution_count": 38,
   "metadata": {
    "collapsed": true
   },
   "outputs": [],
   "source": [
    "from collections import Counter"
   ]
  },
  {
   "cell_type": "code",
   "execution_count": 39,
   "metadata": {},
   "outputs": [
    {
     "data": {
      "text/plain": [
       "[('的', 703715),\n",
       " ('在', 263597),\n",
       " ('月', 189330),\n",
       " ('日', 166267),\n",
       " ('新华社', 142462),\n",
       " ('和', 134061),\n",
       " ('年', 123105),\n",
       " ('了', 121939),\n",
       " ('是', 100912),\n",
       " ('１', 88187)]"
      ]
     },
     "execution_count": 39,
     "metadata": {},
     "output_type": "execute_result"
    }
   ],
   "source": [
    "words_count = Counter(valid_tokens)\n",
    "words_count.most_common(10)"
   ]
  },
  {
   "cell_type": "code",
   "execution_count": 40,
   "metadata": {
    "collapsed": true
   },
   "outputs": [],
   "source": [
    "sum_count = len(valid_tokens)"
   ]
  },
  {
   "cell_type": "code",
   "execution_count": 41,
   "metadata": {},
   "outputs": [],
   "source": [
    "turing_good_init(words_count)"
   ]
  },
  {
   "cell_type": "code",
   "execution_count": 42,
   "metadata": {
    "collapsed": true
   },
   "outputs": [],
   "source": [
    "def one_gram_prob(sentence):\n",
    "    prob = 1\n",
    "    word = cut(sentence)\n",
    "    for w in word:\n",
    "        if words_count[w]:\n",
    "            prob *= words_count[w] / sum_count\n",
    "        else:\n",
    "            prob *= 1 / sum_count\n",
    "    return prob"
   ]
  },
  {
   "cell_type": "code",
   "execution_count": 43,
   "metadata": {},
   "outputs": [
    {
     "name": "stdout",
     "output_type": "stream",
     "text": [
      "天下\n",
      "5.131928467915242e-05\n",
      "4.11020816384848e-05\n",
      "武功\n",
      "5.831736895358229e-07\n",
      "5.452420710350854e-07\n",
      "唯快\n",
      "0.0\n",
      "0.005748459692492514\n",
      "不破\n",
      "2.4493294960504563e-06\n",
      "2.28111574064443e-06\n"
     ]
    }
   ],
   "source": [
    "sentence = \"天下武功唯快不破\"\n",
    "for s in list(jieba.cut(sentence)):\n",
    "    print(s)\n",
    "    print(words_count[s] / sum_count)\n",
    "    print(turing_good_prob(s))"
   ]
  },
  {
   "cell_type": "markdown",
   "metadata": {},
   "source": [
    "> 可以见到“唯快”不在我们的ALL_TOKEN中，所以前一个概率为0，turning_good_prob使用了概率替换方法(出现1次的词的总数/N），故不为0"
   ]
  },
  {
   "cell_type": "markdown",
   "metadata": {},
   "source": [
    "> 改进方法：推荐未出现的词使用1/N，像课堂举例那样"
   ]
  },
  {
   "cell_type": "code",
   "execution_count": 46,
   "metadata": {},
   "outputs": [
    {
     "data": {
      "text/plain": [
       "True"
      ]
     },
     "execution_count": 46,
     "metadata": {},
     "output_type": "execute_result"
    }
   ],
   "source": [
    "1 in list(Nr.keys())"
   ]
  },
  {
   "cell_type": "code",
   "execution_count": 55,
   "metadata": {},
   "outputs": [
    {
     "data": {
      "text/plain": [
       "0.005748459692492514"
      ]
     },
     "execution_count": 55,
     "metadata": {},
     "output_type": "execute_result"
    }
   ],
   "source": [
    "Nr[1]/N"
   ]
  },
  {
   "cell_type": "code",
   "execution_count": 51,
   "metadata": {},
   "outputs": [
    {
     "data": {
      "text/plain": [
       "[('此外', 4241), ('自', 4662)]"
      ]
     },
     "execution_count": 51,
     "metadata": {},
     "output_type": "execute_result"
    }
   ],
   "source": [
    "[(k, v) for k, v in words_count.items()][:2]"
   ]
  },
  {
   "cell_type": "code",
   "execution_count": 52,
   "metadata": {},
   "outputs": [
    {
     "data": {
      "text/plain": [
       "17147550"
      ]
     },
     "execution_count": 52,
     "metadata": {},
     "output_type": "execute_result"
    }
   ],
   "source": [
    "N"
   ]
  },
  {
   "cell_type": "code",
   "execution_count": 54,
   "metadata": {},
   "outputs": [
    {
     "data": {
      "text/plain": [
       "17147550"
      ]
     },
     "execution_count": 54,
     "metadata": {},
     "output_type": "execute_result"
    }
   ],
   "source": [
    "sum([v for _, v in words_count.items()])"
   ]
  },
  {
   "cell_type": "code",
   "execution_count": 56,
   "metadata": {},
   "outputs": [
    {
     "data": {
      "text/plain": [
       "98572"
      ]
     },
     "execution_count": 56,
     "metadata": {},
     "output_type": "execute_result"
    }
   ],
   "source": [
    "sum([v for _, v in words_count.items() if v==1])"
   ]
  },
  {
   "cell_type": "code",
   "execution_count": 58,
   "metadata": {},
   "outputs": [
    {
     "data": {
      "text/plain": [
       "98572"
      ]
     },
     "execution_count": 58,
     "metadata": {},
     "output_type": "execute_result"
    }
   ],
   "source": [
    "Nr[1]#即等于出现一次的词的次数总和"
   ]
  },
  {
   "cell_type": "markdown",
   "metadata": {},
   "source": [
    "> 下面看一个例子：\n",
    "\n",
    "想法：(Things seen once) 使用刚才已经看过一次的事物的数量来帮助估计从来没有见过的事物的数量。\n",
    "举个例子，假设你在钓鱼，然后抓到了 18 条鱼，种类如下：10 carp, 3 perch, 2 whitefish, 1 trout, 1 salmon, 1 eel。\n",
    "\n",
    "**那么下一条鱼是 trout 的概率是多少？**\n",
    "很简单，我们认为是 1/18.\n",
    "\n",
    "**那么，下一条鱼是新品种的概率是多少？**\n",
    "不考虑其他，那么概率是 0，然而根据 Things seen once 来估计新事物，概率是 3/18.\n",
    "\n",
    "**在此基础上，下一条鱼是 trout 的概率是多少？**\n",
    "肯定就小于 1/18，那么怎么估计呢？\n",
    "在 Good-Turing 下，对每一个计数 $r$，我们做一个调整，变为 $r^*$，公式如下，其中 $N_r$ 表示出现过 $r$ 次的鱼。\n",
    "\n",
    "$$\n",
    "r^{*}=(r+1) \\frac{N_{r+1}}{N_{r}}.\n",
    "$$\n",
    "\n",
    "然后，我们就有\n",
    "$$\n",
    "P_{G T}(x : c(x)=r)=\\frac{r^{*}}{N}\n",
    "$$\n",
    "\n",
    "所以，$c=1$ 时，\n",
    "$$\n",
    "\\begin{array}{l}{C^{*}(\\text {trou} t)=2 * 1 / 3=2 / 3}, \\\\[6pt] \n",
    "{P^{*}(\\text {trou} t)=\\frac{2 / 3}{18}=\\frac{1}{27}}.\n",
    "\\end{array}\n",
    "$$\n",
    "\n",
    "然后，问题来了，如果 $N_{r+1} = 0$ 怎么办？这在 $r$ 很高的情况下很常见，因为在对计数进行计数时(counts of counts)，会出现 “holes”。即使没有这个 hole，对很高的 $r$ 来说，$N_r$ 也是有噪音的。\n",
    "\n",
    "所以，我们应该这样来看 $r$:\n",
    "$$\n",
    "r^{*}=(r+1) \\frac{E\\left(n_{r+1}\\right)}{E\\left(n_{r}\\right)}.\n",
    "$$\n",
    "但是，问题是怎么估计这种期望呢？这需要更多的解释。\n",
    "\n",
    "**Jelinek-Mercer smoothing(Interpolation, 差值)**\n",
    "\n",
    "同样，以语言模型为例，我们看这样一种情况，如果 $c(BURNISH THE)$ 和 $c(BURNISH THOU)$ 都是 0，那么在前面的 Good-Turing 里，\n",
    "\n",
    "$$p(THE|BURNISH)=p(THOU|BURNISH),$$\n",
    "\n",
    "而这个概率我们直观上来看是错误的，因为 THE 要比 THOU 常见的多，\n",
    "\n",
    "$$\n",
    "p(T H E | B U R N I S H)>p(T H O U | B U R N I S H)\n",
    "$$ \n",
    "\n",
    "应该是大概率事件。要实现这个，我们就希望把 bigram 和 unigram 结合起来，interpolate 就是这样一种方法。\n",
    "\n",
    "\n",
    "用线性差值把不同阶的 N-gram 结合起来，这里结合了 trigram，bigram 和 unigram。用 lambda 进行加权：\n",
    "\n",
    "$$\n",
    "\\begin{aligned} p\\left(w_{n} | w_{n-1} w_{n-2}\\right) &=\\lambda_{1} p\\left(w_{n} | w_{n-1} w_{n-2}\\right) +\\lambda_{2} p\\left(w_{n} | w_{n-1}\\right) +\\lambda_{3} p\\left(w_{n}\\right) \\end{aligned},\n",
    "$$\n",
    "\n",
    "其中\n",
    "\n",
    "$$\n",
    "\\sum_{i} \\lambda_{i}=1.\n",
    "$$"
   ]
  },
  {
   "cell_type": "code",
   "execution_count": null,
   "metadata": {
    "collapsed": true
   },
   "outputs": [],
   "source": []
  }
 ],
 "metadata": {
  "kernelspec": {
   "display_name": "Python 3",
   "language": "python",
   "name": "python3"
  },
  "language_info": {
   "codemirror_mode": {
    "name": "ipython",
    "version": 3
   },
   "file_extension": ".py",
   "mimetype": "text/x-python",
   "name": "python",
   "nbconvert_exporter": "python",
   "pygments_lexer": "ipython3",
   "version": "3.6.3"
  },
  "toc": {
   "base_numbering": 1,
   "nav_menu": {},
   "number_sections": true,
   "sideBar": true,
   "skip_h1_title": false,
   "title_cell": "Table of Contents",
   "title_sidebar": "Contents",
   "toc_cell": true,
   "toc_position": {},
   "toc_section_display": true,
   "toc_window_display": false
  }
 },
 "nbformat": 4,
 "nbformat_minor": 2
}
