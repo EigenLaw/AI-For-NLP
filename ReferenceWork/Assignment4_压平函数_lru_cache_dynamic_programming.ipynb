{
 "cells": [
  {
   "cell_type": "markdown",
   "metadata": {
    "toc": true
   },
   "source": [
    "<h1>Table of Contents<span class=\"tocSkip\"></span></h1>\n",
    "<div class=\"toc\"><ul class=\"toc-item\"><li><span><a href=\"#Part1-Review-the-course\" data-toc-modified-id=\"Part1-Review-the-course-1\"><span class=\"toc-item-num\">1&nbsp;&nbsp;</span>Part1-Review the course</a></span><ul class=\"toc-item\"><li><span><a href=\"#Dynamic-Programming-For-Rob-Cutting-Problems(瓷砖分割问题)\" data-toc-modified-id=\"Dynamic-Programming-For-Rob-Cutting-Problems(瓷砖分割问题)-1.1\"><span class=\"toc-item-num\">1.1&nbsp;&nbsp;</span>Dynamic Programming For Rob Cutting Problems(瓷砖分割问题)</a></span></li><li><span><a href=\"#压平函数\" data-toc-modified-id=\"压平函数-1.2\"><span class=\"toc-item-num\">1.2&nbsp;&nbsp;</span>压平函数</a></span></li><li><span><a href=\"#Finish-the-Solution-Parse-Part-of-Edit-Distance\" data-toc-modified-id=\"Finish-the-Solution-Parse-Part-of-Edit-Distance-1.3\"><span class=\"toc-item-num\">1.3&nbsp;&nbsp;</span>Finish the Solution Parse Part of Edit-Distance</a></span></li></ul></li><li><span><a href=\"#Part2-最短路径推荐DP-Method\" data-toc-modified-id=\"Part2-最短路径推荐DP-Method-2\"><span class=\"toc-item-num\">2&nbsp;&nbsp;</span>Part2-最短路径推荐DP Method</a></span></li></ul></div>"
   ]
  },
  {
   "cell_type": "markdown",
   "metadata": {},
   "source": [
    "**Reference**\n",
    "\n",
    "[Ref1](https://github.com/shlinym/AI-For-NLP/blob/master/lecture-4/homework/homework.ipynb)\n",
    "[Ref2](https://github.com/iyangsongi/AI-For-NL/blob/master/assignment-for-nlp/Assignment-04/Assignment-04.ipynb)"
   ]
  },
  {
   "cell_type": "markdown",
   "metadata": {},
   "source": [
    "# Part1-Review the course"
   ]
  },
  {
   "cell_type": "markdown",
   "metadata": {},
   "source": [
    "##  Dynamic Programming For Rob Cutting Problems(瓷砖分割问题)"
   ]
  },
  {
   "cell_type": "code",
   "execution_count": 2,
   "metadata": {},
   "outputs": [
    {
     "data": {
      "text/plain": [
       "5"
      ]
     },
     "execution_count": 2,
     "metadata": {},
     "output_type": "execute_result"
    }
   ],
   "source": [
    "from collections import defaultdict\n",
    "piece_price = [1, 5, 8, 9, 10, 17, 17, 20, 24, 30]#分别对应为规模为1,2,3,...,10的瓷砖价格\n",
    "#给定金额，最小化瓷砖购买数量\n",
    "\n",
    "price = defaultdict(int)# price: defaultdict(int, {})\n",
    "\n",
    "for i in range(len(piece_price)):\n",
    "    price[i + 1] = piece_price[i]\n",
    "    \n",
    "price[2]"
   ]
  },
  {
   "cell_type": "code",
   "execution_count": 3,
   "metadata": {
    "collapsed": true
   },
   "outputs": [],
   "source": [
    "from functools import lru_cache\n",
    "##加上@functools.lru_cache()装饰器进行缓存实现，使得运算快速"
   ]
  },
  {
   "cell_type": "markdown",
   "metadata": {},
   "source": [
    "## 压平函数"
   ]
  },
  {
   "cell_type": "code",
   "execution_count": 4,
   "metadata": {
    "collapsed": true
   },
   "outputs": [],
   "source": [
    "price1 = defaultdict(int)"
   ]
  },
  {
   "cell_type": "code",
   "execution_count": 5,
   "metadata": {
    "collapsed": true
   },
   "outputs": [],
   "source": [
    "def to_chunks(data):\n",
    "    chunks = []\n",
    "    \n",
    "    for i in data:\n",
    "        if isinstance(i, list):\n",
    "            sub_data = to_chunks(i)\n",
    "            for d in sub_data:\n",
    "                chunks.append(d)\n",
    "        else:\n",
    "            chunks.append(i)\n",
    "            \n",
    "    return chunks"
   ]
  },
  {
   "cell_type": "code",
   "execution_count": 6,
   "metadata": {},
   "outputs": [
    {
     "data": {
      "text/plain": [
       "[2, 6, 7, 8, 10, 10, 10, 10, 10, 10]"
      ]
     },
     "execution_count": 6,
     "metadata": {},
     "output_type": "execute_result"
    }
   ],
   "source": [
    "to_chunks([2, [6,[7,8], [10, [10, [10, [10, [10, 10]]]]]]])"
   ]
  },
  {
   "cell_type": "code",
   "execution_count": 7,
   "metadata": {
    "collapsed": true
   },
   "outputs": [],
   "source": [
    "# put recursive and solution together\n",
    "@lru_cache(2*10000)\n",
    "def get_price(num):\n",
    "    \"\"\"\n",
    "    获取瓷砖分割法：先挑最大的，依次往下，使得恰好num数等于所挑[1,2...10]的求和\n",
    "    \"\"\"\n",
    " \n",
    "    max_price = price[num]\n",
    "    steps = num\n",
    "    # [price, steps]\n",
    "    for i in range(1, num):\n",
    "        left = get_price(i)\n",
    "        right = get_price(num - i)\n",
    "        if (max_price < left[0] + right[0]):\n",
    "            max_price = left[0] + right[0]\n",
    "            steps = to_chunks(left[1:] + right[1:])\n",
    "        \n",
    "    return [max_price, steps]"
   ]
  },
  {
   "cell_type": "code",
   "execution_count": 8,
   "metadata": {},
   "outputs": [
    {
     "data": {
      "text/plain": [
       "[73, [2, 3, 10, 10]]"
      ]
     },
     "execution_count": 8,
     "metadata": {},
     "output_type": "execute_result"
    }
   ],
   "source": [
    "get_price(25)"
   ]
  },
  {
   "cell_type": "markdown",
   "metadata": {
    "collapsed": true
   },
   "source": [
    "## Finish the Solution Parse Part of Edit-Distance"
   ]
  },
  {
   "cell_type": "code",
   "execution_count": 9,
   "metadata": {},
   "outputs": [],
   "source": [
    "@lru_cache(maxsize=2**10)\n",
    "def edit_distance(str1, str2):#将str1与str2对比，比如str1增删改之后变成str2\n",
    "    \n",
    "    if not len(str1):return len(str2)\n",
    "    \n",
    "    if not len(str2):return len(str1)\n",
    "    \n",
    "    tail1 = str1[-1]\n",
    "    tail2 = str2[-1]\n",
    "    \n",
    "    return min(edit_distance(str1[:-1], str2) + 1, # delete\n",
    "                   edit_distance(str1, str2[:-1]) + 1, # add\n",
    "                   edit_distance(str1[:-1], str2[:-1]) + (0 if tail1 == tail2 else 2)) \n",
    "            # sub"
   ]
  },
  {
   "cell_type": "code",
   "execution_count": 10,
   "metadata": {},
   "outputs": [
    {
     "data": {
      "text/plain": [
       "3"
      ]
     },
     "execution_count": 10,
     "metadata": {},
     "output_type": "execute_result"
    }
   ],
   "source": [
    "edit_distance(\"ABCDE\", \"ABCCEF\")"
   ]
  },
  {
   "cell_type": "code",
   "execution_count": 11,
   "metadata": {},
   "outputs": [
    {
     "data": {
      "text/plain": [
       "2"
      ]
     },
     "execution_count": 11,
     "metadata": {},
     "output_type": "execute_result"
    }
   ],
   "source": [
    "edit_distance('ATCGGAA', 'ATCGGGA')"
   ]
  },
  {
   "cell_type": "code",
   "execution_count": 12,
   "metadata": {
    "collapsed": true
   },
   "outputs": [],
   "source": [
    "solution = []"
   ]
  },
  {
   "cell_type": "code",
   "execution_count": 13,
   "metadata": {
    "collapsed": true
   },
   "outputs": [],
   "source": [
    "@lru_cache(maxsize=2**10)##'del'、'add'、’sub‘三种操作，当前操作任意一种后，递归求出此操作下的最短路径。\n",
    "#lru_cache确保子问题不重复计算\n",
    "def edit_distance_with_path(str1, str2):\n",
    "    \n",
    "    if not len(str1):return [len(str2), ' ']\n",
    "    \n",
    "    if not len(str2):return [len(str1), ' ']\n",
    "    \n",
    "    tail1 = str1[-1]\n",
    "    tail2 = str2[-1]\n",
    "     \n",
    "    _del = edit_distance_with_path(str1[:-1], str2)\n",
    "    _add = edit_distance_with_path(str1, str2[:-1])\n",
    "    _sub = edit_distance_with_path(str1[:-1], str2[:-1])\n",
    "    op_desc = {\n",
    "        \"del\":\" Del {}\".format(tail1),\n",
    "        \"add\":\" Add {}\".format(tail2),\n",
    "        \"sub0\":\"\",\n",
    "        \"sub2\":\" Sub {}=>{}\".format(tail1, tail2)\n",
    "    }\n",
    "    # [distance, operator]\n",
    "    operator = [\n",
    "        [_del[0] + 1, _del[1] + op_desc[\"del\"]],\n",
    "        [_add[0] + 1, _add[1] + op_desc[\"add\"]],  \n",
    "        [_sub[0] + (0 if tail1 == tail2 else 2), _sub[1] + op_desc[\"sub\" + ('0' if tail1 == tail2 else '2')]],\n",
    "    ]\n",
    "    min_op =  min(operator, key=lambda x : x[0])\n",
    "    return min_op"
   ]
  },
  {
   "cell_type": "code",
   "execution_count": 14,
   "metadata": {},
   "outputs": [
    {
     "data": {
      "text/plain": [
       "[3, '  Add C Del D Add F']"
      ]
     },
     "execution_count": 14,
     "metadata": {},
     "output_type": "execute_result"
    }
   ],
   "source": [
    "edit_distance_with_path(\"ABCDE\", \"ABCCEF\")"
   ]
  },
  {
   "cell_type": "code",
   "execution_count": 15,
   "metadata": {},
   "outputs": [
    {
     "data": {
      "text/plain": [
       "[2, '  Add G Del A']"
      ]
     },
     "execution_count": 15,
     "metadata": {},
     "output_type": "execute_result"
    }
   ],
   "source": [
    "edit_distance_with_path('ATCGGAA', 'ATCGGGA')"
   ]
  },
  {
   "cell_type": "markdown",
   "metadata": {},
   "source": [
    "# Part2-最短路径推荐DP Method"
   ]
  },
  {
   "cell_type": "code",
   "execution_count": 24,
   "metadata": {},
   "outputs": [],
   "source": [
    "import random\n",
    "import matplotlib.pylab as plt\n",
    "from functools import lru_cache\n",
    "%matplotlib inline"
   ]
  },
  {
   "cell_type": "code",
   "execution_count": 25,
   "metadata": {
    "collapsed": true
   },
   "outputs": [],
   "source": [
    "latitudes = [random.randint(-100, 100) for _ in range(20)]\n",
    "longitude = [random.randint(-100, 100) for _ in range(20)]"
   ]
  },
  {
   "cell_type": "code",
   "execution_count": 26,
   "metadata": {},
   "outputs": [
    {
     "data": {
      "text/plain": [
       "<matplotlib.collections.PathCollection at 0x8fbfcf8>"
      ]
     },
     "execution_count": 26,
     "metadata": {},
     "output_type": "execute_result"
    },
    {
     "data": {
      "image/png": "[encoded data removed]",
      "text/plain": [
       "<matplotlib.figure.Figure at 0x6d3ba58>"
      ]
     },
     "metadata": {},
     "output_type": "display_data"
    }
   ],
   "source": [
    "plt.scatter(latitudes, longitude)"
   ]
  },
  {
   "cell_type": "markdown",
   "metadata": {},
   "source": [
    "给定一个初始点 $P$, 已经 $k$个车辆，如何从该点出发，经这 k 个车辆经过所以的点全部一次，而且所走过的路程最短? \n",
    "\n",
    "例如： "
   ]
  },
  {
   "cell_type": "code",
   "execution_count": 27,
   "metadata": {
    "collapsed": true
   },
   "outputs": [],
   "source": [
    "chosen_p = (5, 10)"
   ]
  },
  {
   "cell_type": "code",
   "execution_count": 28,
   "metadata": {},
   "outputs": [
    {
     "data": {
      "text/plain": [
       "<matplotlib.collections.PathCollection at 0x9054b38>"
      ]
     },
     "execution_count": 28,
     "metadata": {},
     "output_type": "execute_result"
    },
    {
     "data": {
      "image/png": "[encoded data removed]",
      "text/plain": [
       "<matplotlib.figure.Figure at 0x8f9dc88>"
      ]
     },
     "metadata": {},
     "output_type": "display_data"
    }
   ],
   "source": [
    "plt.scatter(latitudes, longitude)\n",
    "plt.scatter([chosen_p[0]], [chosen_p[1]], color='r')"
   ]
  },
  {
   "cell_type": "markdown",
   "metadata": {},
   "source": []
  },
  {
   "cell_type": "markdown",
   "metadata": {},
   "source": [
    "[思路：](https://github.com/iyangsongi/AI-For-NL/blob/master/assignment-for-nlp/Assignment-04/Assignment-04.ipynb)  \n",
    "+ 子问题求解：$$\\sqrt{(x-x_1)^2+(y-y_1)^2}$$\n",
    "+ 子问题重复：@lru_cache(maxsize=2**15)\n",
    "+ 边界：所有点距离求解完成\n",
    "+ 初始点：$$\\sqrt{(poins[-1][x]-x_1)^2+(poins[-1][y]-y_1)^2}$$"
   ]
  },
  {
   "cell_type": "code",
   "execution_count": 29,
   "metadata": {},
   "outputs": [
    {
     "name": "stdout",
     "output_type": "stream",
     "text": [
      "运行时间：0.3365361089170733s\n"
     ]
    },
    {
     "data": {
      "image/png": "[encoded data removed]",
      "text/plain": [
       "<matplotlib.figure.Figure at 0x8245940>"
      ]
     },
     "metadata": {},
     "output_type": "display_data"
    }
   ],
   "source": [
    "import math\n",
    "import time\n",
    "import random\n",
    "import matplotlib.pylab as plt\n",
    "from functools import lru_cache\n",
    "from collections import defaultdict\n",
    "start=time.clock()\n",
    "latitudes = [random.randint(-100, 100) for _ in range(10)]\n",
    "longitude = [random.randint(-100, 100) for _ in range(10)]\n",
    "selected =()\n",
    "chosen_p=(5, 10)\n",
    "points=list(set(zip(latitudes,longitude))|set((selected)))\n",
    "solution=[]\n",
    "@lru_cache(maxsize=None)\n",
    "def get_distance(point1,point2):\n",
    "    x,y=point1\n",
    "    x_1,y_1=point2\n",
    "    return math.sqrt(pow(x-x_1,2)+pow(y-y_1,2))\n",
    "@lru_cache(maxsize=None)\n",
    "def min_distance(chosen_p,selected):\n",
    "    if len(selected)==len(points):return 0,0\n",
    "    selected=list(selected)\n",
    "    list_points=set(points)-set(selected)\n",
    "    distance,point=min([(get_distance(chosen_p,p)+min_distance(p,tuple(sorted(selected+[p],key=points.index) ))[0],p) for p in list_points ],key=lambda x:x[0])\n",
    "    last_selected=sorted(list(set(selected)-set(chosen_p)),key=selected.index)\n",
    "    if last_selected  in solution:\n",
    "        for x in solution:\n",
    "            if x==last_selected:\n",
    "                x=selected\n",
    "    else:\n",
    "        solution.append(selected)\n",
    "    return distance,point\n",
    "\n",
    "distance,point=min_distance(chosen_p,selected)\n",
    "for x in solution:\n",
    "    if sorted([point]+x,key=points.index)==points:\n",
    "        path=[chosen_p]+[point]+x\n",
    "plt.scatter([chosen_p[0]], [chosen_p[1]], color='g')\n",
    "plt.scatter(latitudes, longitude, color='r')\n",
    "for k,v in enumerate(path):\n",
    "    if k<len(path)-1:\n",
    "        x,y=v\n",
    "        x_1,y_1=path[k+1]\n",
    "        plt.plot([x,x_1],[y,y_1], color='b')\n",
    "end=time.clock()\n",
    "print(\"运行时间：{}s\".format(end-start))"
   ]
  },
  {
   "cell_type": "code",
   "execution_count": null,
   "metadata": {
    "collapsed": true
   },
   "outputs": [],
   "source": []
  }
 ],
 "metadata": {
  "kernelspec": {
   "display_name": "Python 3",
   "language": "python",
   "name": "python3"
  },
  "language_info": {
   "codemirror_mode": {
    "name": "ipython",
    "version": 3
   },
   "file_extension": ".py",
   "mimetype": "text/x-python",
   "name": "python",
   "nbconvert_exporter": "python",
   "pygments_lexer": "ipython3",
   "version": "3.6.3"
  },
  "toc": {
   "base_numbering": 1,
   "nav_menu": {},
   "number_sections": true,
   "sideBar": true,
   "skip_h1_title": false,
   "title_cell": "Table of Contents",
   "title_sidebar": "Contents",
   "toc_cell": true,
   "toc_position": {},
   "toc_section_display": true,
   "toc_window_display": false
  }
 },
 "nbformat": 4,
 "nbformat_minor": 2
}
