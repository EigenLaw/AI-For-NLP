{
 "cells": [
  {
   "cell_type": "markdown",
   "metadata": {
    "toc": true
   },
   "source": [
    "<h1>Table of Contents<span class=\"tocSkip\"></span></h1>\n",
    "<div class=\"toc\"><ul class=\"toc-item\"><li><span><a href=\"#Assignment-02,-Probability-Model-A-First-Look:-An-Introduction-of-Language-Model\" data-toc-modified-id=\"Assignment-02,-Probability-Model-A-First-Look:-An-Introduction-of-Language-Model-1\"><span class=\"toc-item-num\">1&nbsp;&nbsp;</span>Assignment-02, Probability Model A First Look: An Introduction of Language Model</a></span><ul class=\"toc-item\"><li><span><a href=\"#Assignment\" data-toc-modified-id=\"Assignment-1.1\"><span class=\"toc-item-num\">1.1&nbsp;&nbsp;</span>Assignment</a></span></li><li><span><a href=\"#Review-the-course-online-programming-code.\" data-toc-modified-id=\"Review-the-course-online-programming-code.-1.2\"><span class=\"toc-item-num\">1.2&nbsp;&nbsp;</span>Review the course online programming code.</a></span><ul class=\"toc-item\"><li><span><a href=\"#Use-Requests-and-Regular-expression\" data-toc-modified-id=\"Use-Requests-and-Regular-expression-1.2.1\"><span class=\"toc-item-num\">1.2.1&nbsp;&nbsp;</span>Use Requests and Regular expression</a></span></li><li><span><a href=\"#Language-Model\" data-toc-modified-id=\"Language-Model-1.2.2\"><span class=\"toc-item-num\">1.2.2&nbsp;&nbsp;</span>Language Model</a></span></li><li><span><a href=\"#Get-the-frequences-of-words\" data-toc-modified-id=\"Get-the-frequences-of-words-1.2.3\"><span class=\"toc-item-num\">1.2.3&nbsp;&nbsp;</span>Get the frequences of words</a></span></li><li><span><a href=\"#Unigram-Model\" data-toc-modified-id=\"Unigram-Model-1.2.4\"><span class=\"toc-item-num\">1.2.4&nbsp;&nbsp;</span>Unigram Model</a></span></li><li><span><a href=\"#2-Gram-Model\" data-toc-modified-id=\"2-Gram-Model-1.2.5\"><span class=\"toc-item-num\">1.2.5&nbsp;&nbsp;</span>2-Gram Model</a></span></li><li><span><a href=\"#Review-the-problem-using-2-gram\" data-toc-modified-id=\"Review-the-problem-using-2-gram-1.2.6\"><span class=\"toc-item-num\">1.2.6&nbsp;&nbsp;</span>Review the problem using 2-gram</a></span></li></ul></li><li><span><a href=\"#Review-the-main-points-of-this-lesson.\" data-toc-modified-id=\"Review-the-main-points-of-this-lesson.-1.3\"><span class=\"toc-item-num\">1.3&nbsp;&nbsp;</span>Review the main points of this lesson.</a></span></li><li><span><a href=\"#Using-Wikipedia-dataset-to-finish-the-language-model.\" data-toc-modified-id=\"Using-Wikipedia-dataset-to-finish-the-language-model.-1.4\"><span class=\"toc-item-num\">1.4&nbsp;&nbsp;</span>Using Wikipedia dataset to finish the language model.</a></span><ul class=\"toc-item\"><li><span><a href=\"#Read-all-separated-wiki-files\" data-toc-modified-id=\"Read-all-separated-wiki-files-1.4.1\"><span class=\"toc-item-num\">1.4.1&nbsp;&nbsp;</span>Read all separated wiki files</a></span></li><li><span><a href=\"#繁体转简体并分词\" data-toc-modified-id=\"繁体转简体并分词-1.4.2\"><span class=\"toc-item-num\">1.4.2&nbsp;&nbsp;</span>繁体转简体并分词</a></span></li><li><span><a href=\"#读取之前保存的分词结果\" data-toc-modified-id=\"读取之前保存的分词结果-1.4.3\"><span class=\"toc-item-num\">1.4.3&nbsp;&nbsp;</span>读取之前保存的分词结果</a></span></li><li><span><a href=\"#Get-the-frequences-of-words\" data-toc-modified-id=\"Get-the-frequences-of-words-1.4.4\"><span class=\"toc-item-num\">1.4.4&nbsp;&nbsp;</span>Get the frequences of words</a></span></li><li><span><a href=\"#Step3---Unigram-Model\" data-toc-modified-id=\"Step3---Unigram-Model-1.4.5\"><span class=\"toc-item-num\">1.4.5&nbsp;&nbsp;</span>Step3 - Unigram Model</a></span></li><li><span><a href=\"#2-Gram-Model\" data-toc-modified-id=\"2-Gram-Model-1.4.6\"><span class=\"toc-item-num\">1.4.6&nbsp;&nbsp;</span>2-Gram Model</a></span></li><li><span><a href=\"#Step4-Test-the-model\" data-toc-modified-id=\"Step4-Test-the-model-1.4.7\"><span class=\"toc-item-num\">1.4.7&nbsp;&nbsp;</span>Step4 Test the model</a></span></li><li><span><a href=\"#Step5\" data-toc-modified-id=\"Step5-1.4.8\"><span class=\"toc-item-num\">1.4.8&nbsp;&nbsp;</span>Step5</a></span></li><li><span><a href=\"#Compared-to-the-previous-learned-parsing-and-pattern-match-problems.-What's-the-advantage-and-disavantage-of-Probability-Based-Methods?\" data-toc-modified-id=\"Compared-to-the-previous-learned-parsing-and-pattern-match-problems.-What's-the-advantage-and-disavantage-of-Probability-Based-Methods?-1.4.9\"><span class=\"toc-item-num\">1.4.9&nbsp;&nbsp;</span>Compared to the previous learned parsing and pattern match problems. What's the advantage and disavantage of Probability Based Methods?</a></span></li></ul></li><li><span><a href=\"#(Optional)--How-to-solve-OOV-problem?\" data-toc-modified-id=\"(Optional)--How-to-solve-OOV-problem?-1.5\"><span class=\"toc-item-num\">1.5&nbsp;&nbsp;</span>(Optional)  How to solve <em>OOV</em> problem?</a></span></li></ul></li></ul></div>"
   ]
  },
  {
   "cell_type": "markdown",
   "metadata": {},
   "source": [
    "# Assignment-02, Probability Model A First Look: An Introduction of Language Model"
   ]
  },
  {
   "cell_type": "markdown",
   "metadata": {},
   "source": [
    "## Assignment\n",
    "\n",
    "1. Review the course online programming code; \n",
    "2. Review the main questions; \n",
    "3. Using wikipedia corpus to build a language model. "
   ]
  },
  {
   "cell_type": "markdown",
   "metadata": {},
   "source": [
    "## Review the course online programming code. "
   ]
  },
  {
   "cell_type": "markdown",
   "metadata": {},
   "source": [
    "*In this part, you should re-code the programming task in our online course.*\n",
    "\n",
    "> \n",
    "> \n",
    "\n",
    "> \n",
    "> \n",
    "\n",
    "\n",
    "\n"
   ]
  },
  {
   "cell_type": "markdown",
   "metadata": {},
   "source": [
    "### Use Requests and Regular expression"
   ]
  },
  {
   "cell_type": "code",
   "execution_count": 2,
   "metadata": {},
   "outputs": [
    {
     "data": {
      "text/plain": [
       "['https://img3.doubanio.com/view/photo/s_ratio_poster/public/p2551353482.jpg',\n",
       " 'https://img3.doubanio.com/view/photo/s_ratio_poster/public/p2551249211.jpg',\n",
       " 'https://img3.doubanio.com/view/photo/s_ratio_poster/public/p2552522615.jpg',\n",
       " 'https://img3.doubanio.com/view/photo/s_ratio_poster/public/p2551172384.jpg',\n",
       " 'https://img3.doubanio.com/view/photo/s_ratio_poster/public/p2549234765.jpg']"
      ]
     },
     "execution_count": 2,
     "metadata": {},
     "output_type": "execute_result"
    }
   ],
   "source": [
    "import re\n",
    "import requests\n",
    "import matplotlib.pyplot as plt\n",
    "url = \"https://movie.douban.com/\"\n",
    "total = requests.get(url).text\n",
    "pattern1 = re.compile(\"https://movie.douban.com/subject/\\d+/\\?from=showing\")\n",
    "pattern2 = re.compile(\"https://img3.doubanio.com/view/photo/s_ratio_poster/public/p\\d+.jpg\")\n",
    "pattern2.findall(total)[:5]"
   ]
  },
  {
   "cell_type": "markdown",
   "metadata": {},
   "source": [
    "![](https://img3.doubanio.com/view/photo/s_ratio_poster/public/p2541240741.jpg)"
   ]
  },
  {
   "cell_type": "markdown",
   "metadata": {},
   "source": [
    "> 正则表达式的练习在线网址: https://regexone.com/"
   ]
  },
  {
   "cell_type": "markdown",
   "metadata": {},
   "source": [
    "### Language Model"
   ]
  },
  {
   "cell_type": "code",
   "execution_count": 4,
   "metadata": {},
   "outputs": [
    {
     "name": "stdout",
     "output_type": "stream",
     "text": [
      "length of text: 33338928\n"
     ]
    }
   ],
   "source": [
    "import numpy as np\n",
    "import pandas as pd\n",
    "import re\n",
    "\n",
    "def token(string):\n",
    "    \"\"\"\n",
    "    return only words and numbers in string\n",
    "    \"\"\"\n",
    "    return ''.join(re.findall('[\\w|\\d+]',string))\n",
    "\n",
    "mydata = pd.read_csv(\"mydata/sqlResult_1558435.csv\", encoding = \"gb18030\")\n",
    "\n",
    "all_articles = [token(str(a)) for a in mydata.content.tolist()]\n",
    "\n",
    "text =''\n",
    "for a in all_articles:\n",
    "    text += a\n",
    "print('length of text: {}'.format(len(text)))"
   ]
  },
  {
   "cell_type": "code",
   "execution_count": 5,
   "metadata": {
    "collapsed": true
   },
   "outputs": [],
   "source": [
    "import jieba\n",
    "def cut(string): return list(jieba.cut(string))"
   ]
  },
  {
   "cell_type": "code",
   "execution_count": null,
   "metadata": {
    "collapsed": true
   },
   "outputs": [],
   "source": [
    "TEXT = text\n",
    "ALL_TOKENS = cut(TEXT)"
   ]
  },
  {
   "cell_type": "code",
   "execution_count": 6,
   "metadata": {
    "collapsed": true
   },
   "outputs": [],
   "source": [
    "# with open('ALL_TOKENS.txt','w') as file:\n",
    "#     file.write(str(ALL_TOKENS))\n",
    "# with open('ALL_TOKENS.txt','r') as file:\n",
    "#     ALL_TOKENS=file.read()\n",
    "\n",
    "# ALL_TOKENS=ALL_TOKENS.replace(\"'\",\"\").replace(\"[\",\"\").replace(\"]\",\"\").split(', ')"
   ]
  },
  {
   "cell_type": "code",
   "execution_count": 7,
   "metadata": {},
   "outputs": [
    {
     "name": "stdout",
     "output_type": "stream",
     "text": [
      "17526006\n",
      "17147550\n"
     ]
    }
   ],
   "source": [
    "all_articles = [token(str(a)) for a in mydata.content.tolist()]\n",
    "\n",
    "valida_tokens = [t for t in ALL_TOKENS if t.strip() and t!= 'n']\n",
    "print(len(ALL_TOKENS))\n",
    "print(len(valida_tokens))"
   ]
  },
  {
   "cell_type": "markdown",
   "metadata": {},
   "source": [
    "### Get the frequences of words"
   ]
  },
  {
   "cell_type": "code",
   "execution_count": 9,
   "metadata": {
    "collapsed": true
   },
   "outputs": [],
   "source": [
    "from collections import Counter\n",
    "words_count = Counter(valida_tokens)"
   ]
  },
  {
   "cell_type": "code",
   "execution_count": 10,
   "metadata": {},
   "outputs": [
    {
     "data": {
      "text/plain": [
       "Counter({0: 1, 1: 3, 2: 3, 3: 1})"
      ]
     },
     "execution_count": 10,
     "metadata": {},
     "output_type": "execute_result"
    }
   ],
   "source": [
    "Counter([1, 1, 2, 2, 2, 3, 1, 0])"
   ]
  },
  {
   "cell_type": "code",
   "execution_count": 11,
   "metadata": {},
   "outputs": [
    {
     "data": {
      "text/plain": [
       "[('的', 703715),\n",
       " ('在', 263597),\n",
       " ('月', 189330),\n",
       " ('日', 166267),\n",
       " ('新华社', 142462),\n",
       " ('和', 134061),\n",
       " ('年', 123105),\n",
       " ('了', 121939),\n",
       " ('是', 100912),\n",
       " ('１', 88187)]"
      ]
     },
     "execution_count": 11,
     "metadata": {},
     "output_type": "execute_result"
    }
   ],
   "source": [
    "words_count.most_common(10)"
   ]
  },
  {
   "cell_type": "code",
   "execution_count": 12,
   "metadata": {
    "collapsed": true
   },
   "outputs": [],
   "source": [
    "frequences = [f for w, f in words_count.most_common(100)]\n",
    "x = [i for i in range(len(frequences[:100]))]"
   ]
  },
  {
   "cell_type": "code",
   "execution_count": 13,
   "metadata": {},
   "outputs": [
    {
     "data": {
      "text/plain": [
       "[<matplotlib.lines.Line2D at 0x19f03cc0>]"
      ]
     },
     "execution_count": 13,
     "metadata": {},
     "output_type": "execute_result"
    },
    {
     "data": {
      "image/png": "[encoded data removed]",
      "text/plain": [
       "<matplotlib.figure.Figure at 0xb610f60>"
      ]
     },
     "metadata": {},
     "output_type": "display_data"
    }
   ],
   "source": [
    "import matplotlib.pyplot as plt\n",
    "%matplotlib inline\n",
    "\n",
    "plt.plot(x, frequences)"
   ]
  },
  {
   "cell_type": "code",
   "execution_count": 14,
   "metadata": {},
   "outputs": [
    {
     "data": {
      "text/plain": [
       "[<matplotlib.lines.Line2D at 0x1bbadbe0>]"
      ]
     },
     "execution_count": 14,
     "metadata": {},
     "output_type": "execute_result"
    },
    {
     "data": {
      "image/png": "[encoded data removed]",
      "text/plain": [
       "<matplotlib.figure.Figure at 0x19ed52b0>"
      ]
     },
     "metadata": {},
     "output_type": "display_data"
    }
   ],
   "source": [
    "plt.plot(x, np.log(frequences))"
   ]
  },
  {
   "cell_type": "code",
   "execution_count": 15,
   "metadata": {},
   "outputs": [
    {
     "data": {
      "text/plain": [
       "5.831736895358229e-08"
      ]
     },
     "execution_count": 15,
     "metadata": {},
     "output_type": "execute_result"
    }
   ],
   "source": [
    "frequences_all = [f for w, f in words_count.most_common()]\n",
    "frequences_sum = sum(frequences_all)\n",
    "1 / frequences_sum"
   ]
  },
  {
   "cell_type": "code",
   "execution_count": 16,
   "metadata": {},
   "outputs": [
    {
     "data": {
      "text/plain": [
       "0.0011652976664304814"
      ]
     },
     "execution_count": 16,
     "metadata": {},
     "output_type": "execute_result"
    }
   ],
   "source": [
    "def get_prob(word): \n",
    "    esp = 1 / frequences_sum\n",
    "    if word in words_count: \n",
    "        return words_count[word] / frequences_sum\n",
    "    else:\n",
    "        return esp\n",
    "    \n",
    "get_prob('我们')"
   ]
  },
  {
   "cell_type": "markdown",
   "metadata": {},
   "source": [
    "### Unigram Model"
   ]
  },
  {
   "cell_type": "code",
   "execution_count": 17,
   "metadata": {},
   "outputs": [
    {
     "data": {
      "text/plain": [
       "240"
      ]
     },
     "execution_count": 17,
     "metadata": {},
     "output_type": "execute_result"
    }
   ],
   "source": [
    "from functools import reduce\n",
    "def product(numbers):\n",
    "    return reduce(lambda n1, n2: n1 * n2, numbers)\n",
    "\n",
    "product([1, 2, 3, 4, 10])"
   ]
  },
  {
   "cell_type": "code",
   "execution_count": 18,
   "metadata": {
    "collapsed": true
   },
   "outputs": [],
   "source": [
    "def language_model_one_gram(string):\n",
    "    words = cut(string)\n",
    "    return product([get_prob(w) for w in words])"
   ]
  },
  {
   "cell_type": "code",
   "execution_count": 19,
   "metadata": {},
   "outputs": [
    {
     "name": "stderr",
     "output_type": "stream",
     "text": [
      "Building prefix dict from the default dictionary ...\n",
      "Loading model from cache C:\\Users\\CHRIST~1\\AppData\\Local\\Temp\\jieba.cache\n",
      "Loading model cost 1.118 seconds.\n",
      "Prefix dict has been built succesfully.\n"
     ]
    },
    {
     "name": "stdout",
     "output_type": "stream",
     "text": [
      "这是一个比较正常的句子 6.951281725653128e-22\n",
      "这个一个比较罕见的句子 1.8027974155493477e-22\n",
      "小明毕业于清华大学 2.73868286524123e-18\n",
      "小明毕业于秦华大学 5.256325018795704e-24\n"
     ]
    }
   ],
   "source": [
    "sentences = \"\"\"\n",
    "这是一个比较正常的句子\n",
    "这个一个比较罕见的句子\n",
    "小明毕业于清华大学\n",
    "小明毕业于秦华大学\n",
    "\"\"\".split()\n",
    "\n",
    "for s in sentences:\n",
    "    print(s, language_model_one_gram(s))"
   ]
  },
  {
   "cell_type": "code",
   "execution_count": 20,
   "metadata": {},
   "outputs": [
    {
     "name": "stdout",
     "output_type": "stream",
     "text": [
      "明天晚上请你吃大餐，我们一起吃苹果 is more possible\n",
      "---- 今天晚上请你吃大餐，我们一起吃日料 with probility 6.326552988102628e-50\n",
      "---- 明天晚上请你吃大餐，我们一起吃苹果 with probility 5.1598305491460503e-48\n",
      "真是一只好看的小猫 is more possible\n",
      "---- 真事一只好看的小猫 with probility 2.649334414108739e-25\n",
      "---- 真是一只好看的小猫 with probility 1.1304372411181555e-21\n",
      "今晚我去吃火锅 is more possible\n",
      "---- 我去吃火锅，今晚 with probility 6.918567934898121e-26\n",
      "---- 今晚我去吃火锅 with probility 1.1863648959206229e-18\n"
     ]
    }
   ],
   "source": [
    "need_compared = [\n",
    "    \"今天晚上请你吃大餐，我们一起吃日料 明天晚上请你吃大餐，我们一起吃苹果\",\n",
    "    \"真事一只好看的小猫 真是一只好看的小猫\",\n",
    "    \"我去吃火锅，今晚 今晚我去吃火锅\"\n",
    "]\n",
    "\n",
    "for s in need_compared:\n",
    "    s1, s2 = s.split()\n",
    "    p1, p2 = language_model_one_gram(s1), language_model_one_gram(s2)\n",
    "    \n",
    "    better = s1 if p1 > p2 else s2\n",
    "    \n",
    "    print('{} is more possible'.format(better))\n",
    "    print('-'*4 + ' {} with probility {}'.format(s1, p1))\n",
    "    print('-'*4 + ' {} with probility {}'.format(s2, p2))"
   ]
  },
  {
   "cell_type": "markdown",
   "metadata": {},
   "source": [
    "### 2-Gram Model"
   ]
  },
  {
   "cell_type": "markdown",
   "metadata": {},
   "source": [
    "$$ Pr(S) = Pr(w_1\\cdot w_2 \\cdots w_n) \\sim Pr(w_1) \\cdot Pr(w_2 | w_1) \\cdots Pr(w_n | w_{n-1})$$\n",
    "\n",
    "$$ Pr(w_2 | w_1) =  \\frac { Pr(w_1 \\cdot w_2) }{Pr(w_1)} $$ \n"
   ]
  },
  {
   "cell_type": "code",
   "execution_count": 21,
   "metadata": {
    "collapsed": true
   },
   "outputs": [],
   "source": [
    "valid_tokens = [str(t) for t in valida_tokens] \n",
    "all_2_grams_words = [''.join(valid_tokens[i:i+2]) for i in range(len(valid_tokens[:-2]))]\n",
    "_2_gram_sum = len(all_2_grams_words)\n",
    "_2_gram_counter = Counter(all_2_grams_words)\n",
    "\n",
    "def get_combination_prob(w1, w2):\n",
    "    if w1 + w2 in _2_gram_counter: return _2_gram_counter[w1+w2] / _2_gram_sum\n",
    "    else:\n",
    "        return 1 / _2_gram_sum"
   ]
  },
  {
   "cell_type": "code",
   "execution_count": 22,
   "metadata": {},
   "outputs": [
    {
     "data": {
      "text/plain": [
       "1.8078386484178378e-06"
      ]
     },
     "execution_count": 22,
     "metadata": {},
     "output_type": "execute_result"
    }
   ],
   "source": [
    "get_combination_prob('去', '北京')"
   ]
  },
  {
   "cell_type": "code",
   "execution_count": 23,
   "metadata": {},
   "outputs": [
    {
     "data": {
      "text/plain": [
       "1.749521272662424e-07"
      ]
     },
     "execution_count": 23,
     "metadata": {},
     "output_type": "execute_result"
    }
   ],
   "source": [
    "get_combination_prob( '北京','去')"
   ]
  },
  {
   "cell_type": "code",
   "execution_count": 24,
   "metadata": {},
   "outputs": [
    {
     "name": "stdout",
     "output_type": "stream",
     "text": [
      "0.0007037298498485233\n",
      "0.004363125069060844\n"
     ]
    }
   ],
   "source": [
    "def get_prob_2_gram(w1, w2):\n",
    "    return get_combination_prob(w1, w2) / get_prob(w1)\n",
    "\n",
    "print(get_prob_2_gram('去', '沈阳'))\n",
    "print(get_prob_2_gram('去', '北京'))"
   ]
  },
  {
   "cell_type": "code",
   "execution_count": 25,
   "metadata": {
    "collapsed": true
   },
   "outputs": [],
   "source": [
    "from icecream import ic\n",
    "#调Bug常用工具"
   ]
  },
  {
   "cell_type": "code",
   "execution_count": 26,
   "metadata": {
    "collapsed": true
   },
   "outputs": [],
   "source": [
    "def langauge_model_of_2_gram(sentence):\n",
    "    sentence_probability = 1\n",
    "    \n",
    "    words = cut(sentence)\n",
    "    \n",
    "    for i, word in enumerate(words):\n",
    "        if i == 0: \n",
    "            prob = get_prob(word)\n",
    "        else:\n",
    "            previous = words[i-1]\n",
    "            prob = get_prob_2_gram(previous, word)\n",
    "        sentence_probability *= prob\n",
    "    \n",
    "    return sentence_probability"
   ]
  },
  {
   "cell_type": "code",
   "execution_count": 27,
   "metadata": {},
   "outputs": [
    {
     "name": "stdout",
     "output_type": "stream",
     "text": [
      "9.119929526793368e-12\n",
      "8.369467292866351e-15\n"
     ]
    }
   ],
   "source": [
    "print(langauge_model_of_2_gram('农民工坐火车去上海'))\n",
    "print(langauge_model_of_2_gram('农民工去上海坐火车'))"
   ]
  },
  {
   "cell_type": "markdown",
   "metadata": {},
   "source": [
    "### Review the problem using 2-gram"
   ]
  },
  {
   "cell_type": "code",
   "execution_count": 28,
   "metadata": {},
   "outputs": [
    {
     "name": "stdout",
     "output_type": "stream",
     "text": [
      "今天晚上请你吃大餐，我们一起吃日料 is more possible\n",
      "---- 今天晚上请你吃大餐，我们一起吃日料 with probility 6.733510460213917e-28\n",
      "---- 明天晚上请你吃大餐，我们一起吃苹果 with probility 5.386808368171131e-28\n",
      "真是一只好看的小猫 is more possible\n",
      "---- 真事一只好看的小猫 with probility 1.7745055189894016e-19\n",
      "---- 真是一只好看的小猫 with probility 3.451412831879709e-16\n",
      "今晚我去吃火锅 is more possible\n",
      "---- 今晚我去吃火锅 with probility 6.958414780242525e-14\n",
      "---- 今晚火锅去吃我 with probility 1.4057576096877225e-15\n",
      "养乐多绿来一杯 is more possible\n",
      "---- 洋葱奶昔来一杯 with probility 1.0846719865912803e-12\n",
      "---- 养乐多绿来一杯 with probility 5.8317382557246745e-08\n"
     ]
    }
   ],
   "source": [
    "need_compared = [\n",
    "    \"今天晚上请你吃大餐，我们一起吃日料 明天晚上请你吃大餐，我们一起吃苹果\",\n",
    "    \"真事一只好看的小猫 真是一只好看的小猫\",\n",
    "    \"今晚我去吃火锅 今晚火锅去吃我\",\n",
    "    \"洋葱奶昔来一杯 养乐多绿来一杯\"\n",
    "]\n",
    "\n",
    "for s in need_compared:\n",
    "    s1, s2 = s.split()\n",
    "    p1, p2 = langauge_model_of_2_gram(s1), langauge_model_of_2_gram(s2)\n",
    "    \n",
    "    better = s1 if p1 > p2 else s2\n",
    "    \n",
    "    print('{} is more possible'.format(better))\n",
    "    print('-'*4 + ' {} with probility {}'.format(s1, p1))\n",
    "    print('-'*4 + ' {} with probility {}'.format(s2, p2))"
   ]
  },
  {
   "cell_type": "code",
   "execution_count": 29,
   "metadata": {
    "collapsed": true
   },
   "outputs": [],
   "source": [
    "import random\n",
    "\n",
    "grammar = \"\"\"\n",
    "sentence => noun_phrase verb_phrase \n",
    "noun_phrase => Article Adj* noun belong \n",
    "belong => de property\n",
    "de => 的\n",
    "property => 眼睛 | 裙子 | 胳膊 | 尾巴\n",
    "Adj* => null | Adj Adj*\n",
    "verb_phrase => verb noun_phrase\n",
    "Article =>  一个 | 这个\n",
    "noun =>   女人 |  篮球 | 桌子 | 小猫\n",
    "verb => 看着   |  坐在 |  听着 | 看见\n",
    "Adj =>   蓝色的 |  好看的 | 小小的\n",
    "\"\"\"\n",
    "\n",
    "def parse_grammar(grammar_str, sep='=>'):\n",
    "    grammar = {}\n",
    "    for line in grammar_str.split('\\n'): \n",
    "        line = line.strip()\n",
    "        if not line: continue\n",
    "        \n",
    "        target, rules = line.split(sep)\n",
    "        \n",
    "        grammar[target.strip()] = [r.split() for r in rules.split('|')]\n",
    "    \n",
    "    return grammar\n",
    "\n",
    "def gene(grammar_parsed, target='sentence'):\n",
    "    if target not in grammar_parsed: return target\n",
    "    \n",
    "    rule = random.choice(grammar_parsed[target])\n",
    "    return ''.join(gene(grammar_parsed, target=r) for r in rule if r!='null')\n"
   ]
  },
  {
   "cell_type": "code",
   "execution_count": 51,
   "metadata": {
    "scrolled": true
   },
   "outputs": [
    {
     "data": {
      "text/plain": [
       "['一个女人的眼睛看见一个女人的胳膊',\n",
       " '这个小猫的尾巴坐在一个女人的眼睛',\n",
       " '这个女人的眼睛看着这个桌子的胳膊',\n",
       " '一个女人的胳膊看见一个桌子的裙子',\n",
       " '一个小小的女人的眼睛看见一个女人的胳膊',\n",
       " '这个女人的裙子看见一个篮球的眼睛',\n",
       " '一个女人的尾巴坐在这个桌子的胳膊',\n",
       " '一个桌子的裙子看见一个桌子的眼睛',\n",
       " '这个小小的桌子的尾巴坐在一个女人的眼睛',\n",
       " '这个小猫的眼睛看着这个桌子的胳膊',\n",
       " '这个篮球的胳膊看着这个女人的尾巴',\n",
       " '这个篮球的尾巴看着这个女人的裙子',\n",
       " '这个小猫的眼睛看见这个小小的女人的眼睛',\n",
       " '一个桌子的眼睛坐在这个女人的尾巴',\n",
       " '这个女人的眼睛坐在这个小猫的裙子',\n",
       " '一个小小的女人的胳膊听着一个女人的尾巴',\n",
       " '这个小小的小猫的眼睛看着这个篮球的眼睛',\n",
       " '一个篮球的眼睛看见一个小猫的胳膊',\n",
       " '这个小猫的尾巴坐在这个小猫的胳膊',\n",
       " '一个篮球的胳膊看见一个桌子的裙子',\n",
       " '这个女人的裙子看着一个篮球的尾巴',\n",
       " '一个小猫的眼睛听着一个小猫的眼睛',\n",
       " '一个桌子的胳膊听着一个桌子的胳膊',\n",
       " '一个篮球的胳膊坐在一个小猫的裙子',\n",
       " '一个篮球的裙子坐在一个篮球的胳膊',\n",
       " '一个桌子的眼睛坐在这个篮球的尾巴',\n",
       " '这个篮球的裙子坐在一个篮球的尾巴',\n",
       " '这个女人的眼睛听着这个篮球的尾巴',\n",
       " '这个桌子的胳膊看着一个小小的桌子的裙子',\n",
       " '这个女人的尾巴听着一个小小的篮球的裙子',\n",
       " '一个小猫的眼睛听着这个篮球的裙子',\n",
       " '这个小猫的裙子坐在这个小小的篮球的尾巴',\n",
       " '一个女人的眼睛看着一个好看的女人的胳膊',\n",
       " '这个桌子的眼睛坐在一个蓝色的小猫的眼睛',\n",
       " '一个蓝色的桌子的眼睛听着一个女人的眼睛',\n",
       " '一个女人的胳膊坐在这个蓝色的桌子的尾巴',\n",
       " '一个好看的小猫的胳膊听着一个女人的裙子',\n",
       " '一个桌子的眼睛坐在这个好看的桌子的眼睛',\n",
       " '一个蓝色的桌子的裙子看见这个小猫的胳膊',\n",
       " '这个小小的蓝色的小猫的胳膊看见这个女人的裙子',\n",
       " '这个小小的蓝色的女人的胳膊坐在这个女人的尾巴',\n",
       " '一个桌子的裙子看见一个蓝色的桌子的胳膊',\n",
       " '这个蓝色的桌子的尾巴看着一个女人的尾巴',\n",
       " '一个小猫的裙子坐在这个小小的蓝色的女人的胳膊',\n",
       " '一个小小的小猫的眼睛看着这个蓝色的桌子的胳膊',\n",
       " '这个蓝色的小猫的裙子坐在一个小猫的尾巴',\n",
       " '一个篮球的胳膊听着一个好看的桌子的眼睛',\n",
       " '一个好看的桌子的胳膊听着一个篮球的眼睛',\n",
       " '这个小小的女人的尾巴听着一个小小的小小的篮球的尾巴',\n",
       " '一个小小的好看的篮球的胳膊看见一个篮球的胳膊',\n",
       " '这个蓝色的蓝色的女人的胳膊看着这个女人的眼睛',\n",
       " '这个好看的女人的尾巴听着这个篮球的裙子',\n",
       " '一个小小的好看的篮球的眼睛坐在一个小猫的尾巴',\n",
       " '这个小猫的胳膊听着一个蓝色的小猫的裙子',\n",
       " '一个小猫的胳膊坐在这个小小的蓝色的桌子的尾巴',\n",
       " '一个小小的好看的篮球的尾巴听着一个桌子的裙子',\n",
       " '一个蓝色的小猫的胳膊听着这个小小的桌子的裙子',\n",
       " '这个桌子的眼睛看着这个小小的蓝色的小小的小猫的眼睛',\n",
       " '一个蓝色的篮球的胳膊看见这个蓝色的女人的眼睛',\n",
       " '这个蓝色的小小的桌子的胳膊看见这个篮球的裙子',\n",
       " '这个蓝色的蓝色的篮球的眼睛看见这个女人的裙子',\n",
       " '一个好看的蓝色的桌子的胳膊坐在这个小猫的眼睛',\n",
       " '一个桌子的胳膊看见一个小小的好看的蓝色的小猫的眼睛',\n",
       " '一个桌子的胳膊听着这个小小的小小的蓝色的桌子的胳膊',\n",
       " '一个小小的蓝色的小猫的尾巴坐在一个好看的篮球的眼睛',\n",
       " '一个好看的小猫的眼睛听着一个蓝色的女人的尾巴',\n",
       " '一个蓝色的好看的小猫的裙子看见这个篮球的裙子',\n",
       " '这个蓝色的好看的篮球的胳膊听着这个小猫的胳膊',\n",
       " '这个小猫的裙子听着这个小小的蓝色的好看的女人的裙子',\n",
       " '这个小小的小小的好看的好看的小猫的裙子看见这个女人的尾巴',\n",
       " '一个好看的蓝色的小猫的尾巴看见这个好看的篮球的眼睛',\n",
       " '一个好看的小小的篮球的眼睛看着这个好看的桌子的裙子',\n",
       " '一个好看的小小的女人的眼睛看着一个蓝色的小猫的尾巴',\n",
       " '这个小小的蓝色的小小的女人的眼睛看着一个好看的女人的尾巴',\n",
       " '这个小小的小小的好看的蓝色的桌子的胳膊坐在一个篮球的尾巴',\n",
       " '一个小小的篮球的眼睛坐在这个好看的小小的好看的女人的裙子',\n",
       " '这个好看的篮球的眼睛坐在一个蓝色的小小的篮球的尾巴',\n",
       " '这个桌子的裙子看着这个好看的蓝色的好看的篮球的尾巴',\n",
       " '这个小小的小小的篮球的眼睛看着一个好看的好看的篮球的尾巴',\n",
       " '这个蓝色的蓝色的好看的小猫的胳膊听着这个女人的胳膊',\n",
       " '一个好看的蓝色的好看的女人的裙子听着一个小猫的裙子',\n",
       " '这个小小的蓝色的蓝色的篮球的胳膊坐在一个蓝色的桌子的胳膊',\n",
       " '一个小小的好看的好看的小小的小小的小猫的眼睛看见这个小猫的胳膊',\n",
       " '一个好看的小小的好看的小猫的眼睛坐在一个蓝色的小猫的眼睛',\n",
       " '一个好看的桌子的胳膊看见一个蓝色的小小的蓝色的女人的尾巴',\n",
       " '这个桌子的胳膊听着这个小小的蓝色的蓝色的好看的篮球的胳膊',\n",
       " '这个好看的女人的胳膊看见一个蓝色的蓝色的蓝色的桌子的裙子',\n",
       " '这个小小的小小的好看的蓝色的篮球的尾巴坐在这个好看的桌子的裙子',\n",
       " '一个好看的好看的蓝色的女人的尾巴听着这个蓝色的篮球的胳膊',\n",
       " '一个蓝色的好看的小猫的胳膊看见这个小小的小小的小小的蓝色的桌子的裙子',\n",
       " '一个小猫的眼睛看见这个小小的蓝色的好看的小小的小小的蓝色的小猫的裙子',\n",
       " '一个小小的好看的小小的蓝色的小小的好看的小猫的眼睛看见这个小小的女人的裙子',\n",
       " '一个好看的蓝色的好看的蓝色的女人的裙子坐在一个好看的小猫的胳膊',\n",
       " '这个蓝色的小小的好看的篮球的胳膊看见这个蓝色的好看的小猫的尾巴',\n",
       " '一个小小的好看的蓝色的蓝色的蓝色的蓝色的桌子的尾巴坐在一个小小的蓝色的女人的眼睛',\n",
       " '这个小小的好看的蓝色的好看的蓝色的小小的好看的女人的裙子看见这个好看的女人的裙子',\n",
       " '这个好看的蓝色的好看的小猫的尾巴听着一个蓝色的蓝色的小小的好看的女人的眼睛',\n",
       " '这个蓝色的蓝色的小小的小猫的眼睛听着一个小小的蓝色的蓝色的小小的好看的小小的篮球的尾巴',\n",
       " '一个蓝色的蓝色的蓝色的篮球的眼睛看见一个好看的小小的好看的小小的好看的蓝色的小猫的裙子',\n",
       " '一个蓝色的小小的好看的蓝色的女人的尾巴看见这个小小的好看的好看的蓝色的好看的蓝色的好看的桌子的胳膊']"
      ]
     },
     "execution_count": 51,
     "metadata": {},
     "output_type": "execute_result"
    }
   ],
   "source": [
    "g = parse_grammar(grammar)\n",
    "random_generated = [gene(g) for _ in range(100)]\n",
    "#\"|\" == > 'or'\n",
    "sorted(random_generated, key=langauge_model_of_2_gram, reverse=True)"
   ]
  },
  {
   "cell_type": "markdown",
   "metadata": {},
   "source": [
    "## Review the main points of this lesson. "
   ]
  },
  {
   "cell_type": "markdown",
   "metadata": {},
   "source": [
    "##### 1. How to Github and Why do we use Jupyter and Pycharm; "
   ]
  },
  {
   "cell_type": "markdown",
   "metadata": {},
   "source": [
    "__Ans:__\n",
    "\n",
    "* [Official Reference](https://guides.github.com/activities/hello-world/)\n",
    "\n",
    "git init   #在工程文件夹下，对文件初始化\n",
    "\n",
    "git remote add origin https://github.com/EigenLaw/AI-For-NLP   #将本地文件和远端关联\n",
    "\n",
    "git status   #查看本地操作的变化\n",
    "\n",
    "git add *    #将本地更改生效\n",
    "\n",
    "git commit -m ‘first_commit’   #将本地更改生效\n",
    "\n",
    "git push origin master - - force    #将本地更改推送到远端\n",
    "\n",
    "* We can use Jupyter to do anything we want, and Pycharm is more functional as a professional engineer tool.\n"
   ]
  },
  {
   "cell_type": "markdown",
   "metadata": {},
   "source": [
    "##### 2. What's the Probability Model?"
   ]
  },
  {
   "cell_type": "markdown",
   "metadata": {},
   "source": [
    "__Ans:__\n",
    "\n",
    "[Probability Model - From Wiki Pedia](https://en.wikipedia.org/wiki/Statistical_model)\n",
    "> A probability(statistical) model is a mathematical model that embodies a set of statistical assumptions concerning the generation of sample data (and similar data from a larger population). A statistical model represents, often in considerably idealized form, the data-generating process."
   ]
  },
  {
   "cell_type": "markdown",
   "metadata": {},
   "source": [
    "##### 3. Can you came up with some sceneries at which we could use Probability Model?"
   ]
  },
  {
   "cell_type": "markdown",
   "metadata": {},
   "source": [
    "__Ans:__\n",
    "\n",
    "> Y(X)的经典sceneries\n",
    "\n",
    "* X:名义变量 Y:名义变量 - 列联表分析模型 example:吸烟是否会导致癌症\n",
    "\n",
    "* X:名义变量 Y:数值变量 - Dummy Regressional Model example:节假日是否会导致超市销量增加\n",
    "\n",
    "* X:数值变量 Y:名义变量 - Logistic Regressional Model example: 候选人财富值是否会导致选举成功\n",
    "\n",
    "* X:数值变量 Y:数值变量 - (Multi)Linear Regressional Model example: numerous"
   ]
  },
  {
   "cell_type": "markdown",
   "metadata": {},
   "source": [
    "##### 4. Why do we use probability and what's the difficult points for programming based on parsing and pattern match? \n"
   ]
  },
  {
   "cell_type": "markdown",
   "metadata": {},
   "source": [
    "__Ans:__\n",
    "\n",
    "[From Wiki Pedia](https://en.m.wikipedia.org/wiki/Probabilistic_context-free_grammar)\n",
    "\n",
    ">(1) Why do we use probability?\n",
    "\n",
    "- aim to understand the structure of natural languages\n",
    "- for large problems it is convenient to learn parameters of probability model via machine learning\n",
    "\n",
    ">(2) What's the difficult points for programming based on parsing and pattern match?\n",
    "\n",
    "- Grammar parsing algorithms have various time and memory requirements\n",
    "- The model has to weigh factors of scalability and generality\n",
    "- Issues such as grammar ambiguity must be resolved and the grammar design affects results accuracy"
   ]
  },
  {
   "cell_type": "markdown",
   "metadata": {},
   "source": [
    "##### 5. What's the Language Model;"
   ]
  },
  {
   "cell_type": "markdown",
   "metadata": {},
   "source": [
    "__Ans:__\n",
    "\n",
    "[From Wiki Pedia](https://en.m.wikipedia.org/wiki/Language_model)\n",
    "\n",
    "> A statistical language model is a probability distribution over sequences of words. Given such a sequence, say of length m, it assigns a probability $ P(w_{1},w_{2},\\dots ,w_{m}) $ to the whole sequence."
   ]
  },
  {
   "cell_type": "markdown",
   "metadata": {},
   "source": [
    "#####  6. Can you came up with some sceneraies at which we could use Language Model?"
   ]
  },
  {
   "cell_type": "markdown",
   "metadata": {},
   "source": [
    "__Ans:__\n",
    "\n",
    "统计语言模型是一个单词序列上的概率分布，对于一个给定长度为m的序列，它可以为整个序列产生一个概率$ P(w_{1},w_{2},\\dots,w_{m})$。其实就是想办法找到一个概率分布，它可以表示任意一个句子或序列出现的概率。\n",
    "目前在自然语言处理相关应用非常广泛，如语音识别(speech recognition) , 机器翻译(machine translation), 词性标注(part-of-speech tagging), 句法分析(parsing)等。\n",
    "\n",
    "\n",
    "\n",
    "[原文](https://blog.csdn.net/huanghaocs/article/details/77935556 )"
   ]
  },
  {
   "cell_type": "markdown",
   "metadata": {},
   "source": [
    "##### 7. What's the 1-gram language model;"
   ]
  },
  {
   "cell_type": "markdown",
   "metadata": {},
   "source": [
    "__Ans:__\n",
    "\n",
    "Unigram models也即一元文法模型，它是一种上下文无关模型。该模型仅仅考虑当前词本身出现的概率，而不考虑当前词的上下文环境。概率形式为\n",
    "$$ P(w_1,w_2,\\dots,w_m)=P(w_1)\\cdot P(w_2)\\cdot \\cdots \\cdot P(w_m) $$即一个句子出现的概率等于句子中每个单词概率乘积。"
   ]
  },
  {
   "cell_type": "markdown",
   "metadata": {},
   "source": [
    "##### 8. What's the disadvantages and advantages of 1-gram language model;"
   ]
  },
  {
   "cell_type": "markdown",
   "metadata": {},
   "source": [
    "__Ans:__\n",
    "\n",
    "> __Cons:__\n",
    "\n",
    "* 无法判断句子的连贯性与合理性\n",
    "* 受极端词（两个极端：常用的词和罕见的词）的影响较大\n",
    "* 短句概率大于长句概率\n",
    "\n",
    "> __Pros:__\n",
    "\n",
    "* 简单快速地得出一个句子的概率"
   ]
  },
  {
   "cell_type": "markdown",
   "metadata": {},
   "source": [
    "##### 9.  What't the 2-gram models; "
   ]
  },
  {
   "cell_type": "markdown",
   "metadata": {},
   "source": [
    "__Ans:__\n",
    "\n",
    "二元文法模型局部地考虑到上下文环境，即考虑前一个词和后一个词的关联性。先计算在$w_{i}$词出现条件下($w_{i}$ $w_{i+1}$)词组出现的概率$p_{i}$，再计算所有$p_{i}$的乘积，概率形式为：\n",
    "\n",
    "$$ Pr(S) = Pr(w_1\\cdot w_2 \\cdots w_n) \\sim Pr(w_1) \\cdot Pr(w_2 | w_1) \\cdots Pr(w_n | w_{n-1})$$\n",
    "\n",
    "$$ Pr(w_2 | w_1) =  \\frac { Pr(w_1 \\cdot w_2) }{Pr(w_1)} $$ \n",
    "\n"
   ]
  },
  {
   "cell_type": "markdown",
   "metadata": {},
   "source": [
    "##### 10. what's the web crawler, and can you implement a simple crawler? "
   ]
  },
  {
   "cell_type": "markdown",
   "metadata": {},
   "source": [
    "__Ans:__\n",
    "\n",
    "Web crawler is designed rule to crawl information in given or redirected website\n",
    "\n",
    "> for example:爬取妹子图片"
   ]
  },
  {
   "cell_type": "code",
   "execution_count": 2,
   "metadata": {},
   "outputs": [
    {
     "name": "stderr",
     "output_type": "stream",
     "text": [
      "C:\\Users\\Christopher_luole\\Anaconda3\\lib\\site-packages\\bs4\\__init__.py:181: UserWarning: No parser was explicitly specified, so I'm using the best available HTML parser for this system (\"lxml\"). This usually isn't a problem, but if you run this code on another system, or in a different virtual environment, it may use a different parser and behave differently.\n",
      "\n",
      "The code that caused this warning is on line 193 of the file C:\\Users\\Christopher_luole\\Anaconda3\\lib\\runpy.py. To get rid of this warning, change code that looks like this:\n",
      "\n",
      " BeautifulSoup(YOUR_MARKUP})\n",
      "\n",
      "to this:\n",
      "\n",
      " BeautifulSoup(YOUR_MARKUP, \"lxml\")\n",
      "\n",
      "  markup_type=markup_type))\n"
     ]
    }
   ],
   "source": [
    "#!/usr/bin/python\n",
    "#-*- coding: utf-8 -*-\n",
    "#encoding=utf-8\n",
    "\n",
    "import urllib.request\n",
    "import urllib\n",
    "import os\n",
    "from bs4 import BeautifulSoup\n",
    "\n",
    "import string\n",
    "table=str.maketrans({key:None for key in string.punctuation})#remove ? / , .\n",
    "\n",
    "def getAllImageLink():\n",
    "    for i in range(0,2):#可以设为100页或更高\n",
    "        if i==0:\n",
    "            url=\"http://www.dbmeinv.com\"\n",
    "        else:\n",
    "            url=\"https://www.dbmeinv.com/?pager_offset=\"+str(i+1)\n",
    "        html = urllib.request .urlopen(url).read()\n",
    "        soup = BeautifulSoup(html)\n",
    "        liResult = soup.findAll('li',attrs={\"class\":\"span3\"})\n",
    "        \n",
    "\n",
    "        for li in liResult:\n",
    "            imageEntityArray = li.findAll('img')\n",
    "            for image in imageEntityArray:\n",
    "                link = image.get('src')\n",
    "                imageName = image.get('title')\n",
    "                imageName=imageName.translate(table)\n",
    "                filesavepath = \"%s.png\" % imageName\n",
    "                urllib.request.urlretrieve(link,filesavepath)\n",
    "                # print filesavepath\n",
    "\n",
    "\n",
    "if __name__ == '__main__':\n",
    "    getAllImageLink()"
   ]
  },
  {
   "cell_type": "markdown",
   "metadata": {},
   "source": [
    "##### 11.  There may be some issues to make our crwaler programming difficult, what are these, and how do we solve them?"
   ]
  },
  {
   "cell_type": "markdown",
   "metadata": {},
   "source": [
    "__Ans:__\n",
    "\n",
    "__difficulties and solutions__\n",
    "\n",
    "* 识别来访者浏览器等信息从而做出限制 - 通过武装post header来伪装指定身份\n",
    "* 验证码输入门槛 - 通过抓取验证码，Image2Words自动识别验证码，或者手动输入验证码\n",
    "* 目标信息隐藏（比如B站弹幕） - 查看事件流上css, js, xhr等变化，找到目标信息的来源\n",
    "* 多网页爬取 - 通过有序规律改写url，或者模仿点击“下一页”跳转页面\n",
    "* 限制点击频率 - 通过time.sleep来减缓点击频率\n",
    "* and so on"
   ]
  },
  {
   "cell_type": "markdown",
   "metadata": {},
   "source": [
    "##### 12. What't the Regular Expression and how to use?"
   ]
  },
  {
   "cell_type": "markdown",
   "metadata": {},
   "source": [
    "__Ans:__\n",
    "\n",
    "- [c,m,f]an: can, man, fan; [^b]og to skip bog\n",
    "- [^a-z]\\w+ skip lower case begined string; \\w means [A-Za-z0-9]; \\d means [0-9]\n",
    "- z{3} match z three times: uzzz, wuzzzz; .{2,6} match string with length of 2-6\n",
    "- \\? match ?\n",
    "- whitespace: space (␣), the tab (\\t), the new line (\\n) and the carriage return (\\r) \n",
    "- \\s will match any of the specific whitespaces above\n",
    "- \\D represents any non-digit character, \\S any non-whitespace character, and \\W any non-alphanumeric\n",
    "- ^Mission: successful\\$ ^为字符串开始 and $为字符串结尾\n",
    "- ^(file_\\w+) can match file_record_transcript in file_record_transcript.pdf\n",
    "- ^([A-Z]\\w{2} (\\d{4})) 括号中为提取的信息，此处不但提取Jan 1987，还提取1987\n",
    "- ^I love cats|I love dogs\\$ match \"I love cats\"或\"I love dogs\"\n",
    "- ^The.* match string starting with \"The\"\n"
   ]
  },
  {
   "cell_type": "markdown",
   "metadata": {},
   "source": [
    "## Using Wikipedia dataset to finish the language model. "
   ]
  },
  {
   "cell_type": "markdown",
   "metadata": {},
   "source": [
    "Step 1: You need to download the corpus from wikipedis:\n",
    "> https://dumps.wikimedia.org/zhwiki/20190401/\n",
    "\n",
    "Step 2: You may need the help of wiki-extractor:\n",
    "\n",
    "> https://github.com/attardi/wikiextractor\n",
    "\n",
    "Step 3: Using the technologies and methods to finish the language model; \n",
    "> \n",
    "\n",
    "Step 4: Try some interested sentence pairs, and check if your model could fit them\n",
    "\n",
    "> \n",
    "\n",
    "Step 5: If we need to solve following problems, how can language model help us? \n",
    "\n",
    "+ Voice Recognization.\n",
    "+ Sogou *pinyin* input.\n",
    "+ Auto correction in search engine. \n",
    "+ Abnormal Detection."
   ]
  },
  {
   "cell_type": "markdown",
   "metadata": {},
   "source": [
    "### Read all separated wiki files"
   ]
  },
  {
   "cell_type": "code",
   "execution_count": 1,
   "metadata": {
    "collapsed": true
   },
   "outputs": [],
   "source": [
    "import numpy as np\n",
    "import pandas as pd\n",
    "import re"
   ]
  },
  {
   "cell_type": "code",
   "execution_count": 2,
   "metadata": {
    "collapsed": true
   },
   "outputs": [],
   "source": [
    "def find_doc(string):\n",
    "    return \"<doc\" in str(string) or \"</doc\" in str(string)\n",
    "\n",
    "def read_one_file(path):\n",
    "    \"\"\"\n",
    "    input: file path of the text, like \"mydata/text/AA/wiki_00\"\n",
    "    output: DataFrame of one column \"line\" \n",
    "    remark: \"<doc id ...>\" and \"</doc>\" is removed\n",
    "    \"\"\"\n",
    "    wikidata = pd.read_table(path)\n",
    "    wikidata = wikidata.rename(columns = {wikidata.columns[0]:\"line\"})#rename the columns\n",
    "    wikidata[wikidata.line.apply(find_doc)] = \"\"#remove \"<doc ...\"\n",
    "    return wikidata"
   ]
  },
  {
   "cell_type": "code",
   "execution_count": 3,
   "metadata": {
    "collapsed": true
   },
   "outputs": [],
   "source": [
    "def token(string):\n",
    "    \"\"\"\n",
    "    return only words and numbers in string\n",
    "    \"\"\"\n",
    "    return ''.join(re.findall('[\\w|\\d+]',string))\n",
    "\n",
    "def gather_all_text_together(dataframe):\n",
    "    \"\"\"\n",
    "    input: dataframe with columns \"line\"\n",
    "    output: a string with all text in dataframe.line\n",
    "    \"\"\"\n",
    "    all_articles = [token(str(a)) for a in dataframe.line.tolist()]# only keep words and digit\n",
    "    text = ''\n",
    "    for a in all_articles:\n",
    "        text += a\n",
    "    return text\n",
    "    print('Add length of text: {}'.format(len(text)))"
   ]
  },
  {
   "cell_type": "markdown",
   "metadata": {},
   "source": [
    "### 繁体转简体并分词"
   ]
  },
  {
   "cell_type": "code",
   "execution_count": 4,
   "metadata": {
    "collapsed": true
   },
   "outputs": [],
   "source": [
    "#繁体转简体\n",
    "from langconv import *\n",
    "def Traditional2Simplified(sentence):\n",
    "    return Converter('zh-hans').convert(sentence)"
   ]
  },
  {
   "cell_type": "code",
   "execution_count": 5,
   "metadata": {
    "collapsed": true
   },
   "outputs": [],
   "source": [
    "import jieba\n",
    "def cut(string): return list(jieba.cut(string))"
   ]
  },
  {
   "cell_type": "code",
   "execution_count": 6,
   "metadata": {
    "collapsed": true
   },
   "outputs": [],
   "source": [
    "# with open('ALL_TOKENS.txt','w') as file:\n",
    "#     file.write(str(ALL_TOKENS))\n",
    "# with open('ALL_TOKENS.txt','r') as file:\n",
    "#     ALL_TOKENS=file.read()\n",
    "\n",
    "# ALL_TOKENS=ALL_TOKENS.replace(\"'\",\"\").replace(\"[\",\"\").replace(\"]\",\"\").split(', ')"
   ]
  },
  {
   "cell_type": "code",
   "execution_count": 7,
   "metadata": {
    "collapsed": true
   },
   "outputs": [],
   "source": [
    "# turn all text file into Tokens\n",
    "import os\n",
    "path_AA = os.getcwd()+\"\\\\mydata\\\\text\\\\AA\"\n",
    "path_AB = os.getcwd()+\"\\\\mydata\\\\text\\\\AB\"\n",
    "\n",
    "def get_file_name(path):\n",
    "    \"\"\"\n",
    "    input: string, file path, like'C:\\\\Users\\\\Christopher_luole\\\\Git_Project\\\\mydata\\\\text\\\\AA'\n",
    "    output: list, with all visible file name under the path\n",
    "    \"\"\"\n",
    "    list_of_file_name = []\n",
    "    for file_name in os.listdir(path):\n",
    "        if not file_name.startswith('.'):\n",
    "            list_of_file_name.append(file_name) \n",
    "    return list_of_file_name\n",
    "\n",
    "AA = get_file_name(path_AA)\n",
    "AB = get_file_name(path_AB)"
   ]
  },
  {
   "cell_type": "code",
   "execution_count": 9,
   "metadata": {
    "collapsed": true
   },
   "outputs": [
    {
     "name": "stderr",
     "output_type": "stream",
     "text": [
      "Building prefix dict from the default dictionary ...\n",
      "Loading model from cache C:\\Users\\CHRIST~1\\AppData\\Local\\Temp\\jieba.cache\n",
      "Loading model cost 1.007 seconds.\n",
      "Prefix dict has been built succesfully.\n"
     ]
    },
    {
     "name": "stdout",
     "output_type": "stream",
     "text": [
      "Total spend 14.77033019065857 seconds to finish <_io.TextIOWrapper name='C:\\\\Users\\\\Christopher_luole\\\\Git_Project\\\\mydata\\\\Tokens\\\\AB\\\\wiki_13.txt' mode='w' encoding='utf-8'>\n",
      "Total spend 13.588124752044678 seconds to finish <_io.TextIOWrapper name='C:\\\\Users\\\\Christopher_luole\\\\Git_Project\\\\mydata\\\\Tokens\\\\AB\\\\wiki_14.txt' mode='w' encoding='utf-8'>\n",
      "Total spend 38.4126181602478 seconds to finish <_io.TextIOWrapper name='C:\\\\Users\\\\Christopher_luole\\\\Git_Project\\\\mydata\\\\Tokens\\\\AB\\\\wiki_15.txt' mode='w' encoding='utf-8'>\n",
      "Total spend 38.659611225128174 seconds to finish <_io.TextIOWrapper name='C:\\\\Users\\\\Christopher_luole\\\\Git_Project\\\\mydata\\\\Tokens\\\\AB\\\\wiki_16.txt' mode='w' encoding='utf-8'>\n",
      "Total spend 13.378539800643921 seconds to finish <_io.TextIOWrapper name='C:\\\\Users\\\\Christopher_luole\\\\Git_Project\\\\mydata\\\\Tokens\\\\AB\\\\wiki_17.txt' mode='w' encoding='utf-8'>\n",
      "Total spend 41.292723417282104 seconds to finish <_io.TextIOWrapper name='C:\\\\Users\\\\Christopher_luole\\\\Git_Project\\\\mydata\\\\Tokens\\\\AB\\\\wiki_18.txt' mode='w' encoding='utf-8'>\n",
      "Total spend 40.86196422576904 seconds to finish <_io.TextIOWrapper name='C:\\\\Users\\\\Christopher_luole\\\\Git_Project\\\\mydata\\\\Tokens\\\\AB\\\\wiki_19.txt' mode='w' encoding='utf-8'>\n",
      "Total spend 36.19674587249756 seconds to finish <_io.TextIOWrapper name='C:\\\\Users\\\\Christopher_luole\\\\Git_Project\\\\mydata\\\\Tokens\\\\AB\\\\wiki_20.txt' mode='w' encoding='utf-8'>\n",
      "Total spend 13.312470436096191 seconds to finish <_io.TextIOWrapper name='C:\\\\Users\\\\Christopher_luole\\\\Git_Project\\\\mydata\\\\Tokens\\\\AB\\\\wiki_21.txt' mode='w' encoding='utf-8'>\n",
      "Total spend 39.12149119377136 seconds to finish <_io.TextIOWrapper name='C:\\\\Users\\\\Christopher_luole\\\\Git_Project\\\\mydata\\\\Tokens\\\\AB\\\\wiki_22.txt' mode='w' encoding='utf-8'>\n",
      "Total spend 42.87830400466919 seconds to finish <_io.TextIOWrapper name='C:\\\\Users\\\\Christopher_luole\\\\Git_Project\\\\mydata\\\\Tokens\\\\AB\\\\wiki_23.txt' mode='w' encoding='utf-8'>\n",
      "Total spend 15.949992418289185 seconds to finish <_io.TextIOWrapper name='C:\\\\Users\\\\Christopher_luole\\\\Git_Project\\\\mydata\\\\Tokens\\\\AB\\\\wiki_24.txt' mode='w' encoding='utf-8'>\n",
      "Total spend 17.320066690444946 seconds to finish <_io.TextIOWrapper name='C:\\\\Users\\\\Christopher_luole\\\\Git_Project\\\\mydata\\\\Tokens\\\\AB\\\\wiki_25.txt' mode='w' encoding='utf-8'>\n",
      "Total spend 16.365787506103516 seconds to finish <_io.TextIOWrapper name='C:\\\\Users\\\\Christopher_luole\\\\Git_Project\\\\mydata\\\\Tokens\\\\AB\\\\wiki_26.txt' mode='w' encoding='utf-8'>\n",
      "Total spend 15.906627655029297 seconds to finish <_io.TextIOWrapper name='C:\\\\Users\\\\Christopher_luole\\\\Git_Project\\\\mydata\\\\Tokens\\\\AB\\\\wiki_27.txt' mode='w' encoding='utf-8'>\n",
      "Total spend 16.331289529800415 seconds to finish <_io.TextIOWrapper name='C:\\\\Users\\\\Christopher_luole\\\\Git_Project\\\\mydata\\\\Tokens\\\\AB\\\\wiki_28.txt' mode='w' encoding='utf-8'>\n",
      "Total spend 44.66955780982971 seconds to finish <_io.TextIOWrapper name='C:\\\\Users\\\\Christopher_luole\\\\Git_Project\\\\mydata\\\\Tokens\\\\AB\\\\wiki_29.txt' mode='w' encoding='utf-8'>\n",
      "Total spend 44.941246032714844 seconds to finish <_io.TextIOWrapper name='C:\\\\Users\\\\Christopher_luole\\\\Git_Project\\\\mydata\\\\Tokens\\\\AB\\\\wiki_30.txt' mode='w' encoding='utf-8'>\n",
      "Total spend 16.399768114089966 seconds to finish <_io.TextIOWrapper name='C:\\\\Users\\\\Christopher_luole\\\\Git_Project\\\\mydata\\\\Tokens\\\\AB\\\\wiki_31.txt' mode='w' encoding='utf-8'>\n",
      "Total spend 16.2052264213562 seconds to finish <_io.TextIOWrapper name='C:\\\\Users\\\\Christopher_luole\\\\Git_Project\\\\mydata\\\\Tokens\\\\AB\\\\wiki_32.txt' mode='w' encoding='utf-8'>\n",
      "Total spend 16.501627683639526 seconds to finish <_io.TextIOWrapper name='C:\\\\Users\\\\Christopher_luole\\\\Git_Project\\\\mydata\\\\Tokens\\\\AB\\\\wiki_33.txt' mode='w' encoding='utf-8'>\n",
      "Total spend 40.2341365814209 seconds to finish <_io.TextIOWrapper name='C:\\\\Users\\\\Christopher_luole\\\\Git_Project\\\\mydata\\\\Tokens\\\\AB\\\\wiki_34.txt' mode='w' encoding='utf-8'>\n",
      "Total spend 38.15386652946472 seconds to finish <_io.TextIOWrapper name='C:\\\\Users\\\\Christopher_luole\\\\Git_Project\\\\mydata\\\\Tokens\\\\AB\\\\wiki_35.txt' mode='w' encoding='utf-8'>\n",
      "Total spend 40.955793619155884 seconds to finish <_io.TextIOWrapper name='C:\\\\Users\\\\Christopher_luole\\\\Git_Project\\\\mydata\\\\Tokens\\\\AB\\\\wiki_36.txt' mode='w' encoding='utf-8'>\n",
      "Total spend 16.51813244819641 seconds to finish <_io.TextIOWrapper name='C:\\\\Users\\\\Christopher_luole\\\\Git_Project\\\\mydata\\\\Tokens\\\\AB\\\\wiki_37.txt' mode='w' encoding='utf-8'>\n",
      "Total spend 16.601542472839355 seconds to finish <_io.TextIOWrapper name='C:\\\\Users\\\\Christopher_luole\\\\Git_Project\\\\mydata\\\\Tokens\\\\AB\\\\wiki_38.txt' mode='w' encoding='utf-8'>\n",
      "Total spend 16.71907091140747 seconds to finish <_io.TextIOWrapper name='C:\\\\Users\\\\Christopher_luole\\\\Git_Project\\\\mydata\\\\Tokens\\\\AB\\\\wiki_39.txt' mode='w' encoding='utf-8'>\n",
      "Total spend 43.069231033325195 seconds to finish <_io.TextIOWrapper name='C:\\\\Users\\\\Christopher_luole\\\\Git_Project\\\\mydata\\\\Tokens\\\\AB\\\\wiki_40.txt' mode='w' encoding='utf-8'>\n",
      "Total spend 16.421570301055908 seconds to finish <_io.TextIOWrapper name='C:\\\\Users\\\\Christopher_luole\\\\Git_Project\\\\mydata\\\\Tokens\\\\AB\\\\wiki_41.txt' mode='w' encoding='utf-8'>\n",
      "Total spend 16.318694353103638 seconds to finish <_io.TextIOWrapper name='C:\\\\Users\\\\Christopher_luole\\\\Git_Project\\\\mydata\\\\Tokens\\\\AB\\\\wiki_42.txt' mode='w' encoding='utf-8'>\n",
      "Total spend 16.638160943984985 seconds to finish <_io.TextIOWrapper name='C:\\\\Users\\\\Christopher_luole\\\\Git_Project\\\\mydata\\\\Tokens\\\\AB\\\\wiki_43.txt' mode='w' encoding='utf-8'>\n",
      "Total spend 42.33439087867737 seconds to finish <_io.TextIOWrapper name='C:\\\\Users\\\\Christopher_luole\\\\Git_Project\\\\mydata\\\\Tokens\\\\AB\\\\wiki_44.txt' mode='w' encoding='utf-8'>\n",
      "Total spend 16.006529331207275 seconds to finish <_io.TextIOWrapper name='C:\\\\Users\\\\Christopher_luole\\\\Git_Project\\\\mydata\\\\Tokens\\\\AB\\\\wiki_45.txt' mode='w' encoding='utf-8'>\n",
      "Total spend 49.03442072868347 seconds to finish <_io.TextIOWrapper name='C:\\\\Users\\\\Christopher_luole\\\\Git_Project\\\\mydata\\\\Tokens\\\\AB\\\\wiki_46.txt' mode='w' encoding='utf-8'>\n",
      "Total spend 43.10454177856445 seconds to finish <_io.TextIOWrapper name='C:\\\\Users\\\\Christopher_luole\\\\Git_Project\\\\mydata\\\\Tokens\\\\AB\\\\wiki_47.txt' mode='w' encoding='utf-8'>\n",
      "Total spend 17.260127544403076 seconds to finish <_io.TextIOWrapper name='C:\\\\Users\\\\Christopher_luole\\\\Git_Project\\\\mydata\\\\Tokens\\\\AB\\\\wiki_48.txt' mode='w' encoding='utf-8'>\n",
      "Total spend 46.9154999256134 seconds to finish <_io.TextIOWrapper name='C:\\\\Users\\\\Christopher_luole\\\\Git_Project\\\\mydata\\\\Tokens\\\\AB\\\\wiki_49.txt' mode='w' encoding='utf-8'>\n",
      "Total spend 16.991185665130615 seconds to finish <_io.TextIOWrapper name='C:\\\\Users\\\\Christopher_luole\\\\Git_Project\\\\mydata\\\\Tokens\\\\AB\\\\wiki_50.txt' mode='w' encoding='utf-8'>\n",
      "Total spend 46.79626202583313 seconds to finish <_io.TextIOWrapper name='C:\\\\Users\\\\Christopher_luole\\\\Git_Project\\\\mydata\\\\Tokens\\\\AB\\\\wiki_51.txt' mode='w' encoding='utf-8'>\n",
      "Total spend 45.60814619064331 seconds to finish <_io.TextIOWrapper name='C:\\\\Users\\\\Christopher_luole\\\\Git_Project\\\\mydata\\\\Tokens\\\\AB\\\\wiki_52.txt' mode='w' encoding='utf-8'>\n",
      "Total spend 45.21523571014404 seconds to finish <_io.TextIOWrapper name='C:\\\\Users\\\\Christopher_luole\\\\Git_Project\\\\mydata\\\\Tokens\\\\AB\\\\wiki_53.txt' mode='w' encoding='utf-8'>\n",
      "Total spend 43.02296209335327 seconds to finish <_io.TextIOWrapper name='C:\\\\Users\\\\Christopher_luole\\\\Git_Project\\\\mydata\\\\Tokens\\\\AB\\\\wiki_54.txt' mode='w' encoding='utf-8'>\n",
      "Total spend 36.30607986450195 seconds to finish <_io.TextIOWrapper name='C:\\\\Users\\\\Christopher_luole\\\\Git_Project\\\\mydata\\\\Tokens\\\\AB\\\\wiki_55.txt' mode='w' encoding='utf-8'>\n",
      "Total spend 37.599515438079834 seconds to finish <_io.TextIOWrapper name='C:\\\\Users\\\\Christopher_luole\\\\Git_Project\\\\mydata\\\\Tokens\\\\AB\\\\wiki_56.txt' mode='w' encoding='utf-8'>\n",
      "Total spend 13.13669753074646 seconds to finish <_io.TextIOWrapper name='C:\\\\Users\\\\Christopher_luole\\\\Git_Project\\\\mydata\\\\Tokens\\\\AB\\\\wiki_57.txt' mode='w' encoding='utf-8'>\n",
      "Total spend 13.501533269882202 seconds to finish <_io.TextIOWrapper name='C:\\\\Users\\\\Christopher_luole\\\\Git_Project\\\\mydata\\\\Tokens\\\\AB\\\\wiki_58.txt' mode='w' encoding='utf-8'>\n",
      "Total spend 35.08693218231201 seconds to finish <_io.TextIOWrapper name='C:\\\\Users\\\\Christopher_luole\\\\Git_Project\\\\mydata\\\\Tokens\\\\AB\\\\wiki_59.txt' mode='w' encoding='utf-8'>\n"
     ]
    },
    {
     "name": "stdout",
     "output_type": "stream",
     "text": [
      "Total spend 39.08711886405945 seconds to finish <_io.TextIOWrapper name='C:\\\\Users\\\\Christopher_luole\\\\Git_Project\\\\mydata\\\\Tokens\\\\AB\\\\wiki_60.txt' mode='w' encoding='utf-8'>\n",
      "Total spend 13.376901626586914 seconds to finish <_io.TextIOWrapper name='C:\\\\Users\\\\Christopher_luole\\\\Git_Project\\\\mydata\\\\Tokens\\\\AB\\\\wiki_61.txt' mode='w' encoding='utf-8'>\n",
      "Total spend 12.774177074432373 seconds to finish <_io.TextIOWrapper name='C:\\\\Users\\\\Christopher_luole\\\\Git_Project\\\\mydata\\\\Tokens\\\\AB\\\\wiki_62.txt' mode='w' encoding='utf-8'>\n",
      "Total spend 13.144969701766968 seconds to finish <_io.TextIOWrapper name='C:\\\\Users\\\\Christopher_luole\\\\Git_Project\\\\mydata\\\\Tokens\\\\AB\\\\wiki_63.txt' mode='w' encoding='utf-8'>\n",
      "Total spend 15.613511085510254 seconds to finish <_io.TextIOWrapper name='C:\\\\Users\\\\Christopher_luole\\\\Git_Project\\\\mydata\\\\Tokens\\\\AB\\\\wiki_64.txt' mode='w' encoding='utf-8'>\n",
      "Total spend 42.97290062904358 seconds to finish <_io.TextIOWrapper name='C:\\\\Users\\\\Christopher_luole\\\\Git_Project\\\\mydata\\\\Tokens\\\\AB\\\\wiki_65.txt' mode='w' encoding='utf-8'>\n",
      "Total spend 44.51757454872131 seconds to finish <_io.TextIOWrapper name='C:\\\\Users\\\\Christopher_luole\\\\Git_Project\\\\mydata\\\\Tokens\\\\AB\\\\wiki_66.txt' mode='w' encoding='utf-8'>\n",
      "Total spend 16.694689750671387 seconds to finish <_io.TextIOWrapper name='C:\\\\Users\\\\Christopher_luole\\\\Git_Project\\\\mydata\\\\Tokens\\\\AB\\\\wiki_67.txt' mode='w' encoding='utf-8'>\n",
      "Total spend 16.64474654197693 seconds to finish <_io.TextIOWrapper name='C:\\\\Users\\\\Christopher_luole\\\\Git_Project\\\\mydata\\\\Tokens\\\\AB\\\\wiki_68.txt' mode='w' encoding='utf-8'>\n",
      "Total spend 17.713836193084717 seconds to finish <_io.TextIOWrapper name='C:\\\\Users\\\\Christopher_luole\\\\Git_Project\\\\mydata\\\\Tokens\\\\AB\\\\wiki_69.txt' mode='w' encoding='utf-8'>\n",
      "Total spend 3.774008274078369 seconds to finish <_io.TextIOWrapper name='C:\\\\Users\\\\Christopher_luole\\\\Git_Project\\\\mydata\\\\Tokens\\\\AB\\\\wiki_70.txt' mode='w' encoding='utf-8'>\n"
     ]
    }
   ],
   "source": [
    "from time import time\n",
    "\n",
    "\n",
    "for file in AB:\n",
    "    #if file ==\"wiki_00\":\n",
    "        start=time()\n",
    "        \n",
    "        wikidata = read_one_file(path_AB+\"\\\\\"+file)\n",
    "        text = gather_all_text_together(wikidata)\n",
    "        text = Traditional2Simplified(text)#繁转简\n",
    "        ALL_TOKENS = cut(text)#分词\n",
    "        with open(path_AB[:-7]+\"Tokens\\\\AB\\\\\"+file+\".txt\",'w',encoding=\"utf-8\") as file:\n",
    "            file.write(str(ALL_TOKENS))\n",
    "        T1=time()-start\n",
    "        print('Total spend {} seconds to finish {}'.format(T1,file))\n",
    "\n"
   ]
  },
  {
   "cell_type": "markdown",
   "metadata": {},
   "source": [
    "### 读取之前保存的分词结果"
   ]
  },
  {
   "cell_type": "code",
   "execution_count": 36,
   "metadata": {
    "collapsed": true
   },
   "outputs": [],
   "source": [
    "# Read all Tokens files into ALL_TOKENS\n",
    "def Read_Tokens(path):\n",
    "    \"\"\"\n",
    "    input: path of Tokens files\n",
    "    output: list of valid tokens\n",
    "    \"\"\"\n",
    "    with open(path,'r',encoding=\"utf-8\") as file:\n",
    "        ALL_TOKENS = file.read()\n",
    "        ALL_TOKENS = ALL_TOKENS.replace(\"'\",\"\").replace(\"[\",\"\").replace(\"]\",\"\").split(', ')\n",
    "        valid_tokens = [t for t in ALL_TOKENS if t.strip()]\n",
    "    return valid_tokens"
   ]
  },
  {
   "cell_type": "code",
   "execution_count": 37,
   "metadata": {},
   "outputs": [
    {
     "name": "stdout",
     "output_type": "stream",
     "text": [
      "Add wiki_00 in AA, and Length of valid_tokens increased to 167700, spend 0.0740041732788086 seconds\n",
      "Add wiki_01 in AA, and Length of valid_tokens increased to 331493, spend 0.06800389289855957 seconds\n",
      "Add wiki_02 in AA, and Length of valid_tokens increased to 490316, spend 0.0686030387878418 seconds\n",
      "Add wiki_03 in AA, and Length of valid_tokens increased to 657965, spend 0.06240034103393555 seconds\n",
      "Add wiki_04 in AA, and Length of valid_tokens increased to 825021, spend 0.07800006866455078 seconds\n",
      "Add wiki_05 in AA, and Length of valid_tokens increased to 990946, spend 0.07680177688598633 seconds\n",
      "Add wiki_06 in AA, and Length of valid_tokens increased to 1161184, spend 0.07799983024597168 seconds\n",
      "Add wiki_07 in AA, and Length of valid_tokens increased to 1327844, spend 0.07800054550170898 seconds\n",
      "Add wiki_08 in AA, and Length of valid_tokens increased to 1491714, spend 0.060800790786743164 seconds\n",
      "Add wiki_09 in AA, and Length of valid_tokens increased to 1656636, spend 0.07800006866455078 seconds\n",
      "Add wiki_10 in AA, and Length of valid_tokens increased to 1823848, spend 0.07140064239501953 seconds\n",
      "Add wiki_11 in AA, and Length of valid_tokens increased to 1985265, spend 0.08440136909484863 seconds\n",
      "Add wiki_12 in AA, and Length of valid_tokens increased to 2151685, spend 0.06900405883789062 seconds\n",
      "Add wiki_13 in AA, and Length of valid_tokens increased to 2322059, spend 0.07800459861755371 seconds\n",
      "Add wiki_14 in AA, and Length of valid_tokens increased to 2483443, spend 0.052201032638549805 seconds\n",
      "Add wiki_15 in AA, and Length of valid_tokens increased to 2651466, spend 0.09300112724304199 seconds\n",
      "Add wiki_16 in AA, and Length of valid_tokens increased to 2818202, spend 0.07900428771972656 seconds\n",
      "Add wiki_17 in AA, and Length of valid_tokens increased to 2983882, spend 0.08300495147705078 seconds\n",
      "Add wiki_18 in AA, and Length of valid_tokens increased to 3141625, spend 0.06900382041931152 seconds\n",
      "Add wiki_19 in AA, and Length of valid_tokens increased to 3308837, spend 0.07500433921813965 seconds\n",
      "Add wiki_20 in AA, and Length of valid_tokens increased to 3474602, spend 0.08800506591796875 seconds\n",
      "Add wiki_21 in AA, and Length of valid_tokens increased to 3637351, spend 0.07500433921813965 seconds\n",
      "Add wiki_22 in AA, and Length of valid_tokens increased to 3807228, spend 0.07700419425964355 seconds\n",
      "Add wiki_23 in AA, and Length of valid_tokens increased to 3972019, spend 0.09100532531738281 seconds\n",
      "Add wiki_24 in AA, and Length of valid_tokens increased to 4141938, spend 0.07900428771972656 seconds\n",
      "Add wiki_25 in AA, and Length of valid_tokens increased to 4307051, spend 0.0870051383972168 seconds\n",
      "Add wiki_26 in AA, and Length of valid_tokens increased to 4477681, spend 0.08600473403930664 seconds\n",
      "Add wiki_27 in AA, and Length of valid_tokens increased to 4643186, spend 0.06840085983276367 seconds\n",
      "Add wiki_28 in AA, and Length of valid_tokens increased to 4808802, spend 0.07800006866455078 seconds\n",
      "Add wiki_29 in AA, and Length of valid_tokens increased to 4976473, spend 0.06980109214782715 seconds\n",
      "Add wiki_30 in AA, and Length of valid_tokens increased to 5138990, spend 0.07800030708312988 seconds\n",
      "Add wiki_31 in AA, and Length of valid_tokens increased to 5298176, spend 0.06440019607543945 seconds\n",
      "Add wiki_32 in AA, and Length of valid_tokens increased to 5445662, spend 0.0742027759552002 seconds\n",
      "Add wiki_33 in AA, and Length of valid_tokens increased to 5607527, spend 0.07800412178039551 seconds\n",
      "Add wiki_34 in AA, and Length of valid_tokens increased to 5773374, spend 0.08500504493713379 seconds\n",
      "Add wiki_35 in AA, and Length of valid_tokens increased to 5939840, spend 0.09500527381896973 seconds\n",
      "Add wiki_36 in AA, and Length of valid_tokens increased to 6107104, spend 0.06900405883789062 seconds\n",
      "Add wiki_37 in AA, and Length of valid_tokens increased to 6270671, spend 0.06900405883789062 seconds\n",
      "Add wiki_38 in AA, and Length of valid_tokens increased to 6436996, spend 0.06760311126708984 seconds\n",
      "Add wiki_39 in AA, and Length of valid_tokens increased to 6604966, spend 0.06640028953552246 seconds\n",
      "Add wiki_40 in AA, and Length of valid_tokens increased to 6769799, spend 0.10080313682556152 seconds\n",
      "Add wiki_41 in AA, and Length of valid_tokens increased to 6939675, spend 0.08800506591796875 seconds\n",
      "Add wiki_42 in AA, and Length of valid_tokens increased to 7102162, spend 0.0740041732788086 seconds\n",
      "Add wiki_43 in AA, and Length of valid_tokens increased to 7265857, spend 0.08400487899780273 seconds\n",
      "Add wiki_44 in AA, and Length of valid_tokens increased to 7432981, spend 0.06960320472717285 seconds\n",
      "Add wiki_45 in AA, and Length of valid_tokens increased to 7596452, spend 0.06680107116699219 seconds\n",
      "Add wiki_46 in AA, and Length of valid_tokens increased to 7766095, spend 0.09360027313232422 seconds\n",
      "Add wiki_47 in AA, and Length of valid_tokens increased to 7929579, spend 0.07800006866455078 seconds\n",
      "Add wiki_48 in AA, and Length of valid_tokens increased to 8097435, spend 0.06440019607543945 seconds\n",
      "Add wiki_49 in AA, and Length of valid_tokens increased to 8262482, spend 0.08420300483703613 seconds\n",
      "Add wiki_50 in AA, and Length of valid_tokens increased to 8428585, spend 0.06220197677612305 seconds\n",
      "Add wiki_51 in AA, and Length of valid_tokens increased to 8595114, spend 0.07800006866455078 seconds\n",
      "Add wiki_52 in AA, and Length of valid_tokens increased to 8761925, spend 0.11200213432312012 seconds\n",
      "Add wiki_53 in AA, and Length of valid_tokens increased to 8933717, spend 0.07700443267822266 seconds\n",
      "Add wiki_54 in AA, and Length of valid_tokens increased to 9100543, spend 0.07200407981872559 seconds\n",
      "Add wiki_55 in AA, and Length of valid_tokens increased to 9271781, spend 0.07700443267822266 seconds\n",
      "Add wiki_56 in AA, and Length of valid_tokens increased to 9438787, spend 0.06900382041931152 seconds\n",
      "Add wiki_57 in AA, and Length of valid_tokens increased to 9608297, spend 0.06240034103393555 seconds\n",
      "Add wiki_58 in AA, and Length of valid_tokens increased to 9779682, spend 0.07800006866455078 seconds\n",
      "Add wiki_59 in AA, and Length of valid_tokens increased to 9946158, spend 0.09140181541442871 seconds\n",
      "Add wiki_60 in AA, and Length of valid_tokens increased to 10113981, spend 0.07800006866455078 seconds\n",
      "Add wiki_61 in AA, and Length of valid_tokens increased to 10274969, spend 0.062399864196777344 seconds\n",
      "Add wiki_62 in AA, and Length of valid_tokens increased to 10446512, spend 0.07680177688598633 seconds\n",
      "Add wiki_63 in AA, and Length of valid_tokens increased to 10615127, spend 0.06240034103393555 seconds\n",
      "Add wiki_64 in AA, and Length of valid_tokens increased to 10781772, spend 0.0874013900756836 seconds\n",
      "Add wiki_65 in AA, and Length of valid_tokens increased to 10951128, spend 0.07800483703613281 seconds\n",
      "Add wiki_66 in AA, and Length of valid_tokens increased to 11111630, spend 0.06600379943847656 seconds\n",
      "Add wiki_67 in AA, and Length of valid_tokens increased to 11275563, spend 0.12000656127929688 seconds\n",
      "Add wiki_68 in AA, and Length of valid_tokens increased to 11441602, spend 0.08500504493713379 seconds\n",
      "Add wiki_69 in AA, and Length of valid_tokens increased to 11606946, spend 0.08200478553771973 seconds\n",
      "Add wiki_70 in AA, and Length of valid_tokens increased to 11772716, spend 0.07900428771972656 seconds\n",
      "Add wiki_71 in AA, and Length of valid_tokens increased to 11939710, spend 0.07300400733947754 seconds\n",
      "Add wiki_72 in AA, and Length of valid_tokens increased to 12107043, spend 0.07000398635864258 seconds\n",
      "Add wiki_73 in AA, and Length of valid_tokens increased to 12272269, spend 0.06020164489746094 seconds\n",
      "Add wiki_74 in AA, and Length of valid_tokens increased to 12441000, spend 0.0688011646270752 seconds\n",
      "Add wiki_75 in AA, and Length of valid_tokens increased to 12606864, spend 0.08140110969543457 seconds\n",
      "Add wiki_76 in AA, and Length of valid_tokens increased to 12776598, spend 0.11100649833679199 seconds\n",
      "Add wiki_77 in AA, and Length of valid_tokens increased to 12944312, spend 0.07800459861755371 seconds\n",
      "Add wiki_78 in AA, and Length of valid_tokens increased to 13109834, spend 0.07700419425964355 seconds\n",
      "Add wiki_79 in AA, and Length of valid_tokens increased to 13270370, spend 0.07000398635864258 seconds\n",
      "Add wiki_80 in AA, and Length of valid_tokens increased to 13440125, spend 0.0890049934387207 seconds\n",
      "Add wiki_81 in AA, and Length of valid_tokens increased to 13606017, spend 0.0870053768157959 seconds\n",
      "Add wiki_82 in AA, and Length of valid_tokens increased to 13774864, spend 0.08800482749938965 seconds\n"
     ]
    },
    {
     "name": "stdout",
     "output_type": "stream",
     "text": [
      "Add wiki_83 in AA, and Length of valid_tokens increased to 13944632, spend 0.07900428771972656 seconds\n",
      "Add wiki_84 in AA, and Length of valid_tokens increased to 14112035, spend 0.07500457763671875 seconds\n",
      "Add wiki_85 in AA, and Length of valid_tokens increased to 14280133, spend 0.07000398635864258 seconds\n",
      "Add wiki_86 in AA, and Length of valid_tokens increased to 14446079, spend 0.11700654029846191 seconds\n",
      "Add wiki_87 in AA, and Length of valid_tokens increased to 14611306, spend 0.07100415229797363 seconds\n",
      "Add wiki_88 in AA, and Length of valid_tokens increased to 14778989, spend 0.07700419425964355 seconds\n",
      "Add wiki_89 in AA, and Length of valid_tokens increased to 14947993, spend 0.0740041732788086 seconds\n",
      "Add wiki_90 in AA, and Length of valid_tokens increased to 15113963, spend 0.07100415229797363 seconds\n",
      "Add wiki_91 in AA, and Length of valid_tokens increased to 15282530, spend 0.0760045051574707 seconds\n",
      "Add wiki_92 in AA, and Length of valid_tokens increased to 15449361, spend 0.07120227813720703 seconds\n",
      "Add wiki_93 in AA, and Length of valid_tokens increased to 15618686, spend 0.06780123710632324 seconds\n",
      "Add wiki_94 in AA, and Length of valid_tokens increased to 15784241, spend 0.08260416984558105 seconds\n",
      "Add wiki_95 in AA, and Length of valid_tokens increased to 15951603, spend 0.07460331916809082 seconds\n",
      "Add wiki_96 in AA, and Length of valid_tokens increased to 16120194, spend 0.07540082931518555 seconds\n",
      "Add wiki_97 in AA, and Length of valid_tokens increased to 16288663, spend 0.11820054054260254 seconds\n",
      "Add wiki_98 in AA, and Length of valid_tokens increased to 16455775, spend 0.07800030708312988 seconds\n",
      "Add wiki_99 in AA, and Length of valid_tokens increased to 16619124, spend 0.06780123710632324 seconds\n",
      "Add wiki_00 in AB, and Length of valid_tokens increased to 16788911, spend 0.06240034103393555 seconds\n",
      "Add wiki_01 in AB, and Length of valid_tokens increased to 16956283, spend 0.062399864196777344 seconds\n",
      "Add wiki_02 in AB, and Length of valid_tokens increased to 17121046, spend 0.07800006866455078 seconds\n",
      "Add wiki_03 in AB, and Length of valid_tokens increased to 17290351, spend 0.08140110969543457 seconds\n",
      "Add wiki_04 in AB, and Length of valid_tokens increased to 17453425, spend 0.06240034103393555 seconds\n",
      "Add wiki_05 in AB, and Length of valid_tokens increased to 17614297, spend 0.07800006866455078 seconds\n",
      "Add wiki_06 in AB, and Length of valid_tokens increased to 17781686, spend 0.06180095672607422 seconds\n",
      "Add wiki_07 in AB, and Length of valid_tokens increased to 17953505, spend 0.07800030708312988 seconds\n",
      "Add wiki_08 in AB, and Length of valid_tokens increased to 18123836, spend 0.07940077781677246 seconds\n",
      "Add wiki_09 in AB, and Length of valid_tokens increased to 18292078, spend 0.07300424575805664 seconds\n",
      "Add wiki_10 in AB, and Length of valid_tokens increased to 18452052, spend 0.12540364265441895 seconds\n",
      "Add wiki_11 in AB, and Length of valid_tokens increased to 18617749, spend 0.07800459861755371 seconds\n",
      "Add wiki_12 in AB, and Length of valid_tokens increased to 18784371, spend 0.07200407981872559 seconds\n",
      "Add wiki_13 in AB, and Length of valid_tokens increased to 18952617, spend 0.07100415229797363 seconds\n",
      "Add wiki_14 in AB, and Length of valid_tokens increased to 19116587, spend 0.05660247802734375 seconds\n",
      "Add wiki_15 in AB, and Length of valid_tokens increased to 19282382, spend 0.0840003490447998 seconds\n",
      "Add wiki_16 in AB, and Length of valid_tokens increased to 19445618, spend 0.063201904296875 seconds\n",
      "Add wiki_17 in AB, and Length of valid_tokens increased to 19611014, spend 0.0688014030456543 seconds\n",
      "Add wiki_18 in AB, and Length of valid_tokens increased to 19781258, spend 0.07800030708312988 seconds\n",
      "Add wiki_19 in AB, and Length of valid_tokens increased to 19950682, spend 0.062399864196777344 seconds\n",
      "Add wiki_20 in AB, and Length of valid_tokens increased to 20118948, spend 0.07540106773376465 seconds\n",
      "Add wiki_21 in AB, and Length of valid_tokens increased to 20289857, spend 0.07800006866455078 seconds\n",
      "Add wiki_22 in AB, and Length of valid_tokens increased to 20456216, spend 0.062400102615356445 seconds\n",
      "Add wiki_23 in AB, and Length of valid_tokens increased to 20623776, spend 0.0764007568359375 seconds\n",
      "Add wiki_24 in AB, and Length of valid_tokens increased to 20787150, spend 0.12480020523071289 seconds\n",
      "Add wiki_25 in AB, and Length of valid_tokens increased to 20953663, spend 0.08160400390625 seconds\n",
      "Add wiki_26 in AB, and Length of valid_tokens increased to 21118621, spend 0.06100344657897949 seconds\n",
      "Add wiki_27 in AB, and Length of valid_tokens increased to 21284528, spend 0.062400102615356445 seconds\n",
      "Add wiki_28 in AB, and Length of valid_tokens increased to 21453167, spend 0.07800006866455078 seconds\n",
      "Add wiki_29 in AB, and Length of valid_tokens increased to 21620652, spend 0.07520270347595215 seconds\n",
      "Add wiki_30 in AB, and Length of valid_tokens increased to 21786915, spend 0.062400102615356445 seconds\n",
      "Add wiki_31 in AB, and Length of valid_tokens increased to 21952735, spend 0.062399864196777344 seconds\n",
      "Add wiki_32 in AB, and Length of valid_tokens increased to 22118861, spend 0.07540106773376465 seconds\n",
      "Add wiki_33 in AB, and Length of valid_tokens increased to 22286295, spend 0.07280158996582031 seconds\n",
      "Add wiki_34 in AB, and Length of valid_tokens increased to 22454337, spend 0.07520222663879395 seconds\n",
      "Add wiki_35 in AB, and Length of valid_tokens increased to 22621307, spend 0.06760334968566895 seconds\n",
      "Add wiki_36 in AB, and Length of valid_tokens increased to 22789509, spend 0.07800006866455078 seconds\n",
      "Add wiki_37 in AB, and Length of valid_tokens increased to 22956955, spend 0.07420229911804199 seconds\n",
      "Add wiki_38 in AB, and Length of valid_tokens increased to 23126290, spend 0.07300424575805664 seconds\n",
      "Add wiki_39 in AB, and Length of valid_tokens increased to 23291944, spend 0.06900382041931152 seconds\n",
      "Add wiki_40 in AB, and Length of valid_tokens increased to 23454913, spend 0.13180088996887207 seconds\n",
      "Add wiki_41 in AB, and Length of valid_tokens increased to 23624443, spend 0.07440066337585449 seconds\n",
      "Add wiki_42 in AB, and Length of valid_tokens increased to 23789431, spend 0.062400102615356445 seconds\n",
      "Add wiki_43 in AB, and Length of valid_tokens increased to 23957834, spend 0.07800006866455078 seconds\n",
      "Add wiki_44 in AB, and Length of valid_tokens increased to 24125608, spend 0.07780194282531738 seconds\n",
      "Add wiki_45 in AB, and Length of valid_tokens increased to 24291397, spend 0.07800030708312988 seconds\n",
      "Add wiki_46 in AB, and Length of valid_tokens increased to 24458496, spend 0.08440113067626953 seconds\n",
      "Add wiki_47 in AB, and Length of valid_tokens increased to 24625712, spend 0.08400487899780273 seconds\n",
      "Add wiki_48 in AB, and Length of valid_tokens increased to 24793120, spend 0.06480097770690918 seconds\n",
      "Add wiki_49 in AB, and Length of valid_tokens increased to 24960011, spend 0.06240034103393555 seconds\n",
      "Add wiki_50 in AB, and Length of valid_tokens increased to 25128143, spend 0.07340049743652344 seconds\n",
      "Add wiki_51 in AB, and Length of valid_tokens increased to 25294650, spend 0.07800006866455078 seconds\n",
      "Add wiki_52 in AB, and Length of valid_tokens increased to 25462682, spend 0.07800006866455078 seconds\n",
      "Add wiki_53 in AB, and Length of valid_tokens increased to 25629379, spend 0.060801029205322266 seconds\n",
      "Add wiki_54 in AB, and Length of valid_tokens increased to 25790276, spend 0.07800030708312988 seconds\n",
      "Add wiki_55 in AB, and Length of valid_tokens increased to 25954769, spend 0.07240056991577148 seconds\n",
      "Add wiki_56 in AB, and Length of valid_tokens increased to 26117871, spend 0.06680107116699219 seconds\n",
      "Add wiki_57 in AB, and Length of valid_tokens increased to 26285539, spend 0.07800006866455078 seconds\n",
      "Add wiki_58 in AB, and Length of valid_tokens increased to 26453868, spend 0.14040040969848633 seconds\n",
      "Add wiki_59 in AB, and Length of valid_tokens increased to 26621250, spend 0.08040118217468262 seconds\n",
      "Add wiki_60 in AB, and Length of valid_tokens increased to 26789541, spend 0.062400102615356445 seconds\n",
      "Add wiki_61 in AB, and Length of valid_tokens increased to 26954883, spend 0.062400102615356445 seconds\n",
      "Add wiki_62 in AB, and Length of valid_tokens increased to 27117852, spend 0.0764009952545166 seconds\n",
      "Add wiki_63 in AB, and Length of valid_tokens increased to 27280091, spend 0.062400102615356445 seconds\n"
     ]
    },
    {
     "name": "stdout",
     "output_type": "stream",
     "text": [
      "Add wiki_64 in AB, and Length of valid_tokens increased to 27443932, spend 0.062399864196777344 seconds\n",
      "Add wiki_65 in AB, and Length of valid_tokens increased to 27608882, spend 0.07480192184448242 seconds\n",
      "Add wiki_66 in AB, and Length of valid_tokens increased to 27776510, spend 0.07799983024597168 seconds\n",
      "Add wiki_67 in AB, and Length of valid_tokens increased to 27943190, spend 0.15600061416625977 seconds\n",
      "Add wiki_68 in AB, and Length of valid_tokens increased to 28110080, spend 0.06580114364624023 seconds\n",
      "Add wiki_69 in AB, and Length of valid_tokens increased to 28274597, spend 0.062400102615356445 seconds\n",
      "Add wiki_70 in AB, and Length of valid_tokens increased to 28328816, spend 0.031199932098388672 seconds\n"
     ]
    }
   ],
   "source": [
    "from time import time\n",
    "\n",
    "valid_tokens = []\n",
    "for file in AA:\n",
    "    start=time()\n",
    "    valid_tokens += (Read_Tokens(path_AA[:-7]+\"Tokens\\\\AA\\\\\"+file+\".txt\"))\n",
    "    T1=time()-start\n",
    "    print(\"Add {} in AA, and Length of valid_tokens increased to {}, spend {} seconds\".format(file, len(valid_tokens),T1))\n",
    "\n",
    "for file in AB:\n",
    "    start=time()\n",
    "    valid_tokens += (Read_Tokens(path_AB[:-7]+\"Tokens\\\\AB\\\\\"+file+\".txt\"))\n",
    "    T1=time()-start\n",
    "    print(\"Add {} in AB, and Length of valid_tokens increased to {}, spend {} seconds\".format(file, len(valid_tokens),T1))"
   ]
  },
  {
   "cell_type": "markdown",
   "metadata": {},
   "source": [
    "### Get the frequences of words"
   ]
  },
  {
   "cell_type": "code",
   "execution_count": 41,
   "metadata": {},
   "outputs": [
    {
     "data": {
      "text/plain": [
       "[('的', 1645202),\n",
       " ('在', 433010),\n",
       " ('年', 353279),\n",
       " ('是', 305301),\n",
       " ('和', 256064),\n",
       " ('了', 213869),\n",
       " ('为', 193551),\n",
       " ('与', 153842),\n",
       " ('月', 151892),\n",
       " ('有', 143411)]"
      ]
     },
     "execution_count": 41,
     "metadata": {},
     "output_type": "execute_result"
    }
   ],
   "source": [
    "from collections import Counter\n",
    "words_count = Counter(valid_tokens)\n",
    "\n",
    "words_count.most_common(10)"
   ]
  },
  {
   "cell_type": "code",
   "execution_count": 42,
   "metadata": {},
   "outputs": [
    {
     "data": {
      "text/plain": [
       "3.529974567239238e-08"
      ]
     },
     "execution_count": 42,
     "metadata": {},
     "output_type": "execute_result"
    }
   ],
   "source": [
    "frequences_all = [f for w, f in words_count.most_common()]\n",
    "frequences_sum = sum(frequences_all)\n",
    "1 / frequences_sum"
   ]
  },
  {
   "cell_type": "code",
   "execution_count": 44,
   "metadata": {},
   "outputs": [
    {
     "name": "stdout",
     "output_type": "stream",
     "text": [
      "0.00016862688507701838 5.542060070565604e-06 0.00021797592952702295 0.0003077784825175892\n"
     ]
    }
   ],
   "source": [
    "def get_prob(word): \n",
    "    esp = 1 / frequences_sum\n",
    "    if word in words_count: \n",
    "        return words_count[word] / frequences_sum\n",
    "    else:\n",
    "        return esp\n",
    "    \n",
    "print(get_prob('数学'),get_prob('蛋糕'),get_prob('罗马'),get_prob('我们'))"
   ]
  },
  {
   "cell_type": "markdown",
   "metadata": {},
   "source": [
    "### Step3 - Unigram Model"
   ]
  },
  {
   "cell_type": "code",
   "execution_count": 45,
   "metadata": {
    "collapsed": true
   },
   "outputs": [],
   "source": [
    "from functools import reduce\n",
    "def product(numbers):\n",
    "    return reduce(lambda n1, n2: n1 * n2, numbers)\n",
    "\n",
    "def language_model_one_gram(string):\n",
    "    words = cut(string)\n",
    "    return product([get_prob(w) for w in words])"
   ]
  },
  {
   "cell_type": "code",
   "execution_count": 47,
   "metadata": {},
   "outputs": [
    {
     "name": "stdout",
     "output_type": "stream",
     "text": [
      "秦始皇统一中国 1.3608996758020246e-11\n",
      "秦始皇一统中国 4.037140238126656e-13\n",
      "明天我们一起回家吃饭 8.094004689864576e-23\n",
      "未来人类共同面对饥饿 5.8928632566104e-21\n"
     ]
    }
   ],
   "source": [
    "sentences = \"\"\"\n",
    "秦始皇统一中国\n",
    "秦始皇一统中国\n",
    "明天我们一起回家吃饭\n",
    "未来人类共同面对饥饿\n",
    "\"\"\".split()\n",
    "\n",
    "for s in sentences:\n",
    "    print(s, language_model_one_gram(s))"
   ]
  },
  {
   "cell_type": "code",
   "execution_count": 49,
   "metadata": {},
   "outputs": [
    {
     "name": "stdout",
     "output_type": "stream",
     "text": [
      "三角学等初等数学，已大体完备 is more possible\n",
      "---- 三角学等初等数学，已大体完备 with probility 2.3095409633743076e-35\n",
      "---- 三角学这么容易学习，已经快要完成 with probility 2.9149061159514537e-38\n",
      "真是一只好看的小猫 is more possible\n",
      "---- 真事一只好看的小猫 with probility 4.773456491380672e-26\n",
      "---- 真是一只好看的小猫 with probility 4.295269206738948e-23\n",
      "今晚我去吃火锅 is more possible\n",
      "---- 我去吃火锅，今晚 with probility 4.785413704056803e-28\n",
      "---- 今晚我去吃火锅 with probility 1.3556510430610363e-20\n"
     ]
    }
   ],
   "source": [
    "need_compared = [\n",
    "    \"三角学等初等数学，已大体完备 三角学这么容易学习，已经快要完成\",\n",
    "    \"真事一只好看的小猫 真是一只好看的小猫\",\n",
    "    \"我去吃火锅，今晚 今晚我去吃火锅\"\n",
    "]\n",
    "\n",
    "for s in need_compared:\n",
    "    s1, s2 = s.split()\n",
    "    p1, p2 = language_model_one_gram(s1), language_model_one_gram(s2)\n",
    "    \n",
    "    better = s1 if p1 > p2 else s2\n",
    "    \n",
    "    print('{} is more possible'.format(better))\n",
    "    print('-'*4 + ' {} with probility {}'.format(s1, p1))\n",
    "    print('-'*4 + ' {} with probility {}'.format(s2, p2))"
   ]
  },
  {
   "cell_type": "markdown",
   "metadata": {},
   "source": [
    "### 2-Gram Model"
   ]
  },
  {
   "cell_type": "code",
   "execution_count": 52,
   "metadata": {
    "collapsed": true
   },
   "outputs": [],
   "source": [
    "start = time()\n",
    "\n",
    "valid_tokens = [str(t) for t in valid_tokens] \n",
    "all_2_grams_words = [''.join(valid_tokens[i:i+2]) for i in range(len(valid_tokens[:-2]))]\n",
    "_2_gram_sum = len(all_2_grams_words)\n",
    "_2_gram_counter = Counter(all_2_grams_words)\n",
    "\n",
    "T1=time()-start\n",
    "print(\"spend {} seconds\".format(T1))"
   ]
  },
  {
   "cell_type": "code",
   "execution_count": 53,
   "metadata": {
    "collapsed": true
   },
   "outputs": [],
   "source": [
    "def get_combination_prob(w1, w2):\n",
    "    if w1 + w2 in _2_gram_counter: return _2_gram_counter[w1+w2] / _2_gram_sum\n",
    "    else:\n",
    "        return 1 / _2_gram_sum\n"
   ]
  },
  {
   "cell_type": "code",
   "execution_count": 55,
   "metadata": {},
   "outputs": [
    {
     "name": "stdout",
     "output_type": "stream",
     "text": [
      "8.118942077843428e-07 1.4119899265814658e-07\n"
     ]
    }
   ],
   "source": [
    "print(get_combination_prob('去', '北京'), get_combination_prob( '北京','去'))"
   ]
  },
  {
   "cell_type": "code",
   "execution_count": 56,
   "metadata": {},
   "outputs": [
    {
     "name": "stdout",
     "output_type": "stream",
     "text": [
      "0.00010883762196337576\n",
      "0.0025032653051576424\n"
     ]
    }
   ],
   "source": [
    "def get_prob_2_gram(w1, w2):\n",
    "    return get_combination_prob(w1, w2) / get_prob(w1)\n",
    "\n",
    "print(get_prob_2_gram('去', '沈阳'))\n",
    "print(get_prob_2_gram('去', '北京'))"
   ]
  },
  {
   "cell_type": "code",
   "execution_count": 57,
   "metadata": {
    "collapsed": true
   },
   "outputs": [],
   "source": [
    "def langauge_model_of_2_gram(sentence):\n",
    "    sentence_probability = 1\n",
    "    \n",
    "    words = cut(sentence)\n",
    "    \n",
    "    for i, word in enumerate(words):\n",
    "        if i == 0: \n",
    "            prob = get_prob(word)\n",
    "        else:\n",
    "            previous = words[i-1]\n",
    "            prob = get_prob_2_gram(previous, word)\n",
    "        sentence_probability *= prob\n",
    "    \n",
    "    return sentence_probability"
   ]
  },
  {
   "cell_type": "markdown",
   "metadata": {},
   "source": [
    "### Step4 Test the model"
   ]
  },
  {
   "cell_type": "code",
   "execution_count": 58,
   "metadata": {},
   "outputs": [
    {
     "name": "stdout",
     "output_type": "stream",
     "text": [
      "1.5367763669493123e-11\n",
      "1.1909038601400628e-14\n"
     ]
    }
   ],
   "source": [
    "print(langauge_model_of_2_gram('农民工坐火车去上海'))\n",
    "print(langauge_model_of_2_gram('农民工去上海坐火车'))"
   ]
  },
  {
   "cell_type": "code",
   "execution_count": 59,
   "metadata": {},
   "outputs": [
    {
     "name": "stdout",
     "output_type": "stream",
     "text": [
      "今天晚上请你吃大餐，我们一起吃日料 is more possible\n",
      "---- 今天晚上请你吃大餐，我们一起吃日料 with probility 2.7148988815952096e-28\n",
      "---- 明天晚上请你吃大餐，我们一起吃苹果 with probility 5.42979776319042e-29\n",
      "真是一只好看的小猫 is more possible\n",
      "---- 真事一只好看的小猫 with probility 1.7283995385208607e-20\n",
      "---- 真是一只好看的小猫 with probility 5.681248882024758e-17\n",
      "今晚我去吃火锅 is more possible\n",
      "---- 今晚我去吃火锅 with probility 2.2123617951232717e-14\n",
      "---- 今晚火锅去吃我 with probility 1.093013140430263e-15\n",
      "三角学等初等数学，已大体完备 is more possible\n",
      "---- 三角学等初等数学，已大体完备 with probility 7.636130291674986e-19\n",
      "---- 三角学这么容易学习，已经快要完成 with probility 8.828483440669797e-23\n"
     ]
    }
   ],
   "source": [
    "need_compared = [\n",
    "    \"今天晚上请你吃大餐，我们一起吃日料 明天晚上请你吃大餐，我们一起吃苹果\",\n",
    "    \"真事一只好看的小猫 真是一只好看的小猫\",\n",
    "    \"今晚我去吃火锅 今晚火锅去吃我\",\n",
    "    \"三角学等初等数学，已大体完备 三角学这么容易学习，已经快要完成\"\n",
    "]\n",
    "\n",
    "for s in need_compared:\n",
    "    s1, s2 = s.split()\n",
    "    p1, p2 = langauge_model_of_2_gram(s1), langauge_model_of_2_gram(s2)\n",
    "    \n",
    "    better = s1 if p1 > p2 else s2\n",
    "    \n",
    "    print('{} is more possible'.format(better))\n",
    "    print('-'*4 + ' {} with probility {}'.format(s1, p1))\n",
    "    print('-'*4 + ' {} with probility {}'.format(s2, p2))\n"
   ]
  },
  {
   "cell_type": "code",
   "execution_count": 138,
   "metadata": {
    "collapsed": true
   },
   "outputs": [],
   "source": [
    "import random\n",
    "\n",
    "grammar = \"\"\"\n",
    "sentence => noun_phrase verb_phrase \n",
    "noun_phrase => Article Adj* noun belong \n",
    "belong => de property\n",
    "de => 的\n",
    "property =>  蜜桔 | 脐橙 | 陶瓷\n",
    "Adj* => null | Adj Adj*\n",
    "verb_phrase => verb noun_phrase\n",
    "Article =>  目前 | 历史上\n",
    "noun =>   南丰 |  赣南 | 景德镇\n",
    "verb =>   有名于 | 好于\n",
    "Adj =>   香的 |  咸的 | 甜的\n",
    "\"\"\"\n",
    "\n",
    "def parse_grammar(grammar_str, sep='=>'):\n",
    "    grammar = {}\n",
    "    for line in grammar_str.split('\\n'): \n",
    "        line = line.strip()\n",
    "        if not line: continue\n",
    "        \n",
    "        target, rules = line.split(sep)\n",
    "        \n",
    "        grammar[target.strip()] = [r.split() for r in rules.split('|')]\n",
    "    \n",
    "    return grammar\n",
    "\n",
    "def gene(grammar_parsed, target='sentence'):\n",
    "    if target not in grammar_parsed: return target\n",
    "    \n",
    "    rule = random.choice(grammar_parsed[target])\n",
    "    return ''.join(gene(grammar_parsed, target=r) for r in rule if r!='null')\n"
   ]
  },
  {
   "cell_type": "code",
   "execution_count": 139,
   "metadata": {
    "scrolled": true
   },
   "outputs": [
    {
     "data": {
      "text/plain": [
       "['历史上赣南的蜜桔好于目前南丰的陶瓷',\n",
       " '历史上赣南的陶瓷好于目前南丰的陶瓷',\n",
       " '目前南丰的蜜桔好于历史上南丰的陶瓷',\n",
       " '历史上赣南的脐橙好于目前赣南的蜜桔',\n",
       " '历史上赣南的脐橙好于历史上南丰的陶瓷',\n",
       " '目前南丰的脐橙好于历史上景德镇的蜜桔',\n",
       " '历史上南丰的蜜桔好于目前南丰的脐橙',\n",
       " '目前景德镇的脐橙有名于目前南丰的陶瓷',\n",
       " '目前赣南的脐橙有名于目前赣南的陶瓷',\n",
       " '目前咸的赣南的脐橙好于目前景德镇的陶瓷',\n",
       " '历史上赣南的脐橙有名于目前景德镇的陶瓷',\n",
       " '目前景德镇的陶瓷有名于目前赣南的脐橙',\n",
       " '目前咸的景德镇的脐橙好于目前赣南的脐橙',\n",
       " '目前景德镇的脐橙有名于目前南丰的脐橙',\n",
       " '历史上香的南丰的脐橙好于目前赣南的陶瓷',\n",
       " '历史上景德镇的脐橙有名于目前南丰的陶瓷',\n",
       " '目前南丰的脐橙好于目前甜的景德镇的蜜桔',\n",
       " '历史上南丰的脐橙有名于目前赣南的陶瓷',\n",
       " '历史上赣南的脐橙有名于历史上景德镇的陶瓷',\n",
       " '历史上景德镇的蜜桔有名于历史上赣南的陶瓷',\n",
       " '目前南丰的陶瓷有名于目前赣南的脐橙',\n",
       " '目前赣南的蜜桔有名于目前南丰的蜜桔',\n",
       " '目前咸的赣南的蜜桔好于目前南丰的脐橙',\n",
       " '目前南丰的蜜桔好于历史上香的南丰的脐橙',\n",
       " '目前南丰的脐橙好于目前甜的赣南的蜜桔',\n",
       " '目前南丰的陶瓷有名于历史上赣南的脐橙',\n",
       " '历史上赣南的脐橙好于历史上甜的景德镇的脐橙',\n",
       " '目前赣南的脐橙好于历史上咸的南丰的脐橙',\n",
       " '历史上景德镇的脐橙有名于历史上南丰的蜜桔',\n",
       " '历史上景德镇的蜜桔有名于历史上南丰的蜜桔',\n",
       " '历史上南丰的陶瓷好于目前咸的赣南的脐橙',\n",
       " '历史上赣南的陶瓷有名于历史上南丰的脐橙',\n",
       " '历史上赣南的蜜桔好于历史上甜的南丰的脐橙',\n",
       " '目前香的南丰的蜜桔好于历史上南丰的蜜桔',\n",
       " '目前甜的赣南的脐橙有名于目前景德镇的陶瓷',\n",
       " '目前香的赣南的蜜桔有名于目前景德镇的陶瓷',\n",
       " '目前景德镇的脐橙有名于历史上香的赣南的脐橙',\n",
       " '目前甜的景德镇的蜜桔好于历史上香的赣南的脐橙',\n",
       " '目前咸的赣南的脐橙有名于历史上景德镇的陶瓷',\n",
       " '目前甜的南丰的陶瓷有名于目前景德镇的脐橙',\n",
       " '历史上景德镇的陶瓷有名于目前甜的景德镇的脐橙',\n",
       " '历史上甜的咸的景德镇的脐橙好于目前赣南的脐橙',\n",
       " '目前甜的赣南的陶瓷有名于目前赣南的蜜桔',\n",
       " '历史上景德镇的脐橙好于历史上香的咸的赣南的脐橙',\n",
       " '目前赣南的蜜桔有名于目前香的赣南的蜜桔',\n",
       " '历史上咸的赣南的蜜桔好于目前香的景德镇的脐橙',\n",
       " '历史上景德镇的蜜桔有名于目前甜的赣南的蜜桔',\n",
       " '目前香的赣南的蜜桔有名于目前南丰的蜜桔',\n",
       " '历史上景德镇的陶瓷好于历史上咸的甜的南丰的陶瓷',\n",
       " '历史上赣南的陶瓷有名于目前甜的南丰的脐橙',\n",
       " '历史上咸的赣南的蜜桔有名于目前赣南的蜜桔',\n",
       " '历史上咸的南丰的陶瓷有名于历史上南丰的陶瓷',\n",
       " '历史上景德镇的脐橙好于历史上甜的香的南丰的蜜桔',\n",
       " '历史上南丰的蜜桔有名于历史上咸的南丰的蜜桔',\n",
       " '历史上甜的赣南的陶瓷好于历史上咸的赣南的脐橙',\n",
       " '历史上咸的咸的咸的景德镇的脐橙好于目前赣南的陶瓷',\n",
       " '历史上甜的景德镇的蜜桔好于目前咸的咸的景德镇的蜜桔',\n",
       " '目前甜的赣南的蜜桔有名于目前香的景德镇的脐橙',\n",
       " '目前咸的南丰的蜜桔有名于历史上香的南丰的陶瓷',\n",
       " '历史上甜的咸的景德镇的脐橙有名于目前赣南的蜜桔',\n",
       " '目前南丰的蜜桔有名于目前香的香的赣南的陶瓷',\n",
       " '历史上香的景德镇的陶瓷有名于目前香的赣南的脐橙',\n",
       " '目前景德镇的陶瓷好于历史上香的咸的香的赣南的蜜桔',\n",
       " '历史上香的咸的景德镇的脐橙有名于历史上南丰的蜜桔',\n",
       " '目前咸的咸的甜的景德镇的蜜桔好于历史上南丰的脐橙',\n",
       " '目前香的咸的景德镇的脐橙有名于历史上南丰的脐橙',\n",
       " '历史上甜的景德镇的陶瓷有名于历史上咸的赣南的陶瓷',\n",
       " '目前赣南的陶瓷有名于目前甜的香的赣南的蜜桔',\n",
       " '目前咸的咸的赣南的脐橙有名于历史上景德镇的蜜桔',\n",
       " '历史上甜的香的南丰的脐橙好于目前甜的景德镇的蜜桔',\n",
       " '目前南丰的脐橙有名于目前香的咸的赣南的蜜桔',\n",
       " '历史上甜的南丰的脐橙好于历史上咸的香的赣南的蜜桔',\n",
       " '历史上香的甜的甜的赣南的脐橙有名于目前南丰的陶瓷',\n",
       " '目前景德镇的蜜桔好于目前咸的甜的香的咸的赣南的脐橙',\n",
       " '目前咸的香的香的景德镇的蜜桔有名于目前南丰的蜜桔',\n",
       " '目前景德镇的陶瓷好于目前甜的香的香的甜的赣南的蜜桔',\n",
       " '历史上景德镇的脐橙好于目前香的咸的香的香的南丰的陶瓷',\n",
       " '目前甜的甜的咸的咸的南丰的脐橙好于历史上南丰的陶瓷',\n",
       " '目前香的赣南的蜜桔有名于历史上咸的咸的景德镇的脐橙',\n",
       " '目前香的赣南的陶瓷有名于目前香的咸的赣南的陶瓷',\n",
       " '目前甜的南丰的陶瓷有名于历史上咸的甜的景德镇的蜜桔',\n",
       " '历史上咸的香的甜的南丰的蜜桔有名于目前南丰的脐橙',\n",
       " '目前咸的咸的南丰的陶瓷有名于历史上咸的赣南的蜜桔',\n",
       " '目前景德镇的蜜桔有名于目前香的甜的咸的香的景德镇的蜜桔',\n",
       " '目前甜的咸的香的香的景德镇的蜜桔有名于历史上南丰的陶瓷',\n",
       " '历史上香的赣南的陶瓷好于目前香的香的香的甜的景德镇的陶瓷',\n",
       " '历史上咸的甜的咸的咸的甜的景德镇的陶瓷好于历史上南丰的陶瓷',\n",
       " '目前咸的香的赣南的脐橙好于目前咸的甜的甜的南丰的脐橙',\n",
       " '历史上咸的南丰的陶瓷好于目前咸的甜的香的甜的赣南的陶瓷',\n",
       " '历史上赣南的陶瓷有名于历史上咸的香的咸的香的南丰的陶瓷',\n",
       " '历史上咸的香的甜的景德镇的脐橙有名于历史上甜的赣南的蜜桔',\n",
       " '历史上香的景德镇的蜜桔有名于历史上香的咸的甜的咸的赣南的陶瓷',\n",
       " '目前南丰的陶瓷好于目前甜的咸的香的甜的咸的咸的南丰的陶瓷',\n",
       " '历史上甜的香的景德镇的脐橙有名于历史上咸的香的咸的景德镇的蜜桔',\n",
       " '目前香的甜的香的景德镇的陶瓷有名于目前香的香的赣南的脐橙',\n",
       " '历史上甜的香的咸的香的咸的赣南的脐橙好于历史上甜的景德镇的脐橙',\n",
       " '目前香的咸的赣南的脐橙有名于目前香的香的甜的赣南的蜜桔',\n",
       " '历史上咸的赣南的脐橙有名于目前甜的香的香的甜的南丰的蜜桔',\n",
       " '目前咸的香的咸的甜的赣南的陶瓷有名于历史上甜的甜的南丰的蜜桔',\n",
       " '历史上香的南丰的脐橙有名于目前咸的咸的咸的咸的甜的香的赣南的陶瓷']"
      ]
     },
     "execution_count": 139,
     "metadata": {},
     "output_type": "execute_result"
    }
   ],
   "source": [
    "g = parse_grammar(grammar)\n",
    "random_generated = [gene(g) for _ in range(100)]\n",
    "#\"|\" == > 'or'\n",
    "sorted(random_generated, key=langauge_model_of_2_gram, reverse=True)"
   ]
  },
  {
   "cell_type": "markdown",
   "metadata": {},
   "source": [
    "### Step5"
   ]
  },
  {
   "cell_type": "markdown",
   "metadata": {},
   "source": [
    "> 如上实验所示，Language Model通过给定语料库得出两词或多词搭配顺序的合理性（概率），\n",
    "从而在语音识别、搜狗输入拼音、自动校正搜索、异常检测等方面可以利用Language Model来判断输入文段的合理性，\n",
    "并重组输入预料顺序之后给出最优预料顺序。"
   ]
  },
  {
   "cell_type": "markdown",
   "metadata": {},
   "source": [
    "### Compared to the previous learned parsing and pattern match problems. What's the advantage and disavantage of Probability Based Methods? "
   ]
  },
  {
   "cell_type": "markdown",
   "metadata": {},
   "source": [
    "__Ans: __\n",
    "\n",
    "* __Advantage:__ 在parsing and pattern match基础上，Probability Based Methods还可以判断出每句话的合理性，从而让随机数出的语句按合理性排序输出。\n",
    "* __Disadvantage:__ 由于多义词或者不同场景下出现词组概率的变化等语言复杂性，一般的Probability Based Methods也无法解决。而且在n-Gram Model中随着n增加，n个词组会很难匹配到，判断前后语句合理性的功能就受限了。"
   ]
  },
  {
   "cell_type": "markdown",
   "metadata": {},
   "source": [
    "## (Optional)  How to solve *OOV* problem?\n",
    "\n",
    "If some words are not in our dictionary or corpus. When we using language model, we need to overcome this `out-of-vocabulary`(OOV) problems. There are so many intelligent man to solve this probelm. \n",
    "\n",
    "-- \n",
    "\n",
    "The first question is: \n",
    "\n",
    "**Q1: How did you solve this problem in your programming task?**"
   ]
  },
  {
   "cell_type": "markdown",
   "metadata": {},
   "source": [
    "__Ans: __\n",
    "\n",
    "在上面项目中将OOV设为频率出现为1的词来处理。同时我们也有以下解决思路（尚未实施）：\n",
    "\n",
    "导入中文近义词库，将输入的test语句用近义词替换出所有可能test1, test2,..., testn。再分别做测试，选出最优结果。"
   ]
  },
  {
   "cell_type": "markdown",
   "metadata": {},
   "source": [
    "Then, the sencond question is: "
   ]
  },
  {
   "cell_type": "markdown",
   "metadata": {},
   "source": [
    "**Q2: Read about the 'Turing-Good Estimator', can explain the main points about this method, and may implement this method in your programming task**\n",
    "\n",
    "Reference: \n",
    "+ https://www.wikiwand.com/en/Good%E2%80%93Turing_frequency_estimation\n",
    "+ https://github.com/Computing-Intelligence/References/blob/master/NLP/Natural-Language-Processing.pdf, Page-37"
   ]
  },
  {
   "cell_type": "markdown",
   "metadata": {},
   "source": [
    "> coding in here\n",
    "\n",
    "pending..."
   ]
  },
  {
   "cell_type": "code",
   "execution_count": null,
   "metadata": {
    "collapsed": true
   },
   "outputs": [],
   "source": []
  }
 ],
 "metadata": {
  "kernelspec": {
   "display_name": "Python 3",
   "language": "python",
   "name": "python3"
  },
  "language_info": {
   "codemirror_mode": {
    "name": "ipython",
    "version": 3
   },
   "file_extension": ".py",
   "mimetype": "text/x-python",
   "name": "python",
   "nbconvert_exporter": "python",
   "pygments_lexer": "ipython3",
   "version": "3.6.3"
  },
  "toc": {
   "base_numbering": 1,
   "nav_menu": {},
   "number_sections": true,
   "sideBar": true,
   "skip_h1_title": false,
   "title_cell": "Table of Contents",
   "title_sidebar": "Contents",
   "toc_cell": true,
   "toc_position": {},
   "toc_section_display": true,
   "toc_window_display": false
  }
 },
 "nbformat": 4,
 "nbformat_minor": 2
}
