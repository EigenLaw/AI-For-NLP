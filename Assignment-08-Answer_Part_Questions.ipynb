{
  "nbformat": 4,
  "nbformat_minor": 0,
  "metadata": {
    "colab": {
      "name": "Assignment-08-09.ipynb",
      "version": "0.3.2",
      "provenance": [],
      "collapsed_sections": []
    },
    "language_info": {
      "codemirror_mode": {
        "name": "ipython",
        "version": 3
      },
      "file_extension": ".py",
      "mimetype": "text/x-python",
      "name": "python",
      "nbconvert_exporter": "python",
      "pygments_lexer": "ipython3",
      "version": "3.6.8"
    },
    "kernelspec": {
      "display_name": "Python 3",
      "language": "python",
      "name": "python3"
    }
  },
  "cells": [
    {
      "cell_type": "markdown",
      "metadata": {
        "id": "BbNO8E9NTWME",
        "colab_type": "text"
      },
      "source": [
        "## Key points\n",
        "+ 机器学习的基本概念\n",
        "+ 数据分布、数据预处理\n",
        "+ Linear Regression, Logstic Regression\n",
        "+ Gredient Descent\n",
        "+ 作业练习"
      ]
    },
    {
      "cell_type": "markdown",
      "metadata": {
        "id": "F1dztpl5TWML",
        "colab_type": "text"
      },
      "source": [
        "## 基础概念复习"
      ]
    },
    {
      "cell_type": "markdown",
      "metadata": {
        "id": "NJWl5WFmTWMR",
        "colab_type": "text"
      },
      "source": [
        "1. 机器学习方法主要用在什么特点的常见下？ \n",
        "- 数据量大，比如大量文本，大量图片或者大量数值数据（股市、超市、APP用户行为记录等等）；\n",
        "- 有规律的评判标准，比如垃圾邮件具有某些文本特征，可通过这些特征来判断是否为垃圾邮件；\n",
        "- 目标明确，常用“是否”，“哪类”，“概率”，“目标值预测为多少”来形容，比如是否为垃圾邮件，今天下雨的概率，明天某只股票的股价预测为多少，在该图片中是否含有目标物，该目标物在图片中的坐标预测为多少等等。对于目标不明确的问题，比如“阿珍是否爱上了阿强”，“实现一个机器人”，“用机器学习构建智慧城市”等模糊目标很难直接用机器学习回答。"
      ]
    },
    {
      "cell_type": "markdown",
      "metadata": {
        "id": "6TXLaKLJTWMV",
        "colab_type": "text"
      },
      "source": [
        "Ans:"
      ]
    },
    {
      "cell_type": "markdown",
      "metadata": {
        "id": "TfXH49UFTWMZ",
        "colab_type": "text"
      },
      "source": [
        "2. 提出 3 个你认为使用了机器学习方法的现实场景."
      ]
    },
    {
      "cell_type": "markdown",
      "metadata": {
        "id": "D4Hsna1TTWMd",
        "colab_type": "text"
      },
      "source": [
        "Ans: \n",
        "- **推荐系统方向:**\n",
        "新闻/搜索/APP/购物推荐\n",
        "- **自然语言方向:**\n",
        "输入法自动矫正、语音输入矫正、新闻分类、垃圾邮件识别、聊天机器人\n",
        "- **计算机视觉方向:**\n",
        "目标检测、动作检测、人脸识别、自动驾驶、Image2text\n",
        "- **其他应用方向:**\n",
        "飞机延误率预测、股民情绪预测股价、消费者购买预测"
      ]
    },
    {
      "cell_type": "markdown",
      "metadata": {
        "id": "Z0LBDcUwTWMg",
        "colab_type": "text"
      },
      "source": [
        "3. 提出 3 个你认为可以使用机器学习但是还没有使用机器学习方法的场景. "
      ]
    },
    {
      "cell_type": "markdown",
      "metadata": {
        "id": "7X73NPzNTWMj",
        "colab_type": "text"
      },
      "source": [
        " Ans: \n",
        " - Tag小帮手：名片/菜单/简历/新闻 等输入后，通过命名实体规则快速提取里面特定领域的专有名词。\n",
        " - 叫号小帮手：灵感来自周末看牙医，排队叫号等了三个小时！！！（上海牙科防止中心竟然没有预约功能，这个差评）于是突发奇想，要是在叫号显示牌前面放个\"叫号小帮手\"，你想要的号码出现了（比如你前面第三个号码），ta能image2text或voice2text，再发消息给你手机终端通知你，完美！这期间你可以去逛街，喝个奶茶，打局游戏...**应用场景:** 等餐排队叫号，医院排队叫号等等 **威胁：** 大点的商家或医院都会设手机端显示排号多少多少，并提醒用户。\n",
        " \n",
        " - 团聚裁判: 有木有遇到这种情况，玩户外游戏（大风吹、抢椅子、我是电视机）缺少一个裁判或者不知道有什么推荐的团聚游戏，没事，有了“团聚裁判”让你玩起来。技术：语音识别（智能音箱改版一下就好了）\n",
        " \n",
        " - 万能眼睛：1. 机器人眼线：你要在某个街角等某某出现，投喂ta的若干照片，把“万能眼睛”放在那儿就好了。2. 门店选址，你要数数某街道人流量，人力太贵？把“万能眼睛”放在那儿就好了，还能帮你得出男女老少的结构比例，平均开心指数。3. 野生动物保护，需要数数大雁数目？把“万能眼睛”放那儿就好了。"
      ]
    },
    {
      "cell_type": "markdown",
      "metadata": {
        "id": "wymi8goMTWMn",
        "colab_type": "text"
      },
      "source": [
        "4. 什么是“模型”？ 为什么说“All models are wrong, but some useful”."
      ]
    },
    {
      "cell_type": "markdown",
      "metadata": {
        "id": "T5knBHtKTWMr",
        "colab_type": "text"
      },
      "source": [
        "Ans:"
      ]
    },
    {
      "cell_type": "markdown",
      "metadata": {
        "id": "hvGTMNDCTWMu",
        "colab_type": "text"
      },
      "source": [
        "5. Classification 和 Regressionu主要针对什么？ 有什么区别？ "
      ]
    },
    {
      "cell_type": "markdown",
      "metadata": {
        "id": "4j4sTdHjTWMy",
        "colab_type": "text"
      },
      "source": [
        "Ans:\n",
        "- Classification主要针对预测目标为nominal的预测，即分类问题（图片识别猫狗，预测是否点击等等），Regression主要针对预测目标为数值型的预测（预测股价，网页浏览量，某用户点击的概率等等）\n",
        "- 两者主要区别：**Classification**得出的是目标是某某的概率，从而给出最可能的推测，主要算法有决策树系列，贝叶斯分类系列，评判可以用Confusion Matrix；**Regression**得出的是目标值的数值，主要算法为统计常用回归：线性回归、广义线性回归、哑变量回归、岭回归等等，其中线性回归可以用R^2和sigma表示回归相关性和变量重要性程度，均可以用MSE计算回归误差。"
      ]
    },
    {
      "cell_type": "markdown",
      "metadata": {
        "id": "UhtHWkX2TWM1",
        "colab_type": "text"
      },
      "source": [
        "6. precision， recall，f1, auc 分别是什么意思？ 假设一个城市有 10000 人，有 30 个犯罪分子，警察抓到了 35 个人，其中 20 个是犯罪分子，请问这个警察的 precision, recall, f1,auc 分别是什么？ "
      ]
    },
    {
      "cell_type": "markdown",
      "metadata": {
        "id": "E_FNs-MGTWM5",
        "colab_type": "text"
      },
      "source": [
        "**Ans**:\n",
        "- precision: 预测准确率=预测为目标且实际为目标/预测为目标总数\n",
        "- recall: 召回率=预测为目标且实际为目标/实际为目标总数\n",
        "- f1=2/(1/precision+1/recall)\n",
        "- auc(Area Under the Curve): ROC(Receiver Operating Characteristic)曲线图与横轴构成的右下角的面积，ROC中FP rate(False Positive rate = FP/(FP+TN) )为横轴，TP rate(True Positive rate = TP/(TP+FN) )为纵轴，最理想情况是ROC曲线为y = 1，即auc为1，不管FP rate怎么变化，TP rate均为1. 预测截断点(threshold), 即预测是否为目标的概率小于截断点，则该预测为非目标，大于截断点，则预测为目标。\n",
        "\n",
        "- precision = 20/35\n",
        "- recall = 20/30\n",
        "- f1 = 2*20/(30+35) = 40/65\n",
        "- TPR = 20/(20+9955) = 20/9975\n",
        "   FPR = 15/(15+10) = 15/25\n",
        "\n",
        "\n"
      ]
    },
    {
      "cell_type": "markdown",
      "metadata": {
        "id": "0OfuFisTTWM9",
        "colab_type": "text"
      },
      "source": [
        "7. 请提出两种场景，第一种场景下，对模型的评估很注重 precision, 第二种很注重 recall. "
      ]
    },
    {
      "cell_type": "markdown",
      "metadata": {
        "id": "xQf61cmDTWNA",
        "colab_type": "text"
      },
      "source": [
        "Ans:\n",
        "- **注重precision：**这种情况下，往往是进攻性的，对所选（预测）的个体很看重，担心选中的个体有预测错的，不然损失很大。这种情况往往挑选最可能的目标，这种情况下适用于投资portfolio构建（不管漏掉的，只管目前进筐的），分析师预测（预测错了影响声誉，所以每次预测均挑选最可能正确的）。\n",
        "- **注重recall：**这种情况下，往往是防御性的，担心没被选择的个体预测错误，会造成重大损失。这种情况往往会将几个不是那么可能的目标也挑选在内，在这种情况下适用于重疾诊断（漏检了就可能付出生命代价），重刑判定，重灾预测等等。"
      ]
    },
    {
      "cell_type": "markdown",
      "metadata": {
        "id": "JPw227APTWNE",
        "colab_type": "text"
      },
      "source": [
        "8. 什么是 Overfitting， 什么是 Underfitting?"
      ]
    },
    {
      "cell_type": "markdown",
      "metadata": {
        "id": "bEH-GyUJTWNJ",
        "colab_type": "text"
      },
      "source": [
        "**Ans**:\n",
        "- Overfitting: 过拟合，训练的模型重视的数据规律太多，以至于重视某些不重要的规律，这种情况下模型泛化能力较弱，比如训练的预测树叶的模型测试时不能把不带锯齿的树叶（未见过的数据）识别为树叶。\n",
        "- Underfitting: 欠拟合，训练的模型不重视的数据规律太多，以至于不重视某些重要的规律，比如训练的预测树木的模型，换一棵树就不能识别了。\n",
        "\n",
        "解决方法："
      ]
    },
    {
      "cell_type": "markdown",
      "metadata": {
        "id": "-ea8c3y7TWNO",
        "colab_type": "text"
      },
      "source": [
        "9. Lazy-Learning， Lazy在哪里？ \n",
        "\n"
      ]
    },
    {
      "cell_type": "markdown",
      "metadata": {
        "id": "gJthl78sTWNS",
        "colab_type": "text"
      },
      "source": [
        "**Ans**:\n",
        "\n",
        "**There are two types of learners in classification as lazy learners and eager learners.**\n",
        "1. Lazy learners\n",
        "\n",
        "Lazy learners simply store the training data and wait until a testing data appear. When it does, classification is conducted based on the most related data in the stored training data. Compared to eager learners, **lazy learners have less training time but more time in predicting.**\n",
        "- Ex. k-nearest neighbor, Case-based reasoning\n",
        "2. Eager learners\n",
        "\n",
        "Eager learners construct a classification model based on the given training data before receiving data for classification. It must be able to commit to a single hypothesis that covers the entire instance space. Due to the model construction, eager learners take a long time for train and less time to predict.\n",
        "- Ex. Decision Tree, Naive Bayes, Artificial Neural Networks"
      ]
    },
    {
      "cell_type": "markdown",
      "metadata": {
        "id": "V0h6RhyXTWNV",
        "colab_type": "text"
      },
      "source": [
        "10. Median， Mode， Mean分别是什么？ 有什么意义？ "
      ]
    },
    {
      "cell_type": "markdown",
      "metadata": {
        "id": "Qvkqerq1TWNY",
        "colab_type": "text"
      },
      "source": [
        "**Ans**:\n",
        "- Median: 中位数，为ranking的中间数值，常常用来反应群体某特征的中等水平，能够避免极端值影响平均数，从而导致平均数不能反应群体某特征的平均水平。应用比如居民中位数收入。\n",
        "- Mode: 众数，为统计频数最高的特征，常常用来反应群体常见特征，比如做EDA步骤时常常查看数据的分布规律，网站点击率分析时，往往不点击的个案远多于点击的个案，所以该特征上的众数为不点击。\n",
        "- Mean: 平均数，及sum/n（有时候用几何平均数(a1*a2****an)^(1/n) ), 用来反应群体某特征平均水平，最常用的统计特征。"
      ]
    },
    {
      "cell_type": "markdown",
      "metadata": {
        "id": "UGD3a-8OTWNd",
        "colab_type": "text"
      },
      "source": [
        "11. Outlinear（异常值、离群值）是什么？ 如何定义？ "
      ]
    },
    {
      "cell_type": "markdown",
      "metadata": {
        "id": "58bhz6L-TWNh",
        "colab_type": "text"
      },
      "source": [
        "Ans:\n",
        "Outlinear（异常值、离群值）为远离群体数据分布的个别案例值，常常用箱体图来展示，A convenient definition of an outlier is a point which falls more than 1.5 times the interquartile range above the third quartile or below the first quartile."
      ]
    },
    {
      "cell_type": "markdown",
      "metadata": {
        "id": "NhlhwwGMTWNm",
        "colab_type": "text"
      },
      "source": [
        "12. Bias 和 Variance 有什么关系？ 他们之间为什么是一种 tradeoff 的？ "
      ]
    },
    {
      "cell_type": "markdown",
      "metadata": {
        "id": "lA1VjzqLTWNp",
        "colab_type": "text"
      },
      "source": [
        "**Ans**:\n",
        "https://towardsdatascience.com/understanding-the-bias-variance-tradeoff-165e6942b229"
      ]
    },
    {
      "cell_type": "markdown",
      "metadata": {
        "id": "Nk3WypzNTWNu",
        "colab_type": "text"
      },
      "source": [
        "13. Train， Validation，Test 数据集之间是什么关系？ 为什么要这么划分？ "
      ]
    },
    {
      "cell_type": "markdown",
      "metadata": {
        "id": "_i87lSApTWNy",
        "colab_type": "text"
      },
      "source": [
        "Ans:\n",
        "- 三者均为同类数据，具有共同的特征，其中Train data用来训练模型，训练的模型在test data上进行测试，查看模型的优劣并进行筛选。train data与test data常用8:2或9:1随机分割数据集得到。当挑选出最优模型之后，将其在Validation data上进行验证，从而做出最后的评估。\n",
        "- 划分原因：防止相同的数据无法判断模型是否过拟合或者欠拟合。"
      ]
    },
    {
      "cell_type": "markdown",
      "metadata": {
        "id": "PU1OzQpETWN4",
        "colab_type": "text"
      },
      "source": [
        "14. Supervised Learning 的 Supervised 体现在什么地方？ "
      ]
    },
    {
      "cell_type": "markdown",
      "metadata": {
        "id": "Exd3euYLTWN9",
        "colab_type": "text"
      },
      "source": [
        "**Ans**:\n",
        "- Supervised learning is the machine learning task of learning a function that maps an input to an output based on example input-output pairs. It infers a function from labeled training data consisting of a set of training examples.\n",
        "- It is called supervised learning because the process of an algorithm learning from the training dataset can be thought of as a teacher supervising the learning process. We know the correct answers, the algorithm iteratively makes predictions on the training data and is corrected by the teacher. Learning stops when the algorithm achieves an acceptable level of performance.\n",
        "- https://machinelearningmastery.com/supervised-and-unsupervised-machine-learning-algorithms/"
      ]
    },
    {
      "cell_type": "markdown",
      "metadata": {
        "id": "fbzNok9zTWOI",
        "colab_type": "text"
      },
      "source": [
        "15. Linear Regression 中，什么是“线性关系”？ "
      ]
    },
    {
      "cell_type": "markdown",
      "metadata": {
        "id": "gq2VDYXRTWOV",
        "colab_type": "text"
      },
      "source": [
        "Ans:"
      ]
    },
    {
      "cell_type": "markdown",
      "metadata": {
        "id": "20-6eH-VTWOa",
        "colab_type": "text"
      },
      "source": [
        "16. Linear Regression中，Loss 函数怎么定义的？ 为什么要写成这样？ 什么是凸函数？ 优化中有什么意义？ "
      ]
    },
    {
      "cell_type": "markdown",
      "metadata": {
        "id": "OnrQ9DM0TWOi",
        "colab_type": "text"
      },
      "source": [
        "Ans:"
      ]
    },
    {
      "cell_type": "markdown",
      "metadata": {
        "id": "pqajPaXtTWOn",
        "colab_type": "text"
      },
      "source": [
        "17. 简述Gradient Descent的过程，以 $y = -10 * x^2 + 3x + 4 $ 为例，从一个任一点 $ x = 10 $ 开始，如果根据 Gradient Descent 找到最值。"
      ]
    },
    {
      "cell_type": "markdown",
      "metadata": {
        "id": "hUbBVN1ITWOr",
        "colab_type": "text"
      },
      "source": [
        "Ans:"
      ]
    },
    {
      "cell_type": "markdown",
      "metadata": {
        "id": "4cjRHoJkTWOu",
        "colab_type": "text"
      },
      "source": [
        "18. 一般在机器学习数量时，会做一个预处理（Normalization）， 简述 Normalization 的过程，以及数据经过 Normalization之后的平均值和标准差的情况。"
      ]
    },
    {
      "cell_type": "markdown",
      "metadata": {
        "id": "UNO1AetoTWOx",
        "colab_type": "text"
      },
      "source": [
        "Ans:"
      ]
    },
    {
      "cell_type": "markdown",
      "metadata": {
        "id": "1bNW5m5DTWOz",
        "colab_type": "text"
      },
      "source": [
        "19. Logstic Regression 的 Logstic 是什么曲线，被用在什么地方？ "
      ]
    },
    {
      "cell_type": "markdown",
      "metadata": {
        "id": "vhl4JrltTWO1",
        "colab_type": "text"
      },
      "source": [
        "Ans:"
      ]
    },
    {
      "cell_type": "markdown",
      "metadata": {
        "id": "zY3kUpr9TWO3",
        "colab_type": "text"
      },
      "source": [
        "20. Logstic Regression 的 Loss 函数 Cross Entropy 是怎么样的形式？ 有什么意义？ "
      ]
    },
    {
      "cell_type": "markdown",
      "metadata": {
        "id": "eITbEujhTWO6",
        "colab_type": "text"
      },
      "source": [
        "Ans"
      ]
    },
    {
      "cell_type": "markdown",
      "metadata": {
        "id": "-f_1y5eWTWO8",
        "colab_type": "text"
      },
      "source": [
        "## 问题实战"
      ]
    },
    {
      "cell_type": "markdown",
      "metadata": {
        "id": "So-OEmsBTWO-",
        "colab_type": "text"
      },
      "source": [
        "问题描述： 在新闻出版业中一个常常的问题就是新闻版权抄袭，所以我们现在为了避免这个事情，需要建立一个模型，判断这个文章是不是由某个新闻出版单位出版的。 在我们这个问题里，我们需要建立一个模型，该模型接受一个作为文本的输入，然后判断该文本是不是由“新华社”发布的。 "
      ]
    },
    {
      "cell_type": "markdown",
      "metadata": {
        "id": "912dqTDOTWPA",
        "colab_type": "text"
      },
      "source": [
        "Enviroment: \n",
        "\n",
        "+ Python 3.6\n",
        "+ numpy \n",
        "+ scikit learning"
      ]
    },
    {
      "cell_type": "markdown",
      "metadata": {
        "id": "byRkuDiWTWPD",
        "colab_type": "text"
      },
      "source": [
        "**请在 pycharm 中运行程序，该处只作为关键信息的记录。 **"
      ]
    },
    {
      "cell_type": "markdown",
      "metadata": {
        "id": "3oHFqIL1TWPF",
        "colab_type": "text"
      },
      "source": [
        "1. 问什么此问题应该用机器学习方法？ "
      ]
    },
    {
      "cell_type": "markdown",
      "metadata": {
        "id": "6cQ4xgEATWPH",
        "colab_type": "text"
      },
      "source": [
        "Ans："
      ]
    },
    {
      "cell_type": "markdown",
      "metadata": {
        "id": "HNrv4EvATWPJ",
        "colab_type": "text"
      },
      "source": [
        "2. 问什么要对文本进行向量化？ 如何进行文本向量化表示？ （请使用tfidf 或者词向量）"
      ]
    },
    {
      "cell_type": "markdown",
      "metadata": {
        "id": "IS3vh47UTWPM",
        "colab_type": "text"
      },
      "source": [
        "Ans:"
      ]
    },
    {
      "cell_type": "markdown",
      "metadata": {
        "id": "ITu1zwR_TWPO",
        "colab_type": "text"
      },
      "source": [
        "hint: 如果你使用 tfidf，则需要 scikit learning 如果你需要词向量，则需要 gensim"
      ]
    },
    {
      "cell_type": "markdown",
      "metadata": {
        "id": "toQygS-iTWPQ",
        "colab_type": "text"
      },
      "source": [
        "3. 请对数据进行Preprocessing, Normalization 操作\n",
        "（你需要在 Preprocssing 的时候，把文章开头的“新华社”3 个字去掉。如果不去掉，会出现什么问题？）"
      ]
    },
    {
      "cell_type": "markdown",
      "metadata": {
        "id": "VB92shJkTWPT",
        "colab_type": "text"
      },
      "source": [
        "4. 请确定模型的 Baseline 以及确定评测指标（Evaluation）."
      ]
    },
    {
      "cell_type": "markdown",
      "metadata": {
        "id": "27Ws2PqvTWPU",
        "colab_type": "text"
      },
      "source": [
        "5. 尝试不同的模型、不同的参数，观察结果变化。 "
      ]
    },
    {
      "cell_type": "markdown",
      "metadata": {
        "id": "QfQyGWZ0TWPW",
        "colab_type": "text"
      },
      "source": [
        "6. 依据模型的表现，进行参数调节。 "
      ]
    }
  ]
}