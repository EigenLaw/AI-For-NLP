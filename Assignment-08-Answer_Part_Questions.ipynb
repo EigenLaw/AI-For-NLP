{
 "cells": [
  {
   "cell_type": "markdown",
   "metadata": {
    "toc": true
   },
   "source": [
    "<h1>Table of Contents<span class=\"tocSkip\"></span></h1>\n",
    "<div class=\"toc\"><ul class=\"toc-item\"><li><span><a href=\"#Key-points\" data-toc-modified-id=\"Key-points-1\"><span class=\"toc-item-num\">1&nbsp;&nbsp;</span>Key points</a></span></li><li><span><a href=\"#基础概念复习\" data-toc-modified-id=\"基础概念复习-2\"><span class=\"toc-item-num\">2&nbsp;&nbsp;</span>基础概念复习</a></span><ul class=\"toc-item\"><li><span><a href=\"#机器学习方法主要用在什么特点的常见下？\" data-toc-modified-id=\"机器学习方法主要用在什么特点的常见下？-2.1\"><span class=\"toc-item-num\">2.1&nbsp;&nbsp;</span>机器学习方法主要用在什么特点的常见下？</a></span></li><li><span><a href=\"#提出-3-个你认为使用了机器学习方法的现实场景.\" data-toc-modified-id=\"提出-3-个你认为使用了机器学习方法的现实场景.-2.2\"><span class=\"toc-item-num\">2.2&nbsp;&nbsp;</span>提出 3 个你认为使用了机器学习方法的现实场景.</a></span></li><li><span><a href=\"#提出-3-个你认为可以使用机器学习但是还没有使用机器学习方法的场景.\" data-toc-modified-id=\"提出-3-个你认为可以使用机器学习但是还没有使用机器学习方法的场景.-2.3\"><span class=\"toc-item-num\">2.3&nbsp;&nbsp;</span>提出 3 个你认为可以使用机器学习但是还没有使用机器学习方法的场景.</a></span></li><li><span><a href=\"#什么是“模型”？-为什么说“All-models-are-wrong,-but-some-useful”.\" data-toc-modified-id=\"什么是“模型”？-为什么说“All-models-are-wrong,-but-some-useful”.-2.4\"><span class=\"toc-item-num\">2.4&nbsp;&nbsp;</span>什么是“模型”？ 为什么说“All models are wrong, but some useful”.</a></span></li><li><span><a href=\"#Classification-和-Regressionu主要针对什么？-有什么区别？\" data-toc-modified-id=\"Classification-和-Regressionu主要针对什么？-有什么区别？-2.5\"><span class=\"toc-item-num\">2.5&nbsp;&nbsp;</span>Classification 和 Regressionu主要针对什么？ 有什么区别？</a></span></li><li><span><a href=\"#precision，-recall，f1,-auc-分别是什么意思？-假设一个城市有-10000-人，有-30-个犯罪分子，警察抓到了-35-个人，其中-20-个是犯罪分子，请问这个警察的-precision,-recall,-f1,auc-分别是什么？\" data-toc-modified-id=\"precision，-recall，f1,-auc-分别是什么意思？-假设一个城市有-10000-人，有-30-个犯罪分子，警察抓到了-35-个人，其中-20-个是犯罪分子，请问这个警察的-precision,-recall,-f1,auc-分别是什么？-2.6\"><span class=\"toc-item-num\">2.6&nbsp;&nbsp;</span>precision， recall，f1, auc 分别是什么意思？ 假设一个城市有 10000 人，有 30 个犯罪分子，警察抓到了 35 个人，其中 20 个是犯罪分子，请问这个警察的 precision, recall, f1,auc 分别是什么？</a></span></li><li><span><a href=\"#请提出两种场景，第一种场景下，对模型的评估很注重-precision,-第二种很注重-recall.\" data-toc-modified-id=\"请提出两种场景，第一种场景下，对模型的评估很注重-precision,-第二种很注重-recall.-2.7\"><span class=\"toc-item-num\">2.7&nbsp;&nbsp;</span>请提出两种场景，第一种场景下，对模型的评估很注重 precision, 第二种很注重 recall.</a></span></li><li><span><a href=\"#什么是-Overfitting，-什么是-Underfitting?\" data-toc-modified-id=\"什么是-Overfitting，-什么是-Underfitting?-2.8\"><span class=\"toc-item-num\">2.8&nbsp;&nbsp;</span>什么是 Overfitting， 什么是 Underfitting?</a></span></li><li><span><a href=\"#Lazy-Learning，-Lazy在哪里？\" data-toc-modified-id=\"Lazy-Learning，-Lazy在哪里？-2.9\"><span class=\"toc-item-num\">2.9&nbsp;&nbsp;</span>Lazy-Learning， Lazy在哪里？</a></span></li><li><span><a href=\"#Median，-Mode，-Mean分别是什么？-有什么意义？\" data-toc-modified-id=\"Median，-Mode，-Mean分别是什么？-有什么意义？-2.10\"><span class=\"toc-item-num\">2.10&nbsp;&nbsp;</span>Median， Mode， Mean分别是什么？ 有什么意义？</a></span></li><li><span><a href=\"#Outlinear（异常值、离群值）是什么？-如何定义？\" data-toc-modified-id=\"Outlinear（异常值、离群值）是什么？-如何定义？-2.11\"><span class=\"toc-item-num\">2.11&nbsp;&nbsp;</span>Outlinear（异常值、离群值）是什么？ 如何定义？</a></span></li><li><span><a href=\"#Bias-和-Variance-有什么关系？-他们之间为什么是一种-tradeoff-的？\" data-toc-modified-id=\"Bias-和-Variance-有什么关系？-他们之间为什么是一种-tradeoff-的？-2.12\"><span class=\"toc-item-num\">2.12&nbsp;&nbsp;</span>Bias 和 Variance 有什么关系？ 他们之间为什么是一种 tradeoff 的？</a></span></li><li><span><a href=\"#Train，-Validation，Test-数据集之间是什么关系？-为什么要这么划分？\" data-toc-modified-id=\"Train，-Validation，Test-数据集之间是什么关系？-为什么要这么划分？-2.13\"><span class=\"toc-item-num\">2.13&nbsp;&nbsp;</span>Train， Validation，Test 数据集之间是什么关系？ 为什么要这么划分？</a></span></li><li><span><a href=\"#Supervised-Learning-的-Supervised-体现在什么地方？\" data-toc-modified-id=\"Supervised-Learning-的-Supervised-体现在什么地方？-2.14\"><span class=\"toc-item-num\">2.14&nbsp;&nbsp;</span>Supervised Learning 的 Supervised 体现在什么地方？</a></span></li><li><span><a href=\"#Linear-Regression-中，什么是“线性关系”？\" data-toc-modified-id=\"Linear-Regression-中，什么是“线性关系”？-2.15\"><span class=\"toc-item-num\">2.15&nbsp;&nbsp;</span>Linear Regression 中，什么是“线性关系”？</a></span></li><li><span><a href=\"#Linear-Regression中，Loss-函数怎么定义的？-为什么要写成这样？-什么是凸函数？-优化中有什么意义？\" data-toc-modified-id=\"Linear-Regression中，Loss-函数怎么定义的？-为什么要写成这样？-什么是凸函数？-优化中有什么意义？-2.16\"><span class=\"toc-item-num\">2.16&nbsp;&nbsp;</span>Linear Regression中，Loss 函数怎么定义的？ 为什么要写成这样？ 什么是凸函数？ 优化中有什么意义？</a></span></li><li><span><a href=\"#简述Gradient-Descent的过程，以-$y-=--10-*-x^2-+-3x-+-4-$-为例，从一个任一点-$-x-=-10-$-开始，如果根据-Gradient-Descent-找到最值。\" data-toc-modified-id=\"简述Gradient-Descent的过程，以-$y-=--10-*-x^2-+-3x-+-4-$-为例，从一个任一点-$-x-=-10-$-开始，如果根据-Gradient-Descent-找到最值。-2.17\"><span class=\"toc-item-num\">2.17&nbsp;&nbsp;</span>简述Gradient Descent的过程，以 $y = -10 * x^2 + 3x + 4 $ 为例，从一个任一点 $ x = 10 $ 开始，如果根据 Gradient Descent 找到最值。</a></span></li><li><span><a href=\"#一般在机器学习数量时，会做一个预处理（Normalization），-简述-Normalization-的过程，以及数据经过-Normalization之后的平均值和标准差的情况。\" data-toc-modified-id=\"一般在机器学习数量时，会做一个预处理（Normalization），-简述-Normalization-的过程，以及数据经过-Normalization之后的平均值和标准差的情况。-2.18\"><span class=\"toc-item-num\">2.18&nbsp;&nbsp;</span>一般在机器学习数量时，会做一个预处理（Normalization）， 简述 Normalization 的过程，以及数据经过 Normalization之后的平均值和标准差的情况。</a></span></li><li><span><a href=\"#Logstic-Regression-的-Logstic-是什么曲线，被用在什么地方？\" data-toc-modified-id=\"Logstic-Regression-的-Logstic-是什么曲线，被用在什么地方？-2.19\"><span class=\"toc-item-num\">2.19&nbsp;&nbsp;</span>Logstic Regression 的 Logstic 是什么曲线，被用在什么地方？</a></span></li><li><span><a href=\"#Logstic-Regression-的-Loss-函数-Cross-Entropy-是怎么样的形式？-有什么意义？\" data-toc-modified-id=\"Logstic-Regression-的-Loss-函数-Cross-Entropy-是怎么样的形式？-有什么意义？-2.20\"><span class=\"toc-item-num\">2.20&nbsp;&nbsp;</span>Logstic Regression 的 Loss 函数 Cross Entropy 是怎么样的形式？ 有什么意义？</a></span></li></ul></li></ul></div>"
   ]
  },
  {
   "cell_type": "markdown",
   "metadata": {
    "colab_type": "text",
    "id": "BbNO8E9NTWME"
   },
   "source": [
    "## Key points\n",
    "+ 机器学习的基本概念\n",
    "+ 数据分布、数据预处理\n",
    "+ Linear Regression, Logstic Regression\n",
    "+ Gredient Descent\n",
    "+ 作业练习"
   ]
  },
  {
   "cell_type": "markdown",
   "metadata": {
    "colab_type": "text",
    "id": "F1dztpl5TWML"
   },
   "source": [
    "## 基础概念复习"
   ]
  },
  {
   "cell_type": "markdown",
   "metadata": {
    "colab_type": "text",
    "id": "NJWl5WFmTWMR"
   },
   "source": [
    "### 机器学习方法主要用在什么特点的常见下？ \n"
   ]
  },
  {
   "cell_type": "markdown",
   "metadata": {
    "colab_type": "text",
    "id": "6TXLaKLJTWMV"
   },
   "source": [
    "Ans:\n",
    "\n",
    "+ 数据量大，比如大量文本，大量图片或者大量数值数据（股市、超市、APP用户行为记录等等）；\n",
    "+ 有规律的评判标准，比如垃圾邮件具有某些文本特征，可通过这些特征来判断是否为垃圾邮件；\n",
    "+ 目标明确，常用“是否”，“哪类”，“概率”，“目标值预测为多少”来形容，比如是否为垃圾邮件，今天下雨的概率，明天某只股票的股价预测为多少，在该图片中是否含有目标物，该目标物在图片中的坐标预测为多少等等。对于目标不明确的问题，比如“阿珍是否爱上了阿强”，“实现一个机器人”，“用机器学习构建智慧城市”等模糊目标很难直接用机器学习回答。"
   ]
  },
  {
   "cell_type": "markdown",
   "metadata": {
    "colab_type": "text",
    "id": "TfXH49UFTWMZ"
   },
   "source": [
    "### 提出 3 个你认为使用了机器学习方法的现实场景."
   ]
  },
  {
   "cell_type": "markdown",
   "metadata": {
    "colab_type": "text",
    "id": "D4Hsna1TTWMd"
   },
   "source": [
    "Ans: \n",
    "- **推荐系统方向:**\n",
    "新闻/搜索/APP/购物推荐\n",
    "- **自然语言方向:**\n",
    "输入法自动矫正、语音输入矫正、新闻分类、垃圾邮件识别、聊天机器人\n",
    "- **计算机视觉方向:**\n",
    "目标检测、动作检测、人脸识别、自动驾驶、Image2text\n",
    "- **其他应用方向:**\n",
    "飞机延误率预测、股民情绪预测股价、消费者购买预测"
   ]
  },
  {
   "cell_type": "markdown",
   "metadata": {
    "colab_type": "text",
    "id": "Z0LBDcUwTWMg"
   },
   "source": [
    "### 提出 3 个你认为可以使用机器学习但是还没有使用机器学习方法的场景. "
   ]
  },
  {
   "cell_type": "markdown",
   "metadata": {
    "colab_type": "text",
    "id": "7X73NPzNTWMj"
   },
   "source": [
    " Ans: \n",
    " - Tag小帮手：名片/菜单/简历/新闻 等输入后，通过命名实体规则快速提取里面特定领域的专有名词。\n",
    " - 叫号小帮手：灵感来自周末看牙医，排队叫号等了三个小时！！！（上海牙科防止中心竟然没有预约功能，这个差评）于是突发奇想，要是在叫号显示牌前面放个\"叫号小帮手\"，你想要的号码出现了（比如你前面第三个号码），ta能image2text或voice2text，再发消息给你手机终端通知你，完美！这期间你可以去逛街，喝个奶茶，打局游戏...**应用场景:** 等餐排队叫号，医院排队叫号等等 **威胁：** 大点的商家或医院都会设手机端显示排号多少多少，并提醒用户。\n",
    " \n",
    " - 团聚裁判: 有木有遇到这种情况，玩户外游戏（大风吹、抢椅子、我是电视机）缺少一个裁判或者不知道有什么推荐的团聚游戏，没事，有了“团聚裁判”让你玩起来。技术：语音识别（智能音箱改版一下就好了）\n",
    " \n",
    " - 万能眼睛：1. 机器人眼线：你要在某个街角等某某出现，投喂ta的若干照片，把“万能眼睛”放在那儿就好了。2. 门店选址，你要数数某街道人流量，人力太贵？把“万能眼睛”放在那儿就好了，还能帮你得出男女老少的结构比例，平均开心指数。3. 野生动物保护，需要数数大雁数目？把“万能眼睛”放那儿就好了。"
   ]
  },
  {
   "cell_type": "markdown",
   "metadata": {
    "colab_type": "text",
    "id": "wymi8goMTWMn"
   },
   "source": [
    "### 什么是“模型”？ 为什么说“All models are wrong, but some useful”."
   ]
  },
  {
   "cell_type": "markdown",
   "metadata": {
    "colab_type": "text",
    "id": "T5knBHtKTWMr"
   },
   "source": [
    "Ans:\n",
    "模型是通过假设以试图理想地模拟现实问题的方法，比如经济模型、物理模型和数学模型。\n",
    "All models are wrong, because the reality is too complicated to realize with assumptions and models.\n",
    "Some models are useful because they can represent the reality in some scale, and do better than other methods."
   ]
  },
  {
   "cell_type": "markdown",
   "metadata": {
    "colab_type": "text",
    "id": "hvGTMNDCTWMu"
   },
   "source": [
    "### Classification 和 Regressionu主要针对什么？ 有什么区别？ "
   ]
  },
  {
   "cell_type": "markdown",
   "metadata": {
    "colab_type": "text",
    "id": "4j4sTdHjTWMy"
   },
   "source": [
    "Ans:\n",
    "- Classification主要针对预测目标为nominal的预测，即分类问题（图片识别猫狗，预测是否点击等等），Regression主要针对预测目标为数值型的预测（预测股价，网页浏览量，某用户点击的概率等等）\n",
    "- 两者主要区别：**Classification**得出的是目标是某某的概率，从而给出最可能的推测，主要算法有决策树系列，贝叶斯分类系列，评判可以用Confusion Matrix；**Regression**得出的是目标值的数值，主要算法为统计常用回归：线性回归、广义线性回归、哑变量回归、岭回归等等，其中线性回归可以用R^2和sigma表示回归相关性和变量重要性程度，均可以用MSE计算回归误差。"
   ]
  },
  {
   "cell_type": "markdown",
   "metadata": {
    "colab_type": "text",
    "id": "UhtHWkX2TWM1"
   },
   "source": [
    "### precision， recall，f1, auc 分别是什么意思？ 假设一个城市有 10000 人，有 30 个犯罪分子，警察抓到了 35 个人，其中 20 个是犯罪分子，请问这个警察的 precision, recall, f1,auc 分别是什么？ "
   ]
  },
  {
   "cell_type": "markdown",
   "metadata": {
    "colab_type": "text",
    "id": "E_FNs-MGTWM5"
   },
   "source": [
    "**Ans**:\n",
    "- precision: 预测准确率=预测为目标且实际为目标TP/预测为目标总数(TP+FP)\n",
    "- recall: 召回率=预测为目标且实际为目标TP/实际为目标总数(TP+TN)\n",
    "- f1=2/(1/precision+1/recall)\n",
    "- auc(Area Under the Curve): ROC(Receiver Operating Characteristic)曲线图与横轴构成的右下角的面积，ROC中FP rate(False Positive rate = FP/(FP+TN) )为横轴，TP rate(True Positive rate = TP/(TP+FN) )为纵轴，最理想情况是ROC曲线为y = 1，即auc为1，不管FP rate怎么变化，TP rate均为1. 预测截断点(threshold), 即预测是否为目标的概率小于截断点，则该预测为非目标，大于截断点，则预测为目标。\n",
    "\n",
    "- precision = 20/35\n",
    "- recall = 20/30\n",
    "- f1 = 2*20/(30+35) = 40/65\n",
    "- TPR = 20/(20+9955) = 20/9975\n",
    "   FPR = 15/(15+10) = 15/25\n",
    "\n",
    "\n"
   ]
  },
  {
   "cell_type": "markdown",
   "metadata": {
    "colab_type": "text",
    "id": "0OfuFisTTWM9"
   },
   "source": [
    "### 请提出两种场景，第一种场景下，对模型的评估很注重 precision, 第二种很注重 recall. "
   ]
  },
  {
   "cell_type": "markdown",
   "metadata": {
    "colab_type": "text",
    "id": "xQf61cmDTWNA"
   },
   "source": [
    "Ans:\n",
    "- **注重precision：**这种情况下，往往是进攻性的，对所选（预测）的个体很看重，担心选中的个体有预测错的，不然损失很大。这种情况往往挑选最可能的目标，这种情况下适用于投资portfolio构建（不管漏掉的，只管目前进筐的），分析师预测（预测错了影响声誉，所以每次预测均挑选最可能正确的）。\n",
    "- **注重recall：**这种情况下，往往是防御性的，担心没被选择的个体预测错误，会造成重大损失。这种情况往往会将几个不是那么可能的目标也挑选在内，在这种情况下适用于重疾诊断（漏检了就可能付出生命代价），重刑判定，重灾预测等等。"
   ]
  },
  {
   "cell_type": "markdown",
   "metadata": {
    "colab_type": "text",
    "id": "JPw227APTWNE"
   },
   "source": [
    "### 什么是 Overfitting， 什么是 Underfitting?"
   ]
  },
  {
   "cell_type": "markdown",
   "metadata": {
    "colab_type": "text",
    "id": "bEH-GyUJTWNJ"
   },
   "source": [
    "**Ans**:\n",
    "- Overfitting: 过拟合，训练的模型重视的数据规律太多，以至于重视某些不重要的规律，这种情况下模型泛化能力较弱，比如训练的预测树叶的模型测试时不能把不带锯齿的树叶（未见过的数据）识别为树叶。\n",
    "- Underfitting: 欠拟合，训练的模型不重视的数据规律太多，以至于不重视某些重要的规律，比如训练的预测树木的模型，换一棵树就不能识别了。\n",
    "\n",
    "**解决欠拟合：**\n",
    "- 增加新特征，可以考虑加入特征组合、高次特征，来增大假设空间\n",
    "- 模型复杂化，例如，增加决策树的深度，增加神经网络的隐藏层数和隐藏单元数等\n",
    "- 如果有正则项可以减少正则项参数或直接除去正则项\n",
    "- Boosting, Boosting往往有较小的Bias,比如Gradient Boosting等\n",
    "- 增加训练数据往往没有用，欠拟合本来就是模型的学习能力不足，增加再多的数据给他训练，他也没能力学习好\n",
    "\n",
    "**解决过拟合：**\n",
    "- 交叉检验，通过交叉检验得到交优的模型参数 \n",
    "- 特征选择，减少特征数或使用较少特征组合，对于按区间离散化的特征，增大划分的区间 \n",
    "- 正则化，常用的有L1, L2正则，如果有正则项则可以考虑增大正则项参数 \n",
    "- 数据增广，可以有限的避免过拟合 \n",
    "- 降低模型的复杂度 \n",
    "- 使用Dropout \n",
    "- 提前结束训练，即early stopping \n",
    "\n",
    "**模型实际使用效果不佳：**\n",
    "- 卡阈值\n",
    "- 清洗数据\n",
    "- 合理的数据增广\n",
    "- 采集实际使用情况下的误识别数据，finetune训练\n",
    "\n",
    "**OD中TensorFlow报错loss为NaN的可能原因及解决方法：**\n",
    "- 未做数据归一化，做归一化，或者使用BN、L2 norm等normalization\n",
    "- 学习率过大，调小\n",
    "- 标注的坐标框越界问题，重新标注\n",
    "- 更换初始化方式（xavier, msra）\n",
    "- 加入gradient clipping\n",
    "\n",
    "**loss不收敛的可能原因及解决方法：**\n",
    "- 清洗数据，检查数据是否有错标漏标\n",
    "- 未做数据预处理\n",
    "- 学习率设置不合理\n",
    "- batch_size设置不合理\n",
    "- 未做数据归一化，做归一化，或者使用BN、L2 norm等normalization\n",
    "- 网络过深"
   ]
  },
  {
   "cell_type": "markdown",
   "metadata": {
    "colab_type": "text",
    "id": "-ea8c3y7TWNO"
   },
   "source": [
    "### Lazy-Learning， Lazy在哪里？ \n",
    "\n"
   ]
  },
  {
   "cell_type": "markdown",
   "metadata": {
    "colab_type": "text",
    "id": "gJthl78sTWNS"
   },
   "source": [
    "**Ans**:\n",
    "\n",
    "**There are two types of learners in classification as lazy learners and eager learners.**\n",
    "\n",
    "1.Lazy learners\n",
    "\n",
    "Lazy learners simply store the training data and wait until a testing data appear. When it does, classification is conducted based on the most related data in the stored training data. Compared to eager learners, **lazy learners have less training time but more time in predicting.**\n",
    "\n",
    "Ex. k-nearest neighbor, Case-based reasoning\n",
    "\n",
    "2.Eager learners\n",
    "\n",
    "Eager learners construct a classification model based on the given training data before receiving data for classification. It must be able to commit to a single hypothesis that covers the entire instance space. Due to the model construction, eager learners take a long time for train and less time to predict.\n",
    "- Ex. Decision Tree, Naive Bayes, Artificial Neural Networks"
   ]
  },
  {
   "cell_type": "markdown",
   "metadata": {
    "colab_type": "text",
    "id": "V0h6RhyXTWNV"
   },
   "source": [
    "### Median， Mode， Mean分别是什么？ 有什么意义？ "
   ]
  },
  {
   "cell_type": "markdown",
   "metadata": {
    "colab_type": "text",
    "id": "Qvkqerq1TWNY"
   },
   "source": [
    "**Ans**:\n",
    "- Median: 中位数，为ranking的中间数值，常常用来反应群体某特征的中等水平，能够避免极端值影响平均数，从而导致平均数不能反应群体某特征的平均水平。应用比如居民中位数收入。\n",
    "- Mode: 众数，为统计频数最高的特征，常常用来反应群体常见特征，比如做EDA步骤时常常查看数据的分布规律，网站点击率分析时，往往不点击的个案远多于点击的个案，所以该特征上的众数为不点击。\n",
    "- Mean: 平均数，及sum/n（有时候用几何平均数(a1*a2****an)^(1/n) ), 用来反应群体某特征平均水平，最常用的统计特征。"
   ]
  },
  {
   "cell_type": "markdown",
   "metadata": {
    "colab_type": "text",
    "id": "UGD3a-8OTWNd"
   },
   "source": [
    "### Outlinear（异常值、离群值）是什么？ 如何定义？ "
   ]
  },
  {
   "cell_type": "markdown",
   "metadata": {
    "colab_type": "text",
    "id": "58bhz6L-TWNh"
   },
   "source": [
    "Ans:\n",
    "Outlinear（异常值、离群值）为远离群体数据分布的个别案例值，常常用箱体图来展示，A convenient definition of an outlier is a point which falls more than 1.5 times the interquartile range above the third quartile or below the first quartile."
   ]
  },
  {
   "cell_type": "markdown",
   "metadata": {
    "colab_type": "text",
    "id": "NhlhwwGMTWNm"
   },
   "source": [
    "### Bias 和 Variance 有什么关系？ 他们之间为什么是一种 tradeoff 的？ "
   ]
  },
  {
   "cell_type": "markdown",
   "metadata": {
    "colab_type": "text",
    "id": "lA1VjzqLTWNp"
   },
   "source": [
    "**Ans**:\n",
    "\n",
    "类似欠拟合和过拟合，只有既不过拟合又不欠拟合才是好的拟合\n",
    "\n",
    "[Reference](https://towardsdatascience.com/understanding-the-bias-variance-tradeoff-165e6942b229)\n",
    "\n",
    "- What is bias?\n",
    "\n",
    "Bias is the difference between the average prediction of our model and the correct value which we are trying to predict. Model with high bias pays very little attention to the training data and oversimplifies the model. It always leads to high error on training and test data.\n",
    "\n",
    "- What is variance?\n",
    "\n",
    "Variance is the variability of model prediction for a given data point or a value which tells us spread of our data. Model with high variance pays a lot of attention to training data and does not generalize on the data which it hasn’t seen before. As a result, such models perform very well on training data but has high error rates on test data."
   ]
  },
  {
   "cell_type": "markdown",
   "metadata": {
    "colab_type": "text",
    "id": "Nk3WypzNTWNu"
   },
   "source": [
    "### Train， Validation，Test 数据集之间是什么关系？ 为什么要这么划分？ "
   ]
  },
  {
   "cell_type": "markdown",
   "metadata": {
    "colab_type": "text",
    "id": "_i87lSApTWNy"
   },
   "source": [
    "Ans:\n",
    "- 三者均为同类数据，具有共同的特征，其中Train data用来训练模型，训练的模型在test data上进行测试，查看模型的优劣并进行筛选。train data与test data常用8:2或9:1随机分割数据集得到。当挑选出最优模型之后，将其在Validation data上进行验证，从而做出最后的评估。\n",
    "- 划分原因：防止相同的数据无法判断模型是否过拟合或者欠拟合。"
   ]
  },
  {
   "cell_type": "markdown",
   "metadata": {
    "colab_type": "text",
    "id": "PU1OzQpETWN4"
   },
   "source": [
    "### Supervised Learning 的 Supervised 体现在什么地方？ "
   ]
  },
  {
   "cell_type": "markdown",
   "metadata": {
    "colab_type": "text",
    "id": "Exd3euYLTWN9"
   },
   "source": [
    "**Ans**:\n",
    "- Supervised learning is the machine learning task of learning a function that maps an input to an output based on example input-output pairs. It infers a function from labeled training data consisting of a set of training examples.\n",
    "- It is called supervised learning because the process of an algorithm learning from the training dataset can be thought of as a teacher supervising the learning process. We know the correct answers, the algorithm iteratively makes predictions on the training data and is corrected by the teacher. Learning stops when the algorithm achieves an acceptable level of performance.\n",
    "- [Reference](https://machinelearningmastery.com/supervised-and-unsupervised-machine-learning-algorithms/)"
   ]
  },
  {
   "cell_type": "markdown",
   "metadata": {
    "colab_type": "text",
    "id": "fbzNok9zTWOI"
   },
   "source": [
    "### Linear Regression 中，什么是“线性关系”？ "
   ]
  },
  {
   "cell_type": "markdown",
   "metadata": {
    "colab_type": "text",
    "id": "gq2VDYXRTWOV"
   },
   "source": [
    "**Ans:**\n",
    "\n",
    "- 简单的线性关系：y = a*x + b (a!=0), x为IV自变量，y为DV因变量；\n",
    "- 线性回归能评估给定的IV对DV影响大小\n",
    "- 线性回归能通过IV预测DV\n",
    "- 线性回归能发现变化趋势\n",
    "\n",
    "[Reference](https://www.statisticssolutions.com/what-is-linear-regression/)\n",
    "\n",
    "**There are several types of linear regression analyses available to researchers.**\n",
    "\n",
    "- **Simple linear regression**\n",
    "1 dependent variable (interval or ratio), 1 independent variable (interval or ratio or dichotomous)\n",
    "- **Multiple linear regression**\n",
    "1 dependent variable (interval or ratio) , 2+ independent variables (interval or ratio or dichotomous)\n",
    "- Logistic regression\n",
    "1 dependent variable (dichotomous), 2+ independent variable(s) (interval or ratio or dichotomous)\n",
    "- Ordinal regression\n",
    "1 dependent variable (ordinal), 1+ independent variable(s) (nominal or dichotomous)\n",
    "- Multinominal regression\n",
    "1 dependent variable (nominal), 1+ independent variable(s) (interval or ratio or dichotomous)\n",
    "- Discriminant analysis\n",
    "1 dependent variable (nominal), 1+ independent variable(s) (interval or ratio)\n",
    "\n",
    "\n",
    "When selecting the model for the analysis, an important consideration is model fitting.  Adding independent variables to a linear regression model will always increase the explained variance of the model (typically expressed as R²).  \n",
    "\n",
    "However, overfitting can occur by adding too many variables to the model, which reduces model generalizability.  \n",
    "\n",
    "Occam’s razor describes the problem extremely well – a simple model is usually preferable to a more complex model. \n",
    "\n",
    "Statistically, if a model includes a large number of variables, some of the variables will be statistically significant due to chance alone."
   ]
  },
  {
   "cell_type": "markdown",
   "metadata": {
    "colab_type": "text",
    "id": "20-6eH-VTWOa"
   },
   "source": [
    "### Linear Regression中，Loss 函数怎么定义的？ 为什么要写成这样？ 什么是凸函数？ 优化中有什么意义？ "
   ]
  },
  {
   "cell_type": "markdown",
   "metadata": {
    "colab_type": "text",
    "id": "OnrQ9DM0TWOi"
   },
   "source": [
    "**Ans:**\n",
    "\n",
    "- 最小二乘法(least square error), L2: $\\Sigma (\\hat{Y} - Y)^2 $\n",
    "- 这样能够很好地表示预测值与实际值的差异程度\n",
    "- 包含最优解的函数\n",
    "- 凸函数给凸优化问题带来了便利，从而给优化领域中带来一颗明珠"
   ]
  },
  {
   "cell_type": "markdown",
   "metadata": {
    "colab_type": "text",
    "id": "pqajPaXtTWOn"
   },
   "source": [
    "### 简述Gradient Descent的过程，以 $y = -10 * x^2 + 3x + 4 $ 为例，从一个任一点 $ x = 10 $ 开始，如果根据 Gradient Descent 找到最值。"
   ]
  },
  {
   "cell_type": "markdown",
   "metadata": {
    "colab_type": "text",
    "id": "hUbBVN1ITWOr"
   },
   "source": [
    "**Ans:**\n",
    "- 梯度的方向是函数f增长最快的方向，梯度的反方向是f降低最快的方向\n",
    "- 我们希望找到最大值，我们沿着梯度的方向，f值增加。\n",
    "\n",
    "f在点x0=10的导数小于0，从而f在点x0的梯度方向为负，即梯度方向为f’(x0)，故由梯度下降法可知，下一个迭代值$x1 = x0 + \\alpha * (f'(x0))$，也就是说x0向左移动一小步到了x1，同理在x1点的导数同样小于零，下一次迭代x1向左移动一小步到达x2，一直进行下去，只要每次移动的步数不是很大，我们就可以得到收敛的解x。\n",
    "\n",
    "[Reference](https://blog.csdn.net/zhulf0804/article/details/52250220 )"
   ]
  },
  {
   "cell_type": "markdown",
   "metadata": {
    "colab_type": "text",
    "id": "4cjRHoJkTWOu"
   },
   "source": [
    "### 一般在机器学习数量时，会做一个预处理（Normalization）， 简述 Normalization 的过程，以及数据经过 Normalization之后的平均值和标准差的情况。"
   ]
  },
  {
   "cell_type": "markdown",
   "metadata": {
    "colab_type": "text",
    "id": "UNO1AetoTWOx"
   },
   "source": [
    "**Ans:**\n",
    "\n",
    "- 减均值除以标准差\n",
    "- mean = 0; std = 1"
   ]
  },
  {
   "cell_type": "markdown",
   "metadata": {
    "colab_type": "text",
    "id": "1bNW5m5DTWOz"
   },
   "source": [
    "### Logstic Regression 的 Logstic 是什么曲线，被用在什么地方？ "
   ]
  },
  {
   "cell_type": "markdown",
   "metadata": {
    "colab_type": "text",
    "id": "vhl4JrltTWO1"
   },
   "source": [
    "**Ans:**\n",
    "- $Prob = \\frac{1}{1 + e^{-x}}$ or $Prob = \\frac{e^{x}}{1 + e^{x}}$ or $\\frac{Prob}{1-Prob} = e^{x}$  \n",
    "x可以为$a1*x1+a2*x2+...+b$\n",
    "- 用在求概率问题上，比如下雨的概率、购买的概率、预测为A的概率等等"
   ]
  },
  {
   "cell_type": "markdown",
   "metadata": {
    "colab_type": "text",
    "id": "zY3kUpr9TWO3"
   },
   "source": [
    "### Logstic Regression 的 Loss 函数 Cross Entropy 是怎么样的形式？ 有什么意义？ "
   ]
  },
  {
   "cell_type": "markdown",
   "metadata": {
    "colab_type": "text",
    "id": "eITbEujhTWO6"
   },
   "source": [
    "**Ans：**\n",
    "- $(-y * log(h(x)) - (1 - y) * log(1 - h(x))).mean()$ \n",
    "其中y只能为0或1\n",
    "- 能够求对数计算下的最小损失值\n",
    "- Logistic Regression采用对数损失函数: $L(Y,P(Y|X))=−logP(Y|X)$\n",
    "- y为1时，cost为$−log(h(x))$; y为0时，cost为$−log(1−h(x))$\n",
    "\n",
    "[Reference](https://blog.csdn.net/bitcarmanlee/article/details/51165444)"
   ]
  },
  {
   "cell_type": "code",
   "execution_count": null,
   "metadata": {
    "collapsed": true
   },
   "outputs": [],
   "source": []
  }
 ],
 "metadata": {
  "colab": {
   "collapsed_sections": [],
   "name": "Assignment-08-09.ipynb",
   "provenance": [],
   "version": "0.3.2"
  },
  "kernelspec": {
   "display_name": "Python 3",
   "language": "python",
   "name": "python3"
  },
  "language_info": {
   "codemirror_mode": {
    "name": "ipython",
    "version": 3
   },
   "file_extension": ".py",
   "mimetype": "text/x-python",
   "name": "python",
   "nbconvert_exporter": "python",
   "pygments_lexer": "ipython3",
   "version": "3.6.3"
  },
  "toc": {
   "base_numbering": 1,
   "nav_menu": {},
   "number_sections": true,
   "sideBar": true,
   "skip_h1_title": false,
   "title_cell": "Table of Contents",
   "title_sidebar": "Contents",
   "toc_cell": true,
   "toc_position": {},
   "toc_section_display": true,
   "toc_window_display": false
  }
 },
 "nbformat": 4,
 "nbformat_minor": 1
}
