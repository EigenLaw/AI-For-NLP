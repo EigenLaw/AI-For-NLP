{
 "cells": [
  {
   "cell_type": "markdown",
   "metadata": {
    "toc": true
   },
   "source": [
    "<h1>Table of Contents<span class=\"tocSkip\"></span></h1>\n",
    "<div class=\"toc\"><ul class=\"toc-item\"><li><ul class=\"toc-item\"><li><span><a href=\"#Assignment-01\" data-toc-modified-id=\"Assignment-01-0.1\"><span class=\"toc-item-num\">0.1&nbsp;&nbsp;</span>Assignment-01</a></span><ul class=\"toc-item\"><li><span><a href=\"#1.-第一节课的作业如下：\" data-toc-modified-id=\"1.-第一节课的作业如下：-0.1.1\"><span class=\"toc-item-num\">0.1.1&nbsp;&nbsp;</span>1. 第一节课的作业如下：</a></span></li><li><span><a href=\"#2.-如何提交\" data-toc-modified-id=\"2.-如何提交-0.1.2\"><span class=\"toc-item-num\">0.1.2&nbsp;&nbsp;</span>2. 如何提交</a></span></li><li><span><a href=\"#3.-截止时间\" data-toc-modified-id=\"3.-截止时间-0.1.3\"><span class=\"toc-item-num\">0.1.3&nbsp;&nbsp;</span>3. 截止时间</a></span></li></ul></li></ul></li><li><span><a href=\"#Answer-for-Q1---代码复现\" data-toc-modified-id=\"Answer-for-Q1---代码复现-1\"><span class=\"toc-item-num\">1&nbsp;&nbsp;</span>Answer for Q1 - 代码复现</a></span><ul class=\"toc-item\"><li><span><a href=\"#Map-Search\" data-toc-modified-id=\"Map-Search-1.1\"><span class=\"toc-item-num\">1.1&nbsp;&nbsp;</span>Map Search</a></span></li><li><span><a href=\"#Sentence-Generation\" data-toc-modified-id=\"Sentence-Generation-1.2\"><span class=\"toc-item-num\">1.2&nbsp;&nbsp;</span>Sentence Generation</a></span></li></ul></li><li><span><a href=\"#基于模式匹配的对话机器人实现\" data-toc-modified-id=\"基于模式匹配的对话机器人实现-2\"><span class=\"toc-item-num\">2&nbsp;&nbsp;</span>基于模式匹配的对话机器人实现</a></span><ul class=\"toc-item\"><li><span><a href=\"#Pattern-Match\" data-toc-modified-id=\"Pattern-Match-2.1\"><span class=\"toc-item-num\">2.1&nbsp;&nbsp;</span>Pattern Match</a></span></li><li><span><a href=\"#例如\" data-toc-modified-id=\"例如-2.2\"><span class=\"toc-item-num\">2.2&nbsp;&nbsp;</span>例如</a></span></li><li><span><a href=\"#获得匹配的变量\" data-toc-modified-id=\"获得匹配的变量-2.3\"><span class=\"toc-item-num\">2.3&nbsp;&nbsp;</span>获得匹配的变量</a></span></li><li><span><a href=\"#Segment-Match\" data-toc-modified-id=\"Segment-Match-2.4\"><span class=\"toc-item-num\">2.4&nbsp;&nbsp;</span>Segment Match</a></span></li><li><span><a href=\"#现在是你的时间了\" data-toc-modified-id=\"现在是你的时间了-2.5\"><span class=\"toc-item-num\">2.5&nbsp;&nbsp;</span>现在是你的时间了</a></span></li><li><span><a href=\"#问题1\" data-toc-modified-id=\"问题1-2.6\"><span class=\"toc-item-num\">2.6&nbsp;&nbsp;</span>问题1</a></span></li><li><span><a href=\"#问题2\" data-toc-modified-id=\"问题2-2.7\"><span class=\"toc-item-num\">2.7&nbsp;&nbsp;</span>问题2</a></span></li><li><span><a href=\"#问题3\" data-toc-modified-id=\"问题3-2.8\"><span class=\"toc-item-num\">2.8&nbsp;&nbsp;</span>问题3</a></span></li><li><span><a href=\"#问题4\" data-toc-modified-id=\"问题4-2.9\"><span class=\"toc-item-num\">2.9&nbsp;&nbsp;</span>问题4</a></span></li></ul></li></ul></div>"
   ]
  },
  {
   "cell_type": "markdown",
   "metadata": {},
   "source": [
    "### Assignment-01"
   ]
  },
  {
   "cell_type": "markdown",
   "metadata": {},
   "source": [
    "#### 1. 第一节课的作业如下：\n",
    "\n",
    "1. 复现课程的代码， BFS 路线搜索与文本自动生成；\n",
    "2. 回答以下问题，并将问题发送至deeplearning.nlp.zh@gmail.com中：\n",
    "```\n",
    "    2.1. what do you want to acquire in this course？\n",
    "    2.2. what problems do you want to solve？\n",
    "    2.3. what’s the advantages you have to finish you goal?\n",
    "    2.4. what’s the disadvantages you need to onvercome to finish you goal?\n",
    "    2.5. How will you plan to study in this course period?\n",
    "```\n",
    "3. 完成以下练习，进一步体会 Data Driving的编程思想，完成你的第一个较为复杂的对话机器人。\n",
    "\n",
    "#### 2. 如何提交\n",
    "\n",
    "1. 代码 + 此 jupyter 相关，提交至自己的 github 中；\n",
    "2. 第2问，整理发送至deeplearning.nlp.zh@gmail.com邮箱。\n",
    "\n",
    "#### 3. 截止时间\n",
    "\n",
    "此次作业截止时间为 2019.4.6日\n",
    "\n"
   ]
  },
  {
   "cell_type": "markdown",
   "metadata": {},
   "source": [
    "## Answer for Q1 - 代码复现"
   ]
  },
  {
   "cell_type": "markdown",
   "metadata": {},
   "source": [
    "### Map Search"
   ]
  },
  {
   "cell_type": "code",
   "execution_count": 2,
   "metadata": {
    "collapsed": true
   },
   "outputs": [],
   "source": [
    "BEIJING, CHANGCHUN, MULUMUQI, WUHAN, GUNAGHZOU, SHENZHEN, BANGKOK, SHANGHAI, NEWYORK =  \"\"\"\n",
    "BEIJING CHANGCHUN MULUMUQI WUHAN GUANGZHOU SHENZHEN BANGKOK SHANGHAI NEWYORK\n",
    "\"\"\".split()"
   ]
  },
  {
   "cell_type": "code",
   "execution_count": 3,
   "metadata": {
    "collapsed": true
   },
   "outputs": [],
   "source": [
    "connection = {\n",
    "    CHANGCHUN: [BEIJING],\n",
    "    MULUMUQI: [BEIJING], \n",
    "    BEIJING: [MULUMUQI, CHANGCHUN, WUHAN, SHENZHEN, NEWYORK],\n",
    "    NEWYORK: [BEIJING, SHANGHAI],\n",
    "    SHANGHAI: [NEWYORK, WUHAN],\n",
    "    WUHAN: [SHANGHAI, BEIJING, GUNAGHZOU],\n",
    "    GUNAGHZOU: [WUHAN, BANGKOK],\n",
    "    SHENZHEN: [WUHAN, BANGKOK],\n",
    "    BANGKOK: [SHENZHEN, GUNAGHZOU]\n",
    "}"
   ]
  },
  {
   "cell_type": "code",
   "execution_count": 7,
   "metadata": {},
   "outputs": [
    {
     "data": {
      "image/png": "[encoded data removed]",
      "text/plain": [
       "<matplotlib.figure.Figure at 0x8be0b38>"
      ]
     },
     "metadata": {},
     "output_type": "display_data"
    }
   ],
   "source": [
    "import networkx as nx\n",
    "%matplotlib inline\n",
    "graph = connection\n",
    "g = nx.Graph(graph)\n",
    "nx.draw(g)"
   ]
  },
  {
   "cell_type": "code",
   "execution_count": 8,
   "metadata": {
    "collapsed": true
   },
   "outputs": [],
   "source": [
    "def nagivator(start, destination, connection_graph):\n",
    "    pathes = [[start] ]\n",
    "    seen = set()\n",
    "    \n",
    "    while pathes:\n",
    "        path = pathes.pop(0)\n",
    "        froniter = path[-1]\n",
    "        \n",
    "        if froniter in seen: continue\n",
    "            \n",
    "        successors = connection_graph[froniter]\n",
    "        \n",
    "        for s in successors: \n",
    "            if s == destination: \n",
    "                path.append(s)\n",
    "                return path\n",
    "            else:\n",
    "                pathes.append(path + [s])  \n",
    "                \n",
    "        pathes = sorted(pathes, key=len) # 最小换成\n",
    "                \n",
    "        seen.add(froniter)"
   ]
  },
  {
   "cell_type": "code",
   "execution_count": 9,
   "metadata": {
    "collapsed": true
   },
   "outputs": [],
   "source": [
    "def nagivator_bfs(start, destination, connection_graph):\n",
    "    pathes = [start ]\n",
    "    seen = set()\n",
    "    \n",
    "    while pathes:\n",
    "        froniter = pathes.pop(0)\n",
    "        \n",
    "        if froniter in seen: continue\n",
    "            \n",
    "        successors = connection_graph[froniter]\n",
    "        print('standing on {} Looking forward {}'.format(froniter, successors))\n",
    "        pathes = pathes + successors\n",
    "                \n",
    "        seen.add(froniter)"
   ]
  },
  {
   "cell_type": "code",
   "execution_count": 11,
   "metadata": {},
   "outputs": [
    {
     "data": {
      "image/png": "[encoded data removed]",
      "text/plain": [
       "<matplotlib.figure.Figure at 0x967a4e0>"
      ]
     },
     "metadata": {},
     "output_type": "display_data"
    }
   ],
   "source": [
    "connection_2 = {\n",
    "    0: [1, 5], \n",
    "    1: [0, 2], \n",
    "    2: [1, 3], \n",
    "    3: [2, 4], \n",
    "    4: [3],\n",
    "    5: [0, 6], \n",
    "    6: [5, 7],\n",
    "    7: [6]\n",
    "}\n",
    "nx.draw(nx.Graph(connection_2))"
   ]
  },
  {
   "cell_type": "code",
   "execution_count": 12,
   "metadata": {},
   "outputs": [
    {
     "name": "stdout",
     "output_type": "stream",
     "text": [
      "standing on 0 Looking forward [1, 5]\n",
      "standing on 1 Looking forward [0, 2]\n",
      "standing on 5 Looking forward [0, 6]\n",
      "standing on 2 Looking forward [1, 3]\n",
      "standing on 6 Looking forward [5, 7]\n",
      "standing on 3 Looking forward [2, 4]\n",
      "standing on 7 Looking forward [6]\n",
      "standing on 4 Looking forward [3]\n"
     ]
    }
   ],
   "source": [
    "nagivator_bfs(0, 7, connection_2)"
   ]
  },
  {
   "cell_type": "code",
   "execution_count": 13,
   "metadata": {
    "collapsed": true
   },
   "outputs": [],
   "source": [
    "def nagivator_dfs(start, destination, connection_graph):\n",
    "    pathes = [start ]\n",
    "    seen = set()\n",
    "    \n",
    "    while pathes:\n",
    "        froniter = pathes.pop(0)\n",
    "        \n",
    "        if froniter in seen: continue\n",
    "            \n",
    "        successors = connection_graph[froniter]\n",
    "        print('standing on {} Looking forward {}'.format(froniter, successors))\n",
    "        pathes = successors + pathes\n",
    "                \n",
    "        seen.add(froniter)"
   ]
  },
  {
   "cell_type": "code",
   "execution_count": 14,
   "metadata": {},
   "outputs": [
    {
     "name": "stdout",
     "output_type": "stream",
     "text": [
      "standing on 0 Looking forward [1, 5]\n",
      "standing on 1 Looking forward [0, 2]\n",
      "standing on 2 Looking forward [1, 3]\n",
      "standing on 3 Looking forward [2, 4]\n",
      "standing on 4 Looking forward [3]\n",
      "standing on 5 Looking forward [0, 6]\n",
      "standing on 6 Looking forward [5, 7]\n",
      "standing on 7 Looking forward [6]\n"
     ]
    }
   ],
   "source": [
    "nagivator_dfs(0, 7, connection_2)"
   ]
  },
  {
   "cell_type": "code",
   "execution_count": 15,
   "metadata": {},
   "outputs": [
    {
     "name": "stdout",
     "output_type": "stream",
     "text": [
      "CHANGCHUN🛫->BEIJING🛫->SHENZHEN🛫->BANGKOK\n"
     ]
    }
   ],
   "source": [
    "def draw_route(routes):\n",
    "    print('🛫->'.join(routes))\n",
    "draw_route(nagivator(CHANGCHUN, BANGKOK, connection))"
   ]
  },
  {
   "cell_type": "markdown",
   "metadata": {},
   "source": [
    "### Sentence Generation"
   ]
  },
  {
   "cell_type": "code",
   "execution_count": 18,
   "metadata": {
    "collapsed": true
   },
   "outputs": [],
   "source": [
    "grammar = \"\"\"\n",
    "sentence => noun_phrase verb_phrase \n",
    "noun_phrase => Article Adj* noun\n",
    "Adj* => null | Adj Adj*\n",
    "verb_phrase => verb noun_phrase\n",
    "Article =>  一个 | 这个\n",
    "noun =>   女人 |  篮球 | 桌子 | 小猫\n",
    "verb => 看着   |  坐在 |  听着 | 看见\n",
    "Adj =>   蓝色的 |  好看的 | 小小的\n",
    "\"\"\""
   ]
  },
  {
   "cell_type": "code",
   "execution_count": 22,
   "metadata": {
    "collapsed": true
   },
   "outputs": [],
   "source": [
    "#定义语法创建函数：从语法内容中读取语法规则并映射到创建的字典，键值为声明，值为表达式\n",
    "def build_grammar(grammar_str, split='='):\n",
    "    grammar_pattern = {}\n",
    "    for line in grammar_str.split('\\n'):\n",
    "        if not line: continue\n",
    "        stmt, expr = line.split(split)\n",
    "        grammar_pattern[stmt.strip()] = [e.split() for e in expr.split('|')]\n",
    "    return grammar_pattern"
   ]
  },
  {
   "cell_type": "code",
   "execution_count": 30,
   "metadata": {},
   "outputs": [
    {
     "data": {
      "text/plain": [
       "{'Adj': [['>', '蓝色的'], ['好看的'], ['小小的']],\n",
       " 'Adj*': [['>', 'null'], ['Adj', 'Adj*']],\n",
       " 'Article': [['>', '一个'], ['这个']],\n",
       " 'noun': [['>', '女人'], ['篮球'], ['桌子'], ['小猫']],\n",
       " 'noun_phrase': [['>', 'Article', 'Adj*', 'noun']],\n",
       " 'sentence': [['>', 'noun_phrase', 'verb_phrase']],\n",
       " 'verb': [['>', '看着'], ['坐在'], ['听着'], ['看见']],\n",
       " 'verb_phrase': [['>', 'verb', 'noun_phrase']]}"
      ]
     },
     "execution_count": 30,
     "metadata": {},
     "output_type": "execute_result"
    }
   ],
   "source": [
    "build_grammar(grammar)"
   ]
  },
  {
   "cell_type": "code",
   "execution_count": 26,
   "metadata": {
    "collapsed": true
   },
   "outputs": [],
   "source": [
    "#定义生成符合某声明的函数：\n",
    "import random\n",
    "def generate(grammar_pattern, target):\n",
    "    if target not in grammar_pattern: return target\n",
    "    \n",
    "    expr = random.choice(grammar_pattern[target])\n",
    "    \n",
    "    tokens = [generate(grammar_pattern, e) for e in expr]#递归调用自己，直到表达式中不含有已声明内容\n",
    "    \n",
    "    return ''.join([t for t in tokens if t != 'null'])"
   ]
  },
  {
   "cell_type": "code",
   "execution_count": 27,
   "metadata": {},
   "outputs": [
    {
     "data": {
      "text/plain": [
       "'>>这个好看的>>女人>听着>这个>小猫'"
      ]
     },
     "execution_count": 27,
     "metadata": {},
     "output_type": "execute_result"
    }
   ],
   "source": [
    "grammar_pattern = build_grammar(grammar)\n",
    "generate(grammar_pattern, 'sentence')"
   ]
  },
  {
   "cell_type": "code",
   "execution_count": 37,
   "metadata": {
    "collapsed": true
   },
   "outputs": [],
   "source": [
    "def parse_grammar(grammar_str, sep='=>'):\n",
    "    grammar = {}\n",
    "    for line in grammar_str.split('\\n'): \n",
    "        line = line.strip()\n",
    "        if not line: continue\n",
    "        \n",
    "        target, rules = line.split(sep)\n",
    "        \n",
    "        grammar[target.strip()] = [r.split() for r in rules.split('|')]\n",
    "    \n",
    "    return grammar"
   ]
  },
  {
   "cell_type": "code",
   "execution_count": 38,
   "metadata": {
    "collapsed": true
   },
   "outputs": [],
   "source": [
    "g = parse_grammar(grammar)"
   ]
  },
  {
   "cell_type": "code",
   "execution_count": 39,
   "metadata": {},
   "outputs": [
    {
     "data": {
      "text/plain": [
       "{'Adj': [['蓝色的'], ['好看的'], ['小小的']],\n",
       " 'Adj*': [['null'], ['Adj', 'Adj*']],\n",
       " 'Article': [['一个'], ['这个']],\n",
       " 'noun': [['女人'], ['篮球'], ['桌子'], ['小猫']],\n",
       " 'noun_phrase': [['Article', 'Adj*', 'noun']],\n",
       " 'sentence': [['noun_phrase', 'verb_phrase']],\n",
       " 'verb': [['看着'], ['坐在'], ['听着'], ['看见']],\n",
       " 'verb_phrase': [['verb', 'noun_phrase']]}"
      ]
     },
     "execution_count": 39,
     "metadata": {},
     "output_type": "execute_result"
    }
   ],
   "source": [
    "g"
   ]
  },
  {
   "cell_type": "code",
   "execution_count": 40,
   "metadata": {
    "collapsed": true
   },
   "outputs": [],
   "source": [
    "def gene(grammar_parsed, target='sentence'):\n",
    "    if target not in grammar_parsed: return target\n",
    "    \n",
    "    rule = random.choice(grammar_parsed[target])\n",
    "    return ''.join(gene(grammar_parsed, target=r) for r in rule if r!='null')"
   ]
  },
  {
   "cell_type": "code",
   "execution_count": 41,
   "metadata": {},
   "outputs": [
    {
     "data": {
      "text/plain": [
       "[['noun_phrase', 'verb_phrase']]"
      ]
     },
     "execution_count": 41,
     "metadata": {},
     "output_type": "execute_result"
    }
   ],
   "source": [
    "g['sentence']"
   ]
  },
  {
   "cell_type": "code",
   "execution_count": 42,
   "metadata": {},
   "outputs": [
    {
     "data": {
      "text/plain": [
       "'这个女人看着一个女人'"
      ]
     },
     "execution_count": 42,
     "metadata": {},
     "output_type": "execute_result"
    }
   ],
   "source": [
    "gene(g)"
   ]
  },
  {
   "cell_type": "code",
   "execution_count": 43,
   "metadata": {},
   "outputs": [
    {
     "name": "stdout",
     "output_type": "stream",
     "text": [
      "2*4*7-1\n",
      "9+4+6*4\n",
      "21+1+8-2\n",
      "8/7*6-0\n",
      "8*0*6*27\n",
      "4/8*6-8\n",
      "9*6/6*2\n",
      "2*3-1+3\n",
      "5/3+4-3\n",
      "1-94/9+5\n",
      "97+9*93/2\n",
      "9-8-1*62\n",
      "1*0+1*5\n",
      "4-2/5+34\n",
      "0+7*6-2\n",
      "4*8+7*7\n",
      "7/5+6-1\n",
      "5*8/8+9\n",
      "5-7/7*6\n",
      "1+8+0*0\n"
     ]
    }
   ],
   "source": [
    "for i in range(20):\n",
    "    print(gene(parse_grammar(decimal_grammar, sep='='), target='expression'))"
   ]
  },
  {
   "cell_type": "markdown",
   "metadata": {},
   "source": [
    "## 基于模式匹配的对话机器人实现"
   ]
  },
  {
   "cell_type": "markdown",
   "metadata": {},
   "source": [
    "### Pattern Match\n",
    "\n",
    "机器能否实现对话，这个长久以来是衡量机器人是否具有智能的一个重要标志。 Alan Turing早在其文中就提出过一个测试机器智能程度的方法，该方法主要是考察人类是否能够通过对话内容区分对方是机器人还是真正的人类，如果人类无法区分，我们就称之为具有”智能“。而这个测试，后来被大家叫做”图灵测试“，之后也被翻拍成了一步著名电影，叫做《模拟游戏》。 \n",
    "\n",
    "\n",
    "\n",
    "既然图灵当年以此作为机器是否具备智能的标志，这项任务肯定是复杂的。自从 1960s 开始，诸多科学家就希望从各个方面来解决这个问题，直到如今，都只能解决一部分问题。 目前对话机器人的建立方法有很多，今天的作业中，我们为大家提供一共快速的基于模板的对话机器人配置方式。\n",
    "\n",
    "此次作业首先希望大家能够读懂这段程序的代码，其次，在此基于我们提供的代码，**能够把它改造成汉语版本，实现对话效果。**"
   ]
  },
  {
   "cell_type": "markdown",
   "metadata": {},
   "source": [
    "```\n",
    "Pattern: (我想要A)\n",
    "Response: (如果你有 A，对你意味着什么呢？)\n",
    "\n",
    "Input: (我想要度假)\n",
    "Response: (如果你有度假，对你意味着什么呢？)\n",
    "```"
   ]
  },
  {
   "cell_type": "markdown",
   "metadata": {},
   "source": [
    "为了实现模板的判断和定义，我们需要定义一个特殊的符号类型，这个符号类型就叫做\"variable\"， 这个\"variable\"用来表示是一个占位符。例如，定义一个目标: \"I want X\"， 我们可以表示成  \"I want ?X\", 意思就是?X是一个用来占位的符号。\n",
    "\n",
    "如果输入了\"I want holiday\"， 在这里 'holiday' 就是 '?X'"
   ]
  },
  {
   "cell_type": "code",
   "execution_count": 76,
   "metadata": {
    "collapsed": true
   },
   "outputs": [],
   "source": [
    "def is_variable(pat):\n",
    "    return pat.startswith('?') and all(s.isalpha() for s in pat[1:])\n",
    "\n",
    "def pat_match(pattern, saying):\n",
    "    if is_variable(pattern[0]): return True\n",
    "    else:\n",
    "        if pattern[0] != saying[0]: return False\n",
    "        else:\n",
    "            return pat_match(pattern[1:], saying[1:])\n",
    "\n",
    "def is_variable_zh(pat):\n",
    "    return pat.startswith('what') and all(s.isalpha() for s in pat[1:]) and len(pat)==5\n",
    "\n",
    "def pat_match_zh(pattern, saying):\n",
    "    if is_variable_zh(pattern[0]): return True\n",
    "    else:\n",
    "        if pattern[0] != saying[0]: return False\n",
    "        else:\n",
    "            return pat_match_zh(pattern[1:], saying[1:])"
   ]
  },
  {
   "cell_type": "code",
   "execution_count": 77,
   "metadata": {},
   "outputs": [
    {
     "data": {
      "text/plain": [
       "True"
      ]
     },
     "execution_count": 77,
     "metadata": {},
     "output_type": "execute_result"
    }
   ],
   "source": [
    "is_variable_zh(\"whata\")"
   ]
  },
  {
   "cell_type": "markdown",
   "metadata": {},
   "source": [
    "### 例如"
   ]
  },
  {
   "cell_type": "code",
   "execution_count": 78,
   "metadata": {},
   "outputs": [
    {
     "data": {
      "text/plain": [
       "True"
      ]
     },
     "execution_count": 78,
     "metadata": {},
     "output_type": "execute_result"
    }
   ],
   "source": [
    "pat_match('I want ?X'.split(), \"I want holiday\".split())"
   ]
  },
  {
   "cell_type": "code",
   "execution_count": 79,
   "metadata": {},
   "outputs": [
    {
     "data": {
      "text/plain": [
       "False"
      ]
     },
     "execution_count": 79,
     "metadata": {},
     "output_type": "execute_result"
    }
   ],
   "source": [
    "pat_match('I have dreamed a ?X'.split(), \"I dreamed about dog\".split())"
   ]
  },
  {
   "cell_type": "code",
   "execution_count": 80,
   "metadata": {},
   "outputs": [
    {
     "data": {
      "text/plain": [
       "True"
      ]
     },
     "execution_count": 80,
     "metadata": {},
     "output_type": "execute_result"
    }
   ],
   "source": [
    "pat_match('I dreamed about ?X'.split(), \"I dreamed about dog\".split())"
   ]
  },
  {
   "cell_type": "code",
   "execution_count": 81,
   "metadata": {},
   "outputs": [
    {
     "data": {
      "text/plain": [
       "True"
      ]
     },
     "execution_count": 81,
     "metadata": {},
     "output_type": "execute_result"
    }
   ],
   "source": [
    "import jieba\n",
    "def cut(string): return list(jieba.cut(string))\n",
    "pattern1=\"好好学习，whata天天向上\"\n",
    "saying1=\"好好学习，小明天天向上\"\n",
    "pat_match_zh(cut(pattern1),cut(saying1))"
   ]
  },
  {
   "cell_type": "markdown",
   "metadata": {},
   "source": [
    "### 获得匹配的变量"
   ]
  },
  {
   "cell_type": "markdown",
   "metadata": {},
   "source": [
    "以上的函数能够判断两个 pattern 是不是相符，但是我们更加希望的是获得每个variable对应的是什么值。\n",
    "\n",
    "我们对程序做如下修改:"
   ]
  },
  {
   "cell_type": "code",
   "execution_count": 82,
   "metadata": {
    "collapsed": true
   },
   "outputs": [],
   "source": [
    "def pat_match(pattern, saying):\n",
    "    if is_variable(pattern[0]):\n",
    "        return pattern[0], saying[0]\n",
    "    else:\n",
    "        if pattern[0] != saying[0]: return False\n",
    "        else:\n",
    "            return pat_match(pattern[1:], saying[1:])"
   ]
  },
  {
   "cell_type": "code",
   "execution_count": 83,
   "metadata": {
    "collapsed": true
   },
   "outputs": [],
   "source": [
    "pattern = 'I want ?X'.split()\n",
    "saying = \"I want holiday\".split()"
   ]
  },
  {
   "cell_type": "code",
   "execution_count": 84,
   "metadata": {},
   "outputs": [
    {
     "data": {
      "text/plain": [
       "('?X', 'holiday')"
      ]
     },
     "execution_count": 84,
     "metadata": {},
     "output_type": "execute_result"
    }
   ],
   "source": [
    "pat_match(pattern, saying)"
   ]
  },
  {
   "cell_type": "code",
   "execution_count": 85,
   "metadata": {},
   "outputs": [
    {
     "data": {
      "text/plain": [
       "('?X', '2+2')"
      ]
     },
     "execution_count": 85,
     "metadata": {},
     "output_type": "execute_result"
    }
   ],
   "source": [
    "pat_match(\"?X equals ?X\".split(), \"2+2 equals 2+2\".split())"
   ]
  },
  {
   "cell_type": "code",
   "execution_count": 86,
   "metadata": {
    "collapsed": true
   },
   "outputs": [],
   "source": [
    "def pat_match_zh(pattern, saying):\n",
    "    if is_variable_zh(pattern[0]):\n",
    "        return pattern[0], saying[0]\n",
    "    else:\n",
    "        if pattern[0] != saying[0]: return False\n",
    "        else:\n",
    "            return pat_match_zh(pattern[1:], saying[1:])"
   ]
  },
  {
   "cell_type": "code",
   "execution_count": 87,
   "metadata": {},
   "outputs": [
    {
     "data": {
      "text/plain": [
       "('whata', '小明')"
      ]
     },
     "execution_count": 87,
     "metadata": {},
     "output_type": "execute_result"
    }
   ],
   "source": [
    "pat_match_zh(cut(pattern1),cut(saying1))"
   ]
  },
  {
   "cell_type": "markdown",
   "metadata": {},
   "source": [
    "但是，如果我们的 Pattern 中具备两个变量，那么以上程序就不能解决了，我们可以对程序做如下修改: \n"
   ]
  },
  {
   "cell_type": "code",
   "execution_count": 88,
   "metadata": {
    "collapsed": true
   },
   "outputs": [],
   "source": [
    "def pat_match(pattern, saying):\n",
    "    if not pattern or not saying: return []\n",
    "    \n",
    "    if is_variable(pattern[0]):\n",
    "        return [(pattern[0], saying[0])] + pat_match(pattern[1:], saying[1:])\n",
    "    else:\n",
    "        if pattern[0] != saying[0]: return []\n",
    "        else:\n",
    "            return pat_match(pattern[1:], saying[1:])"
   ]
  },
  {
   "cell_type": "code",
   "execution_count": 89,
   "metadata": {
    "collapsed": true
   },
   "outputs": [],
   "source": [
    "def pat_match_zh(pattern, saying):\n",
    "    if not pattern or not saying: return []\n",
    "    \n",
    "    if is_variable_zh(pattern[0]):\n",
    "        return [(pattern[0], saying[0])] + pat_match_zh(pattern[1:], saying[1:])\n",
    "    else:\n",
    "        if pattern[0] != saying[0]: return []\n",
    "        else:\n",
    "            return pat_match_zh(pattern[1:], saying[1:])"
   ]
  },
  {
   "cell_type": "markdown",
   "metadata": {},
   "source": [
    "于是，我们可以获得： "
   ]
  },
  {
   "cell_type": "code",
   "execution_count": 90,
   "metadata": {},
   "outputs": [
    {
     "data": {
      "text/plain": [
       "[('?X', '3'), ('?Y', '2')]"
      ]
     },
     "execution_count": 90,
     "metadata": {},
     "output_type": "execute_result"
    }
   ],
   "source": [
    "pat_match(\"?X greater than ?Y\".split(), \"3 greater than 2\".split())"
   ]
  },
  {
   "cell_type": "code",
   "execution_count": 91,
   "metadata": {
    "collapsed": true
   },
   "outputs": [],
   "source": [
    "pattern1=\"whata好好学习，whatb天天向上\"\n",
    "saying1=\"小明好好学习，小华天天向上\""
   ]
  },
  {
   "cell_type": "code",
   "execution_count": 92,
   "metadata": {},
   "outputs": [
    {
     "data": {
      "text/plain": [
       "['whata', '好好学习', '，', 'whatb', '天天向上']"
      ]
     },
     "execution_count": 92,
     "metadata": {},
     "output_type": "execute_result"
    }
   ],
   "source": [
    "cut(pattern1)"
   ]
  },
  {
   "cell_type": "code",
   "execution_count": 93,
   "metadata": {},
   "outputs": [
    {
     "data": {
      "text/plain": [
       "['小明', '好好学习', '，', '小华', '天天向上']"
      ]
     },
     "execution_count": 93,
     "metadata": {},
     "output_type": "execute_result"
    }
   ],
   "source": [
    "cut(saying1)"
   ]
  },
  {
   "cell_type": "code",
   "execution_count": 94,
   "metadata": {},
   "outputs": [
    {
     "data": {
      "text/plain": [
       "True"
      ]
     },
     "execution_count": 94,
     "metadata": {},
     "output_type": "execute_result"
    }
   ],
   "source": [
    "is_variable_zh(cut(pattern1)[3])"
   ]
  },
  {
   "cell_type": "code",
   "execution_count": 95,
   "metadata": {},
   "outputs": [
    {
     "data": {
      "text/plain": [
       "[('whata', '小明'), ('whatb', '小华')]"
      ]
     },
     "execution_count": 95,
     "metadata": {},
     "output_type": "execute_result"
    }
   ],
   "source": [
    "pattern1=\"whata好好学习，whatb天天向上\"\n",
    "saying1=\"小明好好学习，小华天天向上\"\n",
    "pat_match_zh(cut(pattern1),cut(saying1))"
   ]
  },
  {
   "cell_type": "markdown",
   "metadata": {},
   "source": [
    "如果我们知道了每个变量对应的是什么，那么我们就可以很方便的使用我们定义好的模板进行替换："
   ]
  },
  {
   "cell_type": "markdown",
   "metadata": {},
   "source": [
    "为了方便接下来的替换工作，我们新建立两个函数，一个是把我们解析出来的结果变成一个 dictionary，一个是依据这个 dictionary 依照我们的定义的方式进行替换。"
   ]
  },
  {
   "cell_type": "code",
   "execution_count": 52,
   "metadata": {
    "collapsed": true
   },
   "outputs": [],
   "source": [
    "def pat_to_dict(patterns):\n",
    "    return {k: v for k, v in patterns}"
   ]
  },
  {
   "cell_type": "code",
   "execution_count": 53,
   "metadata": {
    "collapsed": true
   },
   "outputs": [],
   "source": [
    "def subsitite(rule, parsed_rules):\n",
    "    if not rule: return []\n",
    "    \n",
    "    return [parsed_rules.get(rule[0], rule[0])] + subsitite(rule[1:], parsed_rules)"
   ]
  },
  {
   "cell_type": "code",
   "execution_count": 54,
   "metadata": {
    "collapsed": true
   },
   "outputs": [],
   "source": [
    "got_patterns = pat_match(\"I want ?X\".split(), \"I want iPhone\".split())"
   ]
  },
  {
   "cell_type": "code",
   "execution_count": 99,
   "metadata": {},
   "outputs": [
    {
     "data": {
      "text/plain": [
       "[('?X', 'iPhone')]"
      ]
     },
     "execution_count": 99,
     "metadata": {},
     "output_type": "execute_result"
    }
   ],
   "source": [
    "got_patterns"
   ]
  },
  {
   "cell_type": "code",
   "execution_count": 100,
   "metadata": {},
   "outputs": [
    {
     "data": {
      "text/plain": [
       "['What', 'if', 'you', 'mean', 'if', 'you', 'got', 'a', 'iPhone']"
      ]
     },
     "execution_count": 100,
     "metadata": {},
     "output_type": "execute_result"
    }
   ],
   "source": [
    "subsitite(\"What if you mean if you got a ?X\".split(), pat_to_dict(got_patterns))"
   ]
  },
  {
   "cell_type": "code",
   "execution_count": 101,
   "metadata": {},
   "outputs": [
    {
     "data": {
      "text/plain": [
       "['好好学习', '，', '小明', '天天向上']"
      ]
     },
     "execution_count": 101,
     "metadata": {},
     "output_type": "execute_result"
    }
   ],
   "source": [
    "got_patterns = pat_match_zh(cut(\"好好学习，whata天天向上\"),cut(\"好好学习，小明天天向上\") )\n",
    "subsitite(cut(\"好好学习，whata天天向上\"), pat_to_dict(got_patterns))"
   ]
  },
  {
   "cell_type": "code",
   "execution_count": 102,
   "metadata": {},
   "outputs": [
    {
     "data": {
      "text/plain": [
       "'好好学习，小明天天向上'"
      ]
     },
     "execution_count": 102,
     "metadata": {},
     "output_type": "execute_result"
    }
   ],
   "source": [
    "\"\".join(subsitite(cut(\"好好学习，whata天天向上\"), pat_to_dict(got_patterns)))"
   ]
  },
  {
   "cell_type": "markdown",
   "metadata": {},
   "source": [
    "为了将以上输出变成一句话，也很简单，我们使用 Python 的 join 方法即可： "
   ]
  },
  {
   "cell_type": "code",
   "execution_count": 103,
   "metadata": {
    "collapsed": true
   },
   "outputs": [],
   "source": [
    "john_pat = pat_match('?P needs ?X'.split(), \"John needs vacation\".split())"
   ]
  },
  {
   "cell_type": "code",
   "execution_count": 104,
   "metadata": {},
   "outputs": [
    {
     "data": {
      "text/plain": [
       "['Why', 'does', 'John', 'need', 'vacation', '?']"
      ]
     },
     "execution_count": 104,
     "metadata": {},
     "output_type": "execute_result"
    }
   ],
   "source": [
    "subsitite(\"Why does ?P need ?X ?\".split(), pat_to_dict(john_pat))"
   ]
  },
  {
   "cell_type": "code",
   "execution_count": 105,
   "metadata": {},
   "outputs": [
    {
     "data": {
      "text/plain": [
       "'Why does John need vacation ?'"
      ]
     },
     "execution_count": 105,
     "metadata": {},
     "output_type": "execute_result"
    }
   ],
   "source": [
    "' '.join(subsitite(\"Why does ?P need ?X ?\".split(), pat_to_dict(john_pat)))"
   ]
  },
  {
   "cell_type": "code",
   "execution_count": 106,
   "metadata": {},
   "outputs": [
    {
     "data": {
      "text/plain": [
       "'阿珍爱上了阿强，在一个有星星的夜晚'"
      ]
     },
     "execution_count": 106,
     "metadata": {},
     "output_type": "execute_result"
    }
   ],
   "source": [
    "john_pat_1 = pat_match_zh(cut(\"whata好好学习吗？whatb天天向上吗？\"), cut(\"阿珍好好学习吗？阿强天天向上吗？\"))\n",
    "\n",
    "\"\".join(subsitite(cut(\"whata爱上了whatb，在一个有星星的夜晚\"), pat_to_dict(john_pat_1)))"
   ]
  },
  {
   "cell_type": "markdown",
   "metadata": {},
   "source": [
    "那么如果我们现在定义一些patterns，就可以实现基于模板的对话生成了:"
   ]
  },
  {
   "cell_type": "code",
   "execution_count": 107,
   "metadata": {
    "collapsed": true
   },
   "outputs": [],
   "source": [
    "defined_patterns = {\n",
    "    \"I need ?X\": [\"Image you will get ?X soon\", \"Why do you need ?X ?\"], \n",
    "    \"My ?X told me something\": [\"Talk about more about your ?X\", \"How do you think about your ?X ?\"]\n",
    "}"
   ]
  },
  {
   "cell_type": "code",
   "execution_count": 108,
   "metadata": {},
   "outputs": [
    {
     "data": {
      "text/plain": [
       "'How do you think about your mother ?'"
      ]
     },
     "execution_count": 108,
     "metadata": {},
     "output_type": "execute_result"
    }
   ],
   "source": [
    "import numpy as np\n",
    "def get_response(saying, defined_patterns):\n",
    "    \"\"\"\" please implement the code, to get the response as followings:\n",
    "    \n",
    "    >>> get_response('I need iPhone') \n",
    "    >>> Image you will get iPhone soon\n",
    "    >>> get_response(\"My mother told me something\")\n",
    "    >>> Talk about more about your monther.\n",
    "    \"\"\"\n",
    "    not_find_saying=True\n",
    "    for i in defined_patterns:\n",
    "        \n",
    "        if not pat_match(i.split(), saying.split())==[]:\n",
    "            not_find_saying=False\n",
    "            got_patterns = pat_match(i.split(), saying.split())\n",
    "            choose_response = np.random.randint(2)\n",
    "            response_patterns = defined_patterns[i][choose_response]\n",
    "            response=' '.join(subsitite(response_patterns.split(), pat_to_dict(got_patterns)))\n",
    "            return(response)\n",
    "    if not_find_saying: print(\"What are you talking about\")\n",
    "    \n",
    "\n",
    "saying1 = \"I need banana\"\n",
    "saying2 = \"My mother brought me soup\"\n",
    "saying3 = \"Haha, bug comes\"\n",
    "get_response(saying2, defined_patterns)"
   ]
  },
  {
   "cell_type": "code",
   "execution_count": 34,
   "metadata": {
    "collapsed": true
   },
   "outputs": [],
   "source": [
    "import numpy as np\n",
    "import jieba\n",
    "def get_response_zh(saying, defined_patterns):\n",
    "    \"\"\"\" please implement the code, to get the response as followings:\n",
    "    \n",
    "    >>> get_response('机器人，问你个问题？') \n",
    "    >>> 说吧，什么问题？（顺便提一句，不要叫我机器人，我有自己的名字，吼！）\n",
    "    >>> get_response(\"你知道你妈妈的爸爸是谁吗？\")\n",
    "    >>> 我爸爸关你毛事？走人\n",
    "    \"\"\"\n",
    "    not_find_saying=True\n",
    "    for i in defined_patterns:\n",
    "        \n",
    "        if not pat_match_zh(cut(i), cut(saying))==[]:\n",
    "            not_find_saying=False\n",
    "            got_patterns = pat_match_zh(cut(i), cut(saying))\n",
    "            choose_response = np.random.randint(2)\n",
    "            response_patterns = defined_patterns[i][choose_response]\n",
    "            response=''.join(subsitite(cut(response_patterns), pat_to_dict(got_patterns)))\n",
    "            return(response)\n",
    "    if not_find_saying: print(\"What are you talking about\")"
   ]
  },
  {
   "cell_type": "code",
   "execution_count": 35,
   "metadata": {
    "collapsed": true
   },
   "outputs": [],
   "source": [
    "defined_patterns = {\n",
    "    \"嗨，whatb，问你个whata？\": [\"说吧，什么whata？，我下线了（顺便提一句，不要叫我whatb，我有自己的名字，吼！）\",\"我是whatb，问我whata当然可以呀\"], \n",
    "    \"你知道你whata是谁吗？\": [\"我whata关你毛事？走人\",\"我知道whata是谁\"]\n",
    "}\n",
    "\n",
    "saying1=\"嗨，机器人，问你个问题？\"\n",
    "saying2=\"你知道你爸爸是谁吗？\"\n",
    "saying3 = \"Haha, bug comes\""
   ]
  },
  {
   "cell_type": "code",
   "execution_count": 36,
   "metadata": {},
   "outputs": [
    {
     "data": {
      "text/plain": [
       "'我是机器人，问我问题当然可以呀'"
      ]
     },
     "execution_count": 36,
     "metadata": {},
     "output_type": "execute_result"
    }
   ],
   "source": [
    "get_response_zh(saying1, defined_patterns)"
   ]
  },
  {
   "cell_type": "markdown",
   "metadata": {},
   "source": [
    "### Segment Match"
   ]
  },
  {
   "cell_type": "markdown",
   "metadata": {},
   "source": [
    "我们上边的这种形式，能够进行一些初级的对话了，但是我们的模式逐字逐句匹配的， \"I need iPhone\" 和 \"I need ?X\" 可以匹配，但是\"I need an iPhone\" 和 \"I need ?X\" 就不匹配了，那怎么办？ \n",
    "\n",
    "为了解决这个问题，我们可以新建一个变量类型 \"?\\*X\", 这种类型多了一个星号(\\*),表示匹配多个"
   ]
  },
  {
   "cell_type": "markdown",
   "metadata": {},
   "source": [
    "首先，和前文类似，我们需要定义一个判断是不是匹配多个的variable"
   ]
  },
  {
   "cell_type": "code",
   "execution_count": 14,
   "metadata": {
    "collapsed": true
   },
   "outputs": [],
   "source": [
    "def is_pattern_segment(pattern):\n",
    "    return pattern.startswith('?*') and all(a.isalpha() for a in pattern[2:])"
   ]
  },
  {
   "cell_type": "code",
   "execution_count": 15,
   "metadata": {},
   "outputs": [
    {
     "data": {
      "text/plain": [
       "True"
      ]
     },
     "execution_count": 15,
     "metadata": {},
     "output_type": "execute_result"
    }
   ],
   "source": [
    "is_pattern_segment('?*P')"
   ]
  },
  {
   "cell_type": "code",
   "execution_count": 16,
   "metadata": {
    "collapsed": true
   },
   "outputs": [],
   "source": [
    "def is_pattern_segment_zh(pattern):\n",
    "    return pattern.startswith('whatis') and all(a.isalpha() for a in pattern[4:])"
   ]
  },
  {
   "cell_type": "code",
   "execution_count": 17,
   "metadata": {},
   "outputs": [
    {
     "data": {
      "text/plain": [
       "True"
      ]
     },
     "execution_count": 17,
     "metadata": {},
     "output_type": "execute_result"
    }
   ],
   "source": [
    "is_pattern_segment_zh('whatisa')"
   ]
  },
  {
   "cell_type": "code",
   "execution_count": 18,
   "metadata": {
    "collapsed": true
   },
   "outputs": [],
   "source": [
    "from collections import defaultdict"
   ]
  },
  {
   "cell_type": "markdown",
   "metadata": {},
   "source": [
    "然后我们把之前的 ```pat_match```程序改写成如下， 主要是增加了 ``` is_pattern_segment ```的部分. "
   ]
  },
  {
   "cell_type": "markdown",
   "metadata": {},
   "source": [
    "这段程序里比较重要的一个新函数是 ```segment_match```，这个函数输入是一个以 ```segment_pattern```开头的模式，尽最大可能进行，匹配到这个*边长*的变量对于的部分。"
   ]
  },
  {
   "cell_type": "code",
   "execution_count": 39,
   "metadata": {
    "collapsed": true
   },
   "outputs": [],
   "source": [
    "import jieba\n",
    "def cut(string): return list(jieba.cut(string))\n",
    "def is_variable(pat):\n",
    "    return pat.startswith('?') and all(s.isalpha() for s in pat[1:])\n",
    "\n",
    "def pat_match(pattern, saying):\n",
    "    if is_variable(pattern[0]): return True\n",
    "    else:\n",
    "        if pattern[0] != saying[0]: return False\n",
    "        else:\n",
    "            return pat_match(pattern[1:], saying[1:])\n",
    "\n",
    "def is_variable_zh(pat):\n",
    "    return pat.startswith('what') and all(s.isalpha() for s in pat[1:]) and len(pat)==5\n",
    "\n",
    "def pat_match_zh(pattern, saying):\n",
    "    if is_variable_zh(pattern[0]): return True\n",
    "    else:\n",
    "        if pattern[0] != saying[0]: return False\n",
    "        else:\n",
    "            return pat_match_zh(pattern[1:], saying[1:])\n",
    "def pat_to_dict(patterns):\n",
    "    return {k: v for k, v in patterns}        \n",
    "def subsitite(rule, parsed_rules):\n",
    "    if not rule: return []\n",
    "    \n",
    "    return [parsed_rules.get(rule[0], rule[0])] + subsitite(rule[1:], parsed_rules)"
   ]
  },
  {
   "cell_type": "code",
   "execution_count": 20,
   "metadata": {},
   "outputs": [
    {
     "data": {
      "text/plain": [
       "True"
      ]
     },
     "execution_count": 20,
     "metadata": {},
     "output_type": "execute_result"
    }
   ],
   "source": [
    "is_variable_zh(\"whata\")"
   ]
  },
  {
   "cell_type": "code",
   "execution_count": 21,
   "metadata": {},
   "outputs": [
    {
     "data": {
      "text/plain": [
       "False"
      ]
     },
     "execution_count": 21,
     "metadata": {},
     "output_type": "execute_result"
    }
   ],
   "source": [
    "is_variable_zh(\"whatisa\")"
   ]
  },
  {
   "cell_type": "code",
   "execution_count": 22,
   "metadata": {},
   "outputs": [
    {
     "data": {
      "text/plain": [
       "(('?P', ['My', 'dog', 'and', 'my', 'cat']), 5)"
      ]
     },
     "execution_count": 22,
     "metadata": {},
     "output_type": "execute_result"
    }
   ],
   "source": [
    "def segment_match(pattern, saying):\n",
    "    seg_pat, rest = pattern[0], pattern[1:]\n",
    "    seg_pat = seg_pat.replace('?*', '?')\n",
    "\n",
    "    if not rest: return (seg_pat, saying), len(saying)    \n",
    "    \n",
    "    for i, token in enumerate(saying):\n",
    "        if rest[0] == token:  \n",
    "            return (seg_pat, saying[:i]), i\n",
    "    \n",
    "    return (seg_pat, saying), len(saying)\n",
    "        \n",
    "\n",
    "segment_match('?*P is very good'.split(), \" My dog and my cat is very good\".split())"
   ]
  },
  {
   "cell_type": "code",
   "execution_count": 23,
   "metadata": {},
   "outputs": [
    {
     "data": {
      "text/plain": [
       "['whatisb']"
      ]
     },
     "execution_count": 23,
     "metadata": {},
     "output_type": "execute_result"
    }
   ],
   "source": [
    "cut(\"whatisb\")"
   ]
  },
  {
   "cell_type": "code",
   "execution_count": 24,
   "metadata": {},
   "outputs": [
    {
     "data": {
      "text/plain": [
       "(('whata', ['东方', '月初']), 2)"
      ]
     },
     "execution_count": 24,
     "metadata": {},
     "output_type": "execute_result"
    }
   ],
   "source": [
    "def segment_match_zh(pattern, saying):\n",
    "    seg_pat, rest = pattern[0], pattern[1:]\n",
    "    seg_pat = seg_pat.replace('whatis', 'what')\n",
    "\n",
    "    if not rest: return (seg_pat, saying), len(saying)    \n",
    "    \n",
    "    for i, token in enumerate(saying):\n",
    "        if rest[0] == token:  \n",
    "            return (seg_pat, saying[:i]), i\n",
    "    \n",
    "    return (seg_pat, saying), len(saying)\n",
    "        \n",
    "\n",
    "segment_match_zh(cut('whatisa转世续缘'),cut(\"东方月初转世续缘\"))"
   ]
  },
  {
   "cell_type": "code",
   "execution_count": 25,
   "metadata": {
    "collapsed": true
   },
   "outputs": [],
   "source": [
    "fail = [True, None]\n",
    "\n",
    "def pat_match_with_seg(pattern, saying):\n",
    "    if not pattern or not saying: return []\n",
    "    \n",
    "    pat = pattern[0]\n",
    "    \n",
    "    if is_variable(pat):\n",
    "        return [(pat, saying[0])] + pat_match_with_seg(pattern[1:], saying[1:])\n",
    "    elif is_pattern_segment(pat):\n",
    "        match, index = segment_match(pattern, saying)\n",
    "        return [match] + pat_match_with_seg(pattern[1:], saying[index:])\n",
    "    elif pat == saying[0]:\n",
    "        return pat_match_with_seg(pattern[1:], saying[1:])\n",
    "    else:\n",
    "        return fail"
   ]
  },
  {
   "cell_type": "code",
   "execution_count": 26,
   "metadata": {},
   "outputs": [
    {
     "data": {
      "text/plain": [
       "[('?P', ['My', 'dog']), ('?X', ['my', 'cat', 'is', 'very', 'cute'])]"
      ]
     },
     "execution_count": 26,
     "metadata": {},
     "output_type": "execute_result"
    }
   ],
   "source": [
    "pat_match_with_seg('?*P is very good and ?*X'.split(), \"My dog is very good and my cat is very cute\".split())"
   ]
  },
  {
   "cell_type": "code",
   "execution_count": 27,
   "metadata": {
    "collapsed": true
   },
   "outputs": [],
   "source": [
    "fail = [True, None]\n",
    "\n",
    "def pat_match_with_seg_zh(pattern, saying):\n",
    "    if not pattern or not saying: return []\n",
    "    \n",
    "    pat = pattern[0]\n",
    "    \n",
    "    if is_variable_zh(pat):\n",
    "        return [(pat, saying[0])] + pat_match_with_seg_zh(pattern[1:], saying[1:])\n",
    "    elif is_pattern_segment_zh(pat):\n",
    "        match, index = segment_match_zh(pattern, saying)\n",
    "        return [match] + pat_match_with_seg_zh(pattern[1:], saying[index:])\n",
    "    elif pat == saying[0]:\n",
    "        return pat_match_with_seg_zh(pattern[1:], saying[1:])\n",
    "    else:\n",
    "        return fail"
   ]
  },
  {
   "cell_type": "code",
   "execution_count": 28,
   "metadata": {},
   "outputs": [
    {
     "data": {
      "text/plain": [
       "['whatisa', '真呆毛', 'whatisb', '真', '俗气']"
      ]
     },
     "execution_count": 28,
     "metadata": {},
     "output_type": "execute_result"
    }
   ],
   "source": [
    "cut('whatisa真呆毛whatisb真俗气')"
   ]
  },
  {
   "cell_type": "code",
   "execution_count": 29,
   "metadata": {},
   "outputs": [
    {
     "data": {
      "text/plain": [
       "['东方', '月初', '真呆毛', '王权', '富贵', '真', '俗气']"
      ]
     },
     "execution_count": 29,
     "metadata": {},
     "output_type": "execute_result"
    }
   ],
   "source": [
    "cut(\"东方月初真呆毛王权富贵真俗气\")"
   ]
  },
  {
   "cell_type": "code",
   "execution_count": 30,
   "metadata": {},
   "outputs": [
    {
     "data": {
      "text/plain": [
       "[('whata', ['东方', '月初']), ('whatb', ['王权', '富贵'])]"
      ]
     },
     "execution_count": 30,
     "metadata": {},
     "output_type": "execute_result"
    }
   ],
   "source": [
    "pat_match_with_seg_zh(cut('whatisa真呆毛whatisb真俗气'), cut(\"东方月初真呆毛王权富贵真俗气\"))"
   ]
  },
  {
   "cell_type": "code",
   "execution_count": 31,
   "metadata": {
    "collapsed": true
   },
   "outputs": [],
   "source": [
    "saying1 = \"I am mike, hello \"\n",
    "saying2 = \"I was a hero\"\n",
    "saying3 = \"Haha, bug comes\""
   ]
  },
  {
   "cell_type": "code",
   "execution_count": 32,
   "metadata": {
    "collapsed": true
   },
   "outputs": [],
   "source": [
    "i=\"I was whatisa\""
   ]
  },
  {
   "cell_type": "code",
   "execution_count": 33,
   "metadata": {},
   "outputs": [
    {
     "data": {
      "text/plain": [
       "True"
      ]
     },
     "execution_count": 33,
     "metadata": {},
     "output_type": "execute_result"
    }
   ],
   "source": [
    "isinstance(pat_match_with_seg_zh(cut(i),cut(saying1))[0],bool)"
   ]
  },
  {
   "cell_type": "code",
   "execution_count": 34,
   "metadata": {
    "collapsed": true
   },
   "outputs": [],
   "source": [
    "import numpy as np\n",
    "def get_response(saying, defined_patterns):\n",
    "    \"\"\"\" please implement the code, to get the response as followings:\n",
    "    \n",
    "    >>> get_response(\"I am mike, hello \") \n",
    "    >>> Hi, how do you do? / Hello, nice to meet you\n",
    "    >>> get_response(\"I was a hero\")\n",
    "    >>> Were you already a hero ? / I already knew you were a hero .\n",
    "    \"\"\"\n",
    "    not_find_saying=True\n",
    "    \n",
    "    for i in defined_patterns:\n",
    "        match_result = pat_match_with_seg_zh(cut(i),cut(saying))\n",
    "        if not isinstance(match_result[0],bool):\n",
    "            not_find_saying=False\n",
    "            #got_patterns = pat_match_with_seg(i.split(), saying.split())\n",
    "            choose_response = np.random.randint(2)\n",
    "            response_patterns = defined_patterns[i][choose_response]\n",
    "            response=''.join(subsitite(cut(response_patterns), pat_to_dict_zh(match_result)))\n",
    "            return(response)\n",
    "    if not_find_saying: print(\"What are you talking about\")"
   ]
  },
  {
   "cell_type": "markdown",
   "metadata": {},
   "source": [
    "现在，我们就可以做到以下的匹配模式了: "
   ]
  },
  {
   "cell_type": "markdown",
   "metadata": {},
   "source": [
    "如果我们继续定义一些模板，我们进行匹配，就能够进行更加复杂的问题了: "
   ]
  },
  {
   "cell_type": "code",
   "execution_count": 35,
   "metadata": {
    "collapsed": true
   },
   "outputs": [],
   "source": [
    "response_pair = {\n",
    "    'I need ?X': [\n",
    "        \"Why do you neeed ?X\"\n",
    "    ],\n",
    "    \"I dont like my ?X\": [\"What bad things did ?X do for you?\"]\n",
    "}"
   ]
  },
  {
   "cell_type": "code",
   "execution_count": 36,
   "metadata": {},
   "outputs": [
    {
     "data": {
      "text/plain": [
       "[('?X', ['an', 'iPhone'])]"
      ]
     },
     "execution_count": 36,
     "metadata": {},
     "output_type": "execute_result"
    }
   ],
   "source": [
    "pat_match_with_seg('I need ?*X'.split(), \n",
    "                  \"I need an iPhone\".split())"
   ]
  },
  {
   "cell_type": "code",
   "execution_count": 40,
   "metadata": {},
   "outputs": [
    {
     "data": {
      "text/plain": [
       "['Why', 'do', 'you', 'neeed', ['an', 'iPhone']]"
      ]
     },
     "execution_count": 40,
     "metadata": {},
     "output_type": "execute_result"
    }
   ],
   "source": [
    "subsitite(\"Why do you neeed ?X\".split(), pat_to_dict(pat_match_with_seg('I need ?*X'.split(), \n",
    "                  \"I need an iPhone\".split())))"
   ]
  },
  {
   "cell_type": "code",
   "execution_count": 41,
   "metadata": {},
   "outputs": [
    {
     "data": {
      "text/plain": [
       "[('whata', ['一个', '苹果', '手机'])]"
      ]
     },
     "execution_count": 41,
     "metadata": {},
     "output_type": "execute_result"
    }
   ],
   "source": [
    "pat_match_with_seg_zh(cut('我需要whatisa'), \n",
    "                  cut(\"我需要一个苹果手机\"))"
   ]
  },
  {
   "cell_type": "code",
   "execution_count": 42,
   "metadata": {},
   "outputs": [
    {
     "data": {
      "text/plain": [
       "['为什么', '你', '需要', ['一个', '苹果', '手机']]"
      ]
     },
     "execution_count": 42,
     "metadata": {},
     "output_type": "execute_result"
    }
   ],
   "source": [
    "subsitite(cut(\"为什么你需要whata\"), pat_to_dict(pat_match_with_seg_zh(cut('我需要whatisa'), \n",
    "                  cut(\"我需要一个苹果手机\"))))"
   ]
  },
  {
   "cell_type": "markdown",
   "metadata": {},
   "source": [
    " 我们会发现，pat_to_dict在这个场景下会有有一点小问题，没关系，修正一些: "
   ]
  },
  {
   "cell_type": "code",
   "execution_count": 43,
   "metadata": {
    "collapsed": true
   },
   "outputs": [],
   "source": [
    "def pat_to_dict(patterns):\n",
    "    return {k: ' '.join(v) if isinstance(v, list) else v for k, v in patterns}"
   ]
  },
  {
   "cell_type": "code",
   "execution_count": 44,
   "metadata": {},
   "outputs": [
    {
     "data": {
      "text/plain": [
       "['Why', 'do', 'you', 'neeed', 'an iPhone']"
      ]
     },
     "execution_count": 44,
     "metadata": {},
     "output_type": "execute_result"
    }
   ],
   "source": [
    "subsitite(\"Why do you neeed ?X\".split(), pat_to_dict(pat_match_with_seg('I need ?*X'.split(), \n",
    "                  \"I need an iPhone\".split())))"
   ]
  },
  {
   "cell_type": "code",
   "execution_count": 45,
   "metadata": {
    "collapsed": true
   },
   "outputs": [],
   "source": [
    "def pat_to_dict_zh(patterns):\n",
    "    return {k: ''.join(v) if isinstance(v, list) else v for k, v in patterns}"
   ]
  },
  {
   "cell_type": "code",
   "execution_count": 46,
   "metadata": {},
   "outputs": [
    {
     "data": {
      "text/plain": [
       "['为什么', '你', '需要', '一个苹果手机']"
      ]
     },
     "execution_count": 46,
     "metadata": {},
     "output_type": "execute_result"
    }
   ],
   "source": [
    "subsitite(cut(\"为什么你需要whata\"), pat_to_dict_zh(pat_match_with_seg_zh(cut('我需要whatisa'), \n",
    "                  cut(\"我需要一个苹果手机\"))))"
   ]
  },
  {
   "cell_type": "markdown",
   "metadata": {},
   "source": [
    "如果我们定义这样的一个模板:"
   ]
  },
  {
   "cell_type": "code",
   "execution_count": 62,
   "metadata": {},
   "outputs": [
    {
     "data": {
      "text/plain": [
       "('?*X hello ?*Y', 'Hi, how do you do')"
      ]
     },
     "execution_count": 62,
     "metadata": {},
     "output_type": "execute_result"
    }
   ],
   "source": [
    "(\"?*X hello ?*Y\", \"Hi, how do you do\")"
   ]
  },
  {
   "cell_type": "code",
   "execution_count": 74,
   "metadata": {},
   "outputs": [
    {
     "data": {
      "text/plain": [
       "['Hi,', 'how', 'do', 'you', 'do?']"
      ]
     },
     "execution_count": 74,
     "metadata": {},
     "output_type": "execute_result"
    }
   ],
   "source": [
    "subsitite(\"Hi, how do you do?\".split(), pat_to_dict(pat_match_with_seg('?*X hello ?*Y'.split(), \n",
    "                  \"I am mike, hello \".split())))"
   ]
  },
  {
   "cell_type": "code",
   "execution_count": 79,
   "metadata": {
    "collapsed": true
   },
   "outputs": [],
   "source": [
    "match_result = pat_match_with_seg('I was ?*Y'.split(), \n",
    "                  \"I am mike, hello \".split())"
   ]
  },
  {
   "cell_type": "code",
   "execution_count": 81,
   "metadata": {},
   "outputs": [
    {
     "data": {
      "text/plain": [
       "[True, None]"
      ]
     },
     "execution_count": 81,
     "metadata": {},
     "output_type": "execute_result"
    }
   ],
   "source": [
    "match_result"
   ]
  },
  {
   "cell_type": "code",
   "execution_count": 82,
   "metadata": {},
   "outputs": [
    {
     "data": {
      "text/plain": [
       "[('?Y', ['mike,', 'hello'])]"
      ]
     },
     "execution_count": 82,
     "metadata": {},
     "output_type": "execute_result"
    }
   ],
   "source": [
    " pat_match_with_seg('I was ?*Y'.split(), \n",
    "                  \"I was mike, hello \".split())"
   ]
  },
  {
   "cell_type": "code",
   "execution_count": 67,
   "metadata": {},
   "outputs": [
    {
     "data": {
      "text/plain": [
       "['你好', '，', 'nice', ' ', 'to', ' ', 'meet', ' ', 'you']"
      ]
     },
     "execution_count": 67,
     "metadata": {},
     "output_type": "execute_result"
    }
   ],
   "source": [
    "subsitite(cut(\"你好，nice to meet you\"), pat_to_dict_zh(pat_match_with_seg_zh(cut('whatisa你好whatisb'), \n",
    "                  cut(\"我叫麦克，你好啊小伙子\"))))"
   ]
  },
  {
   "cell_type": "markdown",
   "metadata": {},
   "source": [
    "### 现在是你的时间了"
   ]
  },
  {
   "cell_type": "code",
   "execution_count": 150,
   "metadata": {
    "collapsed": true
   },
   "outputs": [],
   "source": [
    "import numpy as np\n",
    "#Chinese question\n",
    "def get_response_zh(saying, defined_patterns):\n",
    "    \"\"\"\" please implement the code, to get the response as followings:\n",
    "    \n",
    "    >>> get_response(\"我叫麦克，你好啊小伙子\") \n",
    "    >>> 你好，nice to meet you / 你好啊\n",
    "    >>> get_response(\"我需要一个苹果手机\")\n",
    "    >>> 为什么你需要一个苹果手机 ? / 你可以点击这个网站购买一个苹果手机\n",
    "    \"\"\"\n",
    "    #not_find_saying=True\n",
    "    match_length=0#matched length/total length of saying\n",
    "    for i in defined_patterns:\n",
    "        match_result=pat_match_with_seg_zh(cut(i), \n",
    "                  cut(saying))\n",
    "        match_result_length = len(match_result)\n",
    "        #print(\"i=\"+str(i))\n",
    "        #print(\"match_result=\"+str(match_result))\n",
    "        #print(len(match_result))\n",
    "        if (not match_result[match_result_length-1] == True and not match_result[match_result_length-1] == None):\n",
    "            #not_find_saying = False\n",
    "            #print(match_result)\n",
    "            _, match_list = match_result[0]\n",
    "            match_words_length=0\n",
    "            for _,match_words in match_result:\n",
    "                match_words_length+=len(match_words)\n",
    "            match_length_new = 1-match_words_length/len(cut(saying))\n",
    "            if match_length_new >= match_length:\n",
    "                choose_response = np.random.randint(len(defined_patterns[i]))\n",
    "                response_patterns = defined_patterns[i][choose_response]\n",
    "                response_list=subsitite(cut(response_patterns), pat_to_dict_zh(match_result))\n",
    "                match_length = match_length_new\n",
    "\n",
    "    if match_length==0: print(\"抱歉，我听不懂你在说什么\")\n",
    "    else: return ''.join(response_list)"
   ]
  },
  {
   "cell_type": "code",
   "execution_count": 151,
   "metadata": {
    "collapsed": true
   },
   "outputs": [],
   "source": [
    "defined_patterns = {\n",
    "    \"whatisa你好whatisb\": [\"你好，nice to meet you\", \"你好啊\"],\n",
    "    \"我需要whatisa\": [\"为什么你需要whata？\", \"你可以点击这个网站购买whata\"]\n",
    "}"
   ]
  },
  {
   "cell_type": "code",
   "execution_count": 152,
   "metadata": {
    "scrolled": true
   },
   "outputs": [
    {
     "data": {
      "text/plain": [
       "'其实很有可能我们互相需要一个苹果手机'"
      ]
     },
     "execution_count": 152,
     "metadata": {},
     "output_type": "execute_result"
    }
   ],
   "source": [
    "saying1 = \"我叫麦克，你好啊小伙子\"\n",
    "saying2 = \"我需要一个苹果手机\"\n",
    "saying3 = \"Haha, bug comes\"\n",
    "get_response_zh(saying2, rule_responses)#defined_patterns)"
   ]
  },
  {
   "cell_type": "code",
   "execution_count": 156,
   "metadata": {
    "collapsed": true
   },
   "outputs": [],
   "source": [
    "import numpy as np\n",
    "#English question\n",
    "def get_response(saying, defined_patterns):\n",
    "    \"\"\"\" please implement the code, to get the response as followings:\n",
    "    \n",
    "    >>> get_response(\"I am mike, hello \") \n",
    "    >>> Hi, how do you do? / Hello, nice to meet you\n",
    "    >>> get_response(\"I was a hero\")\n",
    "    >>> Were you already a hero ? / I already knew you were a hero .\n",
    "    \"\"\"\n",
    "    #not_find_saying=True\n",
    "    match_length=0#matched length/total length of saying\n",
    "    for i in defined_patterns:\n",
    "        match_result=pat_match_with_seg(i.split(), \n",
    "                  saying.split())\n",
    "        match_result_length = len(match_result)\n",
    "        # _, match_list=match_result[0]\n",
    "        if (not match_result[match_result_length-1] == True and not match_result[match_result_length-1] == None):\n",
    "            #not_find_saying = False\n",
    "            _, match_list = match_result[0]\n",
    "            match_words_length = 0\n",
    "            for _, match_words in match_result:\n",
    "                match_words_length+=len(match_words)\n",
    "            match_length_new = 1-match_words_length/len(saying.split())\n",
    "            if match_length_new >= match_length:\n",
    "                choose_response = np.random.randint(len(defined_patterns[i]))\n",
    "                response_patterns = defined_patterns[i][choose_response]\n",
    "                response_list = subsitite(response_patterns.split(), pat_to_dict(match_result))\n",
    "                match_length = match_length_new\n",
    "\n",
    "    if match_length == 0: print(\"What are you talking about\")\n",
    "    else: return ' '.join(response_list)\n",
    "    "
   ]
  },
  {
   "cell_type": "code",
   "execution_count": 157,
   "metadata": {
    "collapsed": true
   },
   "outputs": [],
   "source": [
    "#我们给大家一些例子: \n",
    "    \n",
    "defined_patterns = {\n",
    "    \"?*X hello ?*Y\": [\"Hi, how do you do?\", \"Hello, nice to meet you\"],\n",
    "    \"I was ?*X\": [\"Were you really ?X ?\", \"I already knew you were ?X .\"]\n",
    "}"
   ]
  },
  {
   "cell_type": "code",
   "execution_count": 158,
   "metadata": {},
   "outputs": [
    {
     "data": {
      "text/plain": [
       "'Were you really a hero ?'"
      ]
     },
     "execution_count": 158,
     "metadata": {},
     "output_type": "execute_result"
    }
   ],
   "source": [
    "saying1 = \"I am mike, hello \"\n",
    "saying2 = \"I was a hero\"\n",
    "saying3 = \"Haha, bug comes\"\n",
    "get_response(saying2, defined_patterns)"
   ]
  },
  {
   "cell_type": "code",
   "execution_count": 159,
   "metadata": {
    "collapsed": true
   },
   "outputs": [],
   "source": [
    "# combine English and Chinese model:\n",
    "def get_response_combined(saying, defined_patterns):\n",
    "    Chinese_in_saying = False\n",
    "    for i in saying:\n",
    "        if '\\u4e00' <= i <= '\\u9fa5':\n",
    "            Chinese_in_saying = True\n",
    "            continue\n",
    "    if Chinese_in_saying:\n",
    "        #saying = cut(saying)\n",
    "        return get_response_zh(saying, defined_patterns)\n",
    "    else:\n",
    "        #saying = saying.split()\n",
    "        return get_response(saying, defined_patterns)"
   ]
  },
  {
   "cell_type": "code",
   "execution_count": 160,
   "metadata": {
    "collapsed": true
   },
   "outputs": [],
   "source": [
    "saying1 = \"I am mike, hello \"\n",
    "saying2 = \"I was a hero\"\n",
    "saying3 = \"Haha, bug comes\"\n",
    "saying4 = \"我叫麦克，你好啊小伙子\"\n",
    "saying5 = \"我需要一个苹果手机\"\n",
    "saying6 = \"Haha, bug comes\""
   ]
  },
  {
   "cell_type": "code",
   "execution_count": 161,
   "metadata": {
    "collapsed": true
   },
   "outputs": [],
   "source": [
    "rule_responses = {\n",
    "    '?*X hello ?*Y': ['How do you do', 'Please state your problem'],\n",
    "    '?*X I want ?*Y': ['what would it mean if you got ?Y', 'Why do you want ?Y', 'Suppose you got ?Y soon'],\n",
    "    '?*X if ?*Y': ['Do you really think its likely that ?Y', 'Do you wish that ?Y', 'What do you think about ?Y', 'Really-- if ?Y'],\n",
    "    '?*X no ?*Y': ['why not?', 'You are being a negative', 'Are you saying \\'No\\' just to be negative?'],\n",
    "    '?*X I was ?*Y': ['Were you really', 'Perhaps I already knew you were ?Y', 'Why do you tell me you were ?Y now?'],\n",
    "    '?*X I feel ?*Y': ['Do you often feel ?Y ?', 'What other feelings do you have?'],\n",
    "    'whatisa你好whatisb': ['你好呀', '请告诉我你的问题'],\n",
    "    'whatisa我想whatisb': ['你觉得whatb有什么意义呢？', '为什么你想whatb', '你可以想想你很快就可以whatb了'],\n",
    "    'whatisa我想要whatisb': ['whata想问你，你觉得whatb有什么意义呢?', '为什么你想whatb', 'whata觉得... 你可以想想你很快就可以有whatb了', '你看whata像whatb不', '我看你就像whatb'],\n",
    "    'whatisa喜欢whatisb': ['喜欢whatb的哪里？', 'whatb有什么好的呢？', '你想要whatb吗？'],\n",
    "    'whatisa讨厌whatisb': ['whatb怎么会那么讨厌呢?', '讨厌whatb的哪里？', 'whatb有什么不好呢？', '你不想要whatb吗？'],\n",
    "    'whatisaAIwhatisb': ['你为什么要提AI的事情？', '你为什么觉得AI要解决你的问题？'],\n",
    "    'whatisa机器人whatisb': ['你为什么要提机器人的事情？', '你为什么觉得机器人要解决你的问题？'],\n",
    "    'whatisa对不起whatisb': ['不用道歉', '你为什么觉得你需要道歉呢?'],\n",
    "    'whatisa我记得whatisb': ['你经常会想起这个吗？', '除了whatb你还会想起什么吗？', '你为什么和我提起whatb'],\n",
    "    'whatisa如果whatisb': ['你真的觉得whatb会发生吗？', '你希望whatb吗?', '真的吗？如果whatb的话', '关于whatb你怎么想？'],\n",
    "    'whatisa我?*z梦见whatisb':['真的吗? --- whatb', '你在醒着的时候，以前想象过whatb吗？', '你以前梦见过whatb吗'],\n",
    "    'whatisa妈妈whatisb': ['你家里除了whatb还有谁?', '嗯嗯，多说一点和你家里有关系的', '她对你影响很大吗？'],\n",
    "    'whatisa爸爸whatisb': ['你家里除了whatb还有谁?', '嗯嗯，多说一点和你家里有关系的', '他对你影响很大吗？', '每当你想起你爸爸的时候， 你还会想起其他的吗?'],\n",
    "    'whatisa我愿意whatisb': ['我可以帮你whatb吗？', '你可以解释一下，为什么想whatb'],\n",
    "    'whatisa我很难过，因为whatisb': ['我听到你这么说， 也很难过', 'whatb不应该让你这么难过的'],\n",
    "    'whatisa难过whatisb': ['我听到你这么说， 也很难过',\n",
    "                 '不应该让你这么难过的，你觉得你拥有什么，就会不难过?',\n",
    "                 '你觉得事情变成什么样，你就不难过了?'],\n",
    "    'whatisa就像whatisb': ['你觉得whata和whatb有什么相似性？', 'whata和whatb真的有关系吗？', '怎么说？'],\n",
    "    'whatisa和whatisb都?*z': ['你觉得?z有什么问题吗?', '?z会对你有什么影响呢?'],\n",
    "    'whatisa和whatisb一样?*z': ['你觉得?z有什么问题吗?', '?z会对你有什么影响呢?'],\n",
    "    'whatisa我是whatisb': ['真的吗？', 'whata想告诉你，或许我早就知道你是whatb', '你为什么现在才告诉我你是whatb'],\n",
    "    'whatisa我是whatisb吗': ['如果你是whatb会怎么样呢？', '你觉得你是whatb吗', '如果你是whatb，那一位着什么?'],\n",
    "    'whatisa你是whatisb吗':  ['你为什么会对我是不是whatb感兴趣?', '那你希望我是whatb吗', '你要是喜欢， 我就会是whatb'],\n",
    "    'whatisa你是whatisb' : ['为什么你觉得我是whatb'],\n",
    "    'whatisa因为whatisb' : ['whatb是真正的原因吗？', '你觉得会有其他原因吗?'],\n",
    "    'whatisa我不能whatisb': ['你或许现在就能whatisb', '如果你能whatisb,会怎样呢？'],\n",
    "    'whatisa我觉得whatisb': ['你经常这样感觉吗？', '除了到这个，你还有什么其他的感觉吗？'],\n",
    "    'whatisa我whatisb你?*z': ['其实很有可能我们互相whatb'],\n",
    "    'whatisa你为什么不whatisb': ['你自己为什么不whatb', '你觉得我不会whatb', '等我心情好了，我就whatb'],\n",
    "    'whatisa好的whatisb': ['好的', '你是一个很正能量的人'],\n",
    "    'whatisa嗯嗯whatisb': ['好的', '你是一个很正能量的人'],\n",
    "    'whatisa不嘛whatisb': ['为什么不？', '你有一点负能量', '你说 不，是想表达不想的意思吗？'],\n",
    "    'whatisa不要whatisb': ['为什么不？', '你有一点负能量', '你说 不，是想表达不想的意思吗？'],\n",
    "    'whatisa有些人whatisb': ['具体是哪些人呢?'],\n",
    "    'whatisa有的人whatisb': ['具体是哪些人呢?'],\n",
    "    'whatisa某些人whatisb': ['具体是哪些人呢?'],\n",
    "    'whatisa每个人whatisb': ['我确定不是人人都是', '你能想到一点特殊情况吗？', '例如谁？', '你看到的其实只是一小部分人'],\n",
    "    'whatisa所有人whatisb': ['我确定不是人人都是', '你能想到一点特殊情况吗？', '例如谁？', '你看到的其实只是一小部分人'],\n",
    "    'whatisa总是whatisb': ['你能想到一些其他情况吗?', '例如什么时候?', '你具体是说哪一次？', '真的---总是吗？'],\n",
    "    'whatisa一直whatisb': ['你能想到一些其他情况吗?', '例如什么时候?', '你具体是说哪一次？', '真的---总是吗？'],\n",
    "    'whatisa或许whatisb': ['你看起来不太确定'],\n",
    "    'whatisa可能whatisb': ['你看起来不太确定'],\n",
    "    'whatisa他们是whatisb吗？': ['你觉得他们可能不是whatb？'],\n",
    "    'whatisa': ['很有趣', '请继续', '我不太确定我很理解你说的, 能稍微详细解释一下吗?']\n",
    "}\n"
   ]
  },
  {
   "cell_type": "code",
   "execution_count": 164,
   "metadata": {},
   "outputs": [
    {
     "data": {
      "text/plain": [
       "'Perhaps I already knew you were a hero'"
      ]
     },
     "execution_count": 164,
     "metadata": {},
     "output_type": "execute_result"
    }
   ],
   "source": [
    "get_response_combined(saying2, rule_responses)"
   ]
  },
  {
   "cell_type": "code",
   "execution_count": 165,
   "metadata": {},
   "outputs": [
    {
     "data": {
      "text/plain": [
       "'其实很有可能我们互相需要一个苹果手机'"
      ]
     },
     "execution_count": 165,
     "metadata": {},
     "output_type": "execute_result"
    }
   ],
   "source": [
    "get_response_combined(saying5, rule_responses)"
   ]
  },
  {
   "cell_type": "markdown",
   "metadata": {},
   "source": [
    "### 问题1"
   ]
  },
  {
   "cell_type": "markdown",
   "metadata": {},
   "source": [
    "编写一个程序, ```get_response(saying, response_rules)```输入是一个字符串 + 我们定义的 rules，例如上边我们所写的 pattern， 输出是一个回答。"
   ]
  },
  {
   "cell_type": "markdown",
   "metadata": {},
   "source": [
    "### 问题2"
   ]
  },
  {
   "cell_type": "markdown",
   "metadata": {},
   "source": [
    "改写以上程序，将程序变成能够支持中文输入的模式。\n",
    "*提示*: 你可以需用用到 jieba 分词"
   ]
  },
  {
   "cell_type": "markdown",
   "metadata": {},
   "source": [
    "### 问题3"
   ]
  },
  {
   "cell_type": "markdown",
   "metadata": {},
   "source": [
    "多设计一些模式，让这个程序变得更好玩，多和大家交流，看看大家有什么好玩的模式"
   ]
  },
  {
   "cell_type": "markdown",
   "metadata": {},
   "source": [
    "### 问题4"
   ]
  },
  {
   "cell_type": "markdown",
   "metadata": {},
   "source": [
    "1. 这样的程序有什么优点？有什么缺点？你有什么可以改进的方法吗？ \n",
    "2. 什么是数据驱动？数据驱动在这个程序里如何体现？\n",
    "3. 数据驱动与 AI 的关系是什么？ \n"
   ]
  },
  {
   "cell_type": "markdown",
   "metadata": {},
   "source": [
    "- 1.优点：回答没有语病，简便易行，秒回，交互可控； 缺点：问答匹配模式有限，大量问题无法覆盖；问答前后文可能不联系，回答了第一个问题，后面的问题可能就回答不上；回答缺乏Consistency和独立人格。可能想到的解决方法比如语料库训练+构建知识图谱\n",
    "- 2.（不大懂，Google了一下）人类认知能力的提高主要来自于发现并掌握世界的规律； \n",
    "规律往往用数学模型来表达的 ； \n",
    "数学模型的确定分两步，一步是确定数学模型（狭义的模型），第二步是确定参数 ； \n",
    "确定数学模型的难度极大，人类想到通过将多个粗糙但是简单模型的组合的方法来逼近真实模型（大概的构想） ； \n",
    "具体的做法是：先建立一个粗糙的模型，之后用大量的数据来细化数据使得模型不断的契合数据； \n",
    "这个方法被称之为「数据驱动方法」 ； \n",
    "\n",
    "- 3. 数据驱动方法是AI的一个分支，AI是数据驱动的最终表现。"
   ]
  },
  {
   "cell_type": "markdown",
   "metadata": {},
   "source": [
    "一些参考 pattern"
   ]
  }
 ],
 "metadata": {
  "kernelspec": {
   "display_name": "Python 3",
   "language": "python",
   "name": "python3"
  },
  "language_info": {
   "codemirror_mode": {
    "name": "ipython",
    "version": 3
   },
   "file_extension": ".py",
   "mimetype": "text/x-python",
   "name": "python",
   "nbconvert_exporter": "python",
   "pygments_lexer": "ipython3",
   "version": "3.6.3"
  },
  "toc": {
   "base_numbering": 1,
   "nav_menu": {},
   "number_sections": true,
   "sideBar": true,
   "skip_h1_title": false,
   "title_cell": "Table of Contents",
   "title_sidebar": "Contents",
   "toc_cell": true,
   "toc_position": {},
   "toc_section_display": true,
   "toc_window_display": false
  }
 },
 "nbformat": 4,
 "nbformat_minor": 2
}
