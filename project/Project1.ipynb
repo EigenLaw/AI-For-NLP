{
 "cells": [
  {
   "cell_type": "markdown",
   "metadata": {
    "toc": true
   },
   "source": [
    "<h1>Table of Contents<span class=\"tocSkip\"></span></h1>\n",
    "<div class=\"toc\"><ul class=\"toc-item\"><li><span><a href=\"#Read-a-piece-of-news-for-example\" data-toc-modified-id=\"Read-a-piece-of-news-for-example-1\"><span class=\"toc-item-num\">1&nbsp;&nbsp;</span>Read a piece of news for example</a></span></li><li><span><a href=\"#查找说的近义词\" data-toc-modified-id=\"查找说的近义词-2\"><span class=\"toc-item-num\">2&nbsp;&nbsp;</span>查找说的近义词</a></span></li><li><span><a href=\"#NER---extract-all-the-names-from-the-content\" data-toc-modified-id=\"NER---extract-all-the-names-from-the-content-3\"><span class=\"toc-item-num\">3&nbsp;&nbsp;</span>NER - extract all the names from the content</a></span></li><li><span><a href=\"#依存句法分析\" data-toc-modified-id=\"依存句法分析-4\"><span class=\"toc-item-num\">4&nbsp;&nbsp;</span>依存句法分析</a></span></li><li><span><a href=\"#Extract-from-name\" data-toc-modified-id=\"Extract-from-name-5\"><span class=\"toc-item-num\">5&nbsp;&nbsp;</span>Extract from name</a></span></li><li><span><a href=\"#Extract-from-'say'-words\" data-toc-modified-id=\"Extract-from-'say'-words-6\"><span class=\"toc-item-num\">6&nbsp;&nbsp;</span>Extract from 'say' words</a></span></li></ul></div>"
   ]
  },
  {
   "cell_type": "markdown",
   "metadata": {},
   "source": [
    "[Reference1 - other solutions](https://github.com/enix223/nlp-course/blob/master/notebooks/news_options.ipynb)\n",
    "\n",
    "[Reference2 - pyltp](https://pyltp.readthedocs.io/zh_CN/latest/api.html#id13)"
   ]
  },
  {
   "cell_type": "code",
   "execution_count": 1,
   "metadata": {
    "collapsed": true
   },
   "outputs": [],
   "source": [
    "import warnings\n",
    "warnings.filterwarnings('ignore')"
   ]
  },
  {
   "cell_type": "code",
   "execution_count": 2,
   "metadata": {
    "collapsed": true
   },
   "outputs": [],
   "source": [
    "import os\n",
    "import jieba\n",
    "import pyltp\n",
    "import pandas as pd\n",
    "from gensim.models.word2vec import Word2Vec"
   ]
  },
  {
   "cell_type": "code",
   "execution_count": 4,
   "metadata": {
    "collapsed": true
   },
   "outputs": [],
   "source": [
    "LTP_DATA_DIR = 'mydata/ltp_data_v3.4.0'  # ltp模型目录的路径\n",
    "cws_model_path = os.path.join(LTP_DATA_DIR, 'cws.model')\n",
    "pos_model_path = os.path.join(LTP_DATA_DIR, 'pos.model')\n",
    "ner_model_path = os.path.join(LTP_DATA_DIR, 'ner.model')\n",
    "par_model_path = os.path.join(LTP_DATA_DIR, 'parser.model')\n",
    "srl_model_path = os.path.join(LTP_DATA_DIR, 'pisrl.model')"
   ]
  },
  {
   "cell_type": "code",
   "execution_count": 6,
   "metadata": {
    "collapsed": true
   },
   "outputs": [],
   "source": [
    "segmentor = pyltp.Segmentor()\n",
    "segmentor.load(cws_model_path)\n",
    "\n",
    "postagger = pyltp.Postagger()\n",
    "postagger.load(pos_model_path)\n",
    "\n",
    "recognizer = pyltp.NamedEntityRecognizer()\n",
    "recognizer.load(ner_model_path)\n",
    "\n",
    "parser = pyltp.Parser()\n",
    "parser.load(par_model_path)\n",
    "\n",
    "labeller = pyltp.SementicRoleLabeller() # 初始化实例\n",
    "labeller.load(srl_model_path)  # 加载模型"
   ]
  },
  {
   "cell_type": "code",
   "execution_count": 8,
   "metadata": {
    "collapsed": true
   },
   "outputs": [],
   "source": [
    "# news path\n",
    "NEWS_DATA_PATH = 'mydata/sqlResult_1558435.csv'\n",
    "df = pd.read_csv(NEWS_DATA_PATH, encoding='gb18030')"
   ]
  },
  {
   "cell_type": "markdown",
   "metadata": {},
   "source": [
    "> 已通过Word2Vec Model和Wiki Data 将“说”的近义词找到，存放于本地，现在读取"
   ]
  },
  {
   "cell_type": "code",
   "execution_count": 35,
   "metadata": {
    "collapsed": true
   },
   "outputs": [],
   "source": [
    "say_similar = pd.read_csv(\"similar_said.csv\", encoding = \"gbk\")\n",
    "said_list = list(say_similar['similar_of_said'])"
   ]
  },
  {
   "cell_type": "markdown",
   "metadata": {},
   "source": [
    "# Read a piece of news for example"
   ]
  },
  {
   "cell_type": "code",
   "execution_count": 36,
   "metadata": {
    "collapsed": true
   },
   "outputs": [],
   "source": [
    "contents = df[~df['content'].isnull()]['content']"
   ]
  },
  {
   "cell_type": "code",
   "execution_count": 37,
   "metadata": {
    "collapsed": true
   },
   "outputs": [],
   "source": [
    "news = contents[96]"
   ]
  },
  {
   "cell_type": "code",
   "execution_count": 38,
   "metadata": {},
   "outputs": [
    {
     "data": {
      "text/plain": [
       "'中新网6月23日电 (记者潘旭临) 意大利航空首席商务官乔治先生22日在北京接受中新网记者专访时表示，意航确信中国市场对意航的重要性，目前意航已将发展中国市场提升到战略层级的高度，未来，意航将加大在华布局，提升业务水平。\\r\\n到意大利航空履职仅7个月的乔治，主要负责包括中国市场在内的亚太业务。此次北京之行，目标是加深对中国市场的了解，寻找合作和投资良机。\\r\\n他说，“自己是第一次访问北京，也是第一次到中国访问。虽然此次时间短暂，但中国传统文化、古代建筑以及可口的中餐等，都给他留下非常美好的印象。”\\r\\n自从去年7月，意大利航空首次开启罗马至北京往返直飞航线后，目前每周有4个航班，提供近千个座位，业绩状况一直稳步有升。乔治称，随着对华业务不断提升，意航明年可能会将每周4班提高到每天一班。同时，意航会借罗马新航站楼启用之际，吸引更多中国旅客到意大利旅游和转机。此外，还将加大对北京直飞航线的投资，如翻新航班座椅，增加电视中有关中国内容的娱乐节目、提高机上中文服务、餐饮服务、完善意航中文官方网站，提升商务舱和普通舱的舒适度等。\\r\\n他表示，随着中国经济持续稳步增长，中国将很快跃居成为世界第一出境旅游大国。去年中国出境旅游突破了一亿人次，来意大利旅游的中国人也超过百万人次，今年还会增加。在面对如此巨大的旅游市场时，作为本土老牌航空公司，意航只有练好“内功”，不断完善和提高自身业务能力，才能在市场竞争中，占得先机，立于不败之地。\\r\\n在谈到目前意大利航空的经营状况时，乔治先生坦言，走过70年的意大利航空，目前正在经历如裁员、管理层重组等历史上又一次转型期。 乔治表示，意航转型期也是投资者的机遇期，意大利航空已做好吸引全球业界投资的准备，以迅速扩充实力，目前已有33家国际投资机构向意航提出投资申请，能否接受、如何接受，意航需做全面评估才会决定。\\r\\n乔治表示，在转型期内，意航业务如常，资金充分，并计划在下半年和明年增加中远程航线的投资，尤其是稳固和加强像中国这样的大市场投资。\\r\\n'"
      ]
     },
     "execution_count": 38,
     "metadata": {},
     "output_type": "execute_result"
    }
   ],
   "source": [
    "news"
   ]
  },
  {
   "cell_type": "code",
   "execution_count": 39,
   "metadata": {
    "collapsed": true
   },
   "outputs": [],
   "source": [
    "words = segmentor.segment(news.replace('\\r\\n', ''))"
   ]
  },
  {
   "cell_type": "code",
   "execution_count": 40,
   "metadata": {
    "collapsed": true
   },
   "outputs": [],
   "source": [
    "postags = postagger.postag(words)"
   ]
  },
  {
   "cell_type": "code",
   "execution_count": 41,
   "metadata": {
    "collapsed": true
   },
   "outputs": [],
   "source": [
    "netags = recognizer.recognize(words, postags)"
   ]
  },
  {
   "cell_type": "code",
   "execution_count": 42,
   "metadata": {},
   "outputs": [
    {
     "data": {
      "text/html": [
       "<div>\n",
       "<style>\n",
       "    .dataframe thead tr:only-child th {\n",
       "        text-align: right;\n",
       "    }\n",
       "\n",
       "    .dataframe thead th {\n",
       "        text-align: left;\n",
       "    }\n",
       "\n",
       "    .dataframe tbody tr th {\n",
       "        vertical-align: top;\n",
       "    }\n",
       "</style>\n",
       "<table border=\"1\" class=\"dataframe\">\n",
       "  <thead>\n",
       "    <tr style=\"text-align: right;\">\n",
       "      <th></th>\n",
       "      <th>netags</th>\n",
       "      <th>postags</th>\n",
       "      <th>words</th>\n",
       "    </tr>\n",
       "  </thead>\n",
       "  <tbody>\n",
       "    <tr>\n",
       "      <th>0</th>\n",
       "      <td>O</td>\n",
       "      <td>n</td>\n",
       "      <td>中新网</td>\n",
       "    </tr>\n",
       "    <tr>\n",
       "      <th>1</th>\n",
       "      <td>O</td>\n",
       "      <td>nt</td>\n",
       "      <td>6月</td>\n",
       "    </tr>\n",
       "    <tr>\n",
       "      <th>2</th>\n",
       "      <td>O</td>\n",
       "      <td>nt</td>\n",
       "      <td>23日</td>\n",
       "    </tr>\n",
       "    <tr>\n",
       "      <th>3</th>\n",
       "      <td>O</td>\n",
       "      <td>n</td>\n",
       "      <td>电</td>\n",
       "    </tr>\n",
       "    <tr>\n",
       "      <th>4</th>\n",
       "      <td>O</td>\n",
       "      <td>wp</td>\n",
       "      <td>(</td>\n",
       "    </tr>\n",
       "    <tr>\n",
       "      <th>5</th>\n",
       "      <td>O</td>\n",
       "      <td>n</td>\n",
       "      <td>记者</td>\n",
       "    </tr>\n",
       "    <tr>\n",
       "      <th>6</th>\n",
       "      <td>S-Nh</td>\n",
       "      <td>nh</td>\n",
       "      <td>潘旭临</td>\n",
       "    </tr>\n",
       "    <tr>\n",
       "      <th>7</th>\n",
       "      <td>O</td>\n",
       "      <td>wp</td>\n",
       "      <td>)</td>\n",
       "    </tr>\n",
       "    <tr>\n",
       "      <th>8</th>\n",
       "      <td>B-Ni</td>\n",
       "      <td>ns</td>\n",
       "      <td>意大利</td>\n",
       "    </tr>\n",
       "    <tr>\n",
       "      <th>9</th>\n",
       "      <td>I-Ni</td>\n",
       "      <td>n</td>\n",
       "      <td>航空</td>\n",
       "    </tr>\n",
       "    <tr>\n",
       "      <th>10</th>\n",
       "      <td>E-Ni</td>\n",
       "      <td>n</td>\n",
       "      <td>首席</td>\n",
       "    </tr>\n",
       "    <tr>\n",
       "      <th>11</th>\n",
       "      <td>O</td>\n",
       "      <td>n</td>\n",
       "      <td>商务官</td>\n",
       "    </tr>\n",
       "    <tr>\n",
       "      <th>12</th>\n",
       "      <td>S-Nh</td>\n",
       "      <td>nh</td>\n",
       "      <td>乔治</td>\n",
       "    </tr>\n",
       "    <tr>\n",
       "      <th>13</th>\n",
       "      <td>O</td>\n",
       "      <td>n</td>\n",
       "      <td>先生</td>\n",
       "    </tr>\n",
       "    <tr>\n",
       "      <th>14</th>\n",
       "      <td>O</td>\n",
       "      <td>nt</td>\n",
       "      <td>22日</td>\n",
       "    </tr>\n",
       "    <tr>\n",
       "      <th>15</th>\n",
       "      <td>O</td>\n",
       "      <td>p</td>\n",
       "      <td>在</td>\n",
       "    </tr>\n",
       "    <tr>\n",
       "      <th>16</th>\n",
       "      <td>S-Ns</td>\n",
       "      <td>ns</td>\n",
       "      <td>北京</td>\n",
       "    </tr>\n",
       "    <tr>\n",
       "      <th>17</th>\n",
       "      <td>O</td>\n",
       "      <td>v</td>\n",
       "      <td>接受</td>\n",
       "    </tr>\n",
       "    <tr>\n",
       "      <th>18</th>\n",
       "      <td>O</td>\n",
       "      <td>nz</td>\n",
       "      <td>中新网</td>\n",
       "    </tr>\n",
       "    <tr>\n",
       "      <th>19</th>\n",
       "      <td>O</td>\n",
       "      <td>n</td>\n",
       "      <td>记者</td>\n",
       "    </tr>\n",
       "    <tr>\n",
       "      <th>20</th>\n",
       "      <td>O</td>\n",
       "      <td>v</td>\n",
       "      <td>专访</td>\n",
       "    </tr>\n",
       "    <tr>\n",
       "      <th>21</th>\n",
       "      <td>O</td>\n",
       "      <td>n</td>\n",
       "      <td>时</td>\n",
       "    </tr>\n",
       "    <tr>\n",
       "      <th>22</th>\n",
       "      <td>O</td>\n",
       "      <td>v</td>\n",
       "      <td>表示</td>\n",
       "    </tr>\n",
       "    <tr>\n",
       "      <th>23</th>\n",
       "      <td>O</td>\n",
       "      <td>wp</td>\n",
       "      <td>，</td>\n",
       "    </tr>\n",
       "    <tr>\n",
       "      <th>24</th>\n",
       "      <td>O</td>\n",
       "      <td>j</td>\n",
       "      <td>意航</td>\n",
       "    </tr>\n",
       "    <tr>\n",
       "      <th>25</th>\n",
       "      <td>O</td>\n",
       "      <td>v</td>\n",
       "      <td>确信</td>\n",
       "    </tr>\n",
       "    <tr>\n",
       "      <th>26</th>\n",
       "      <td>S-Ns</td>\n",
       "      <td>ns</td>\n",
       "      <td>中国</td>\n",
       "    </tr>\n",
       "    <tr>\n",
       "      <th>27</th>\n",
       "      <td>O</td>\n",
       "      <td>n</td>\n",
       "      <td>市场</td>\n",
       "    </tr>\n",
       "    <tr>\n",
       "      <th>28</th>\n",
       "      <td>O</td>\n",
       "      <td>p</td>\n",
       "      <td>对</td>\n",
       "    </tr>\n",
       "    <tr>\n",
       "      <th>29</th>\n",
       "      <td>O</td>\n",
       "      <td>j</td>\n",
       "      <td>意航</td>\n",
       "    </tr>\n",
       "    <tr>\n",
       "      <th>...</th>\n",
       "      <td>...</td>\n",
       "      <td>...</td>\n",
       "      <td>...</td>\n",
       "    </tr>\n",
       "    <tr>\n",
       "      <th>476</th>\n",
       "      <td>O</td>\n",
       "      <td>v</td>\n",
       "      <td>如常</td>\n",
       "    </tr>\n",
       "    <tr>\n",
       "      <th>477</th>\n",
       "      <td>O</td>\n",
       "      <td>wp</td>\n",
       "      <td>，</td>\n",
       "    </tr>\n",
       "    <tr>\n",
       "      <th>478</th>\n",
       "      <td>O</td>\n",
       "      <td>n</td>\n",
       "      <td>资金</td>\n",
       "    </tr>\n",
       "    <tr>\n",
       "      <th>479</th>\n",
       "      <td>O</td>\n",
       "      <td>a</td>\n",
       "      <td>充分</td>\n",
       "    </tr>\n",
       "    <tr>\n",
       "      <th>480</th>\n",
       "      <td>O</td>\n",
       "      <td>wp</td>\n",
       "      <td>，</td>\n",
       "    </tr>\n",
       "    <tr>\n",
       "      <th>481</th>\n",
       "      <td>O</td>\n",
       "      <td>c</td>\n",
       "      <td>并</td>\n",
       "    </tr>\n",
       "    <tr>\n",
       "      <th>482</th>\n",
       "      <td>O</td>\n",
       "      <td>v</td>\n",
       "      <td>计划</td>\n",
       "    </tr>\n",
       "    <tr>\n",
       "      <th>483</th>\n",
       "      <td>O</td>\n",
       "      <td>p</td>\n",
       "      <td>在</td>\n",
       "    </tr>\n",
       "    <tr>\n",
       "      <th>484</th>\n",
       "      <td>O</td>\n",
       "      <td>nt</td>\n",
       "      <td>下半年</td>\n",
       "    </tr>\n",
       "    <tr>\n",
       "      <th>485</th>\n",
       "      <td>O</td>\n",
       "      <td>c</td>\n",
       "      <td>和</td>\n",
       "    </tr>\n",
       "    <tr>\n",
       "      <th>486</th>\n",
       "      <td>O</td>\n",
       "      <td>nt</td>\n",
       "      <td>明年</td>\n",
       "    </tr>\n",
       "    <tr>\n",
       "      <th>487</th>\n",
       "      <td>O</td>\n",
       "      <td>v</td>\n",
       "      <td>增加</td>\n",
       "    </tr>\n",
       "    <tr>\n",
       "      <th>488</th>\n",
       "      <td>O</td>\n",
       "      <td>n</td>\n",
       "      <td>中远程</td>\n",
       "    </tr>\n",
       "    <tr>\n",
       "      <th>489</th>\n",
       "      <td>O</td>\n",
       "      <td>n</td>\n",
       "      <td>航线</td>\n",
       "    </tr>\n",
       "    <tr>\n",
       "      <th>490</th>\n",
       "      <td>O</td>\n",
       "      <td>u</td>\n",
       "      <td>的</td>\n",
       "    </tr>\n",
       "    <tr>\n",
       "      <th>491</th>\n",
       "      <td>O</td>\n",
       "      <td>v</td>\n",
       "      <td>投资</td>\n",
       "    </tr>\n",
       "    <tr>\n",
       "      <th>492</th>\n",
       "      <td>O</td>\n",
       "      <td>wp</td>\n",
       "      <td>，</td>\n",
       "    </tr>\n",
       "    <tr>\n",
       "      <th>493</th>\n",
       "      <td>O</td>\n",
       "      <td>d</td>\n",
       "      <td>尤其</td>\n",
       "    </tr>\n",
       "    <tr>\n",
       "      <th>494</th>\n",
       "      <td>O</td>\n",
       "      <td>v</td>\n",
       "      <td>是</td>\n",
       "    </tr>\n",
       "    <tr>\n",
       "      <th>495</th>\n",
       "      <td>O</td>\n",
       "      <td>a</td>\n",
       "      <td>稳固</td>\n",
       "    </tr>\n",
       "    <tr>\n",
       "      <th>496</th>\n",
       "      <td>O</td>\n",
       "      <td>c</td>\n",
       "      <td>和</td>\n",
       "    </tr>\n",
       "    <tr>\n",
       "      <th>497</th>\n",
       "      <td>O</td>\n",
       "      <td>v</td>\n",
       "      <td>加强</td>\n",
       "    </tr>\n",
       "    <tr>\n",
       "      <th>498</th>\n",
       "      <td>O</td>\n",
       "      <td>v</td>\n",
       "      <td>像</td>\n",
       "    </tr>\n",
       "    <tr>\n",
       "      <th>499</th>\n",
       "      <td>S-Ns</td>\n",
       "      <td>ns</td>\n",
       "      <td>中国</td>\n",
       "    </tr>\n",
       "    <tr>\n",
       "      <th>500</th>\n",
       "      <td>O</td>\n",
       "      <td>r</td>\n",
       "      <td>这样</td>\n",
       "    </tr>\n",
       "    <tr>\n",
       "      <th>501</th>\n",
       "      <td>O</td>\n",
       "      <td>u</td>\n",
       "      <td>的</td>\n",
       "    </tr>\n",
       "    <tr>\n",
       "      <th>502</th>\n",
       "      <td>O</td>\n",
       "      <td>a</td>\n",
       "      <td>大</td>\n",
       "    </tr>\n",
       "    <tr>\n",
       "      <th>503</th>\n",
       "      <td>O</td>\n",
       "      <td>n</td>\n",
       "      <td>市场</td>\n",
       "    </tr>\n",
       "    <tr>\n",
       "      <th>504</th>\n",
       "      <td>O</td>\n",
       "      <td>v</td>\n",
       "      <td>投资</td>\n",
       "    </tr>\n",
       "    <tr>\n",
       "      <th>505</th>\n",
       "      <td>O</td>\n",
       "      <td>wp</td>\n",
       "      <td>。</td>\n",
       "    </tr>\n",
       "  </tbody>\n",
       "</table>\n",
       "<p>506 rows × 3 columns</p>\n",
       "</div>"
      ],
      "text/plain": [
       "    netags postags words\n",
       "0        O       n   中新网\n",
       "1        O      nt    6月\n",
       "2        O      nt   23日\n",
       "3        O       n     电\n",
       "4        O      wp     (\n",
       "5        O       n    记者\n",
       "6     S-Nh      nh   潘旭临\n",
       "7        O      wp     )\n",
       "8     B-Ni      ns   意大利\n",
       "9     I-Ni       n    航空\n",
       "10    E-Ni       n    首席\n",
       "11       O       n   商务官\n",
       "12    S-Nh      nh    乔治\n",
       "13       O       n    先生\n",
       "14       O      nt   22日\n",
       "15       O       p     在\n",
       "16    S-Ns      ns    北京\n",
       "17       O       v    接受\n",
       "18       O      nz   中新网\n",
       "19       O       n    记者\n",
       "20       O       v    专访\n",
       "21       O       n     时\n",
       "22       O       v    表示\n",
       "23       O      wp     ，\n",
       "24       O       j    意航\n",
       "25       O       v    确信\n",
       "26    S-Ns      ns    中国\n",
       "27       O       n    市场\n",
       "28       O       p     对\n",
       "29       O       j    意航\n",
       "..     ...     ...   ...\n",
       "476      O       v    如常\n",
       "477      O      wp     ，\n",
       "478      O       n    资金\n",
       "479      O       a    充分\n",
       "480      O      wp     ，\n",
       "481      O       c     并\n",
       "482      O       v    计划\n",
       "483      O       p     在\n",
       "484      O      nt   下半年\n",
       "485      O       c     和\n",
       "486      O      nt    明年\n",
       "487      O       v    增加\n",
       "488      O       n   中远程\n",
       "489      O       n    航线\n",
       "490      O       u     的\n",
       "491      O       v    投资\n",
       "492      O      wp     ，\n",
       "493      O       d    尤其\n",
       "494      O       v     是\n",
       "495      O       a    稳固\n",
       "496      O       c     和\n",
       "497      O       v    加强\n",
       "498      O       v     像\n",
       "499   S-Ns      ns    中国\n",
       "500      O       r    这样\n",
       "501      O       u     的\n",
       "502      O       a     大\n",
       "503      O       n    市场\n",
       "504      O       v    投资\n",
       "505      O      wp     。\n",
       "\n",
       "[506 rows x 3 columns]"
      ]
     },
     "execution_count": 42,
     "metadata": {},
     "output_type": "execute_result"
    }
   ],
   "source": [
    "pd.DataFrame({\"words\":(\" \".join(words).split()), \"postags\":\" \".join(postags).split(), \"netags\":\" \".join(netags).split()})"
   ]
  },
  {
   "cell_type": "markdown",
   "metadata": {},
   "source": [
    "# 查找说的近义词"
   ]
  },
  {
   "cell_type": "code",
   "execution_count": 43,
   "metadata": {
    "collapsed": true
   },
   "outputs": [],
   "source": [
    "say_positions = [(w, i) for i, w in enumerate(words) if w in said_list]"
   ]
  },
  {
   "cell_type": "code",
   "execution_count": 44,
   "metadata": {},
   "outputs": [
    {
     "data": {
      "text/plain": [
       "[('表示', 22),\n",
       " ('确信', 25),\n",
       " ('说', 103),\n",
       " ('称', 188),\n",
       " ('表示', 284),\n",
       " ('坦言', 386),\n",
       " ('表示', 412),\n",
       " ('表示', 468)]"
      ]
     },
     "execution_count": 44,
     "metadata": {},
     "output_type": "execute_result"
    }
   ],
   "source": [
    "say_positions"
   ]
  },
  {
   "cell_type": "markdown",
   "metadata": {},
   "source": [
    "# NER - extract all the names from the content"
   ]
  },
  {
   "cell_type": "code",
   "execution_count": 45,
   "metadata": {
    "collapsed": true
   },
   "outputs": [],
   "source": [
    "all_names_positions = [(i, tag) for i, tag in enumerate(netags) if 'Nh' in tag]"
   ]
  },
  {
   "cell_type": "code",
   "execution_count": 46,
   "metadata": {},
   "outputs": [
    {
     "data": {
      "text/plain": [
       "[(6, 'S-Nh'),\n",
       " (12, 'S-Nh'),\n",
       " (69, 'S-Nh'),\n",
       " (187, 'S-Nh'),\n",
       " (384, 'S-Nh'),\n",
       " (411, 'S-Nh'),\n",
       " (467, 'S-Nh')]"
      ]
     },
     "execution_count": 46,
     "metadata": {},
     "output_type": "execute_result"
    }
   ],
   "source": [
    "all_names_positions"
   ]
  },
  {
   "cell_type": "code",
   "execution_count": 47,
   "metadata": {
    "collapsed": true
   },
   "outputs": [],
   "source": [
    "all_names = [(words[name[0]], name[0]) for name in all_names_positions]"
   ]
  },
  {
   "cell_type": "code",
   "execution_count": 48,
   "metadata": {},
   "outputs": [
    {
     "data": {
      "text/plain": [
       "[('潘旭临', 6),\n",
       " ('乔治', 12),\n",
       " ('乔治', 69),\n",
       " ('乔治', 187),\n",
       " ('乔治', 384),\n",
       " ('乔治', 411),\n",
       " ('乔治', 467)]"
      ]
     },
     "execution_count": 48,
     "metadata": {},
     "output_type": "execute_result"
    }
   ],
   "source": [
    "all_names"
   ]
  },
  {
   "cell_type": "code",
   "execution_count": 49,
   "metadata": {
    "collapsed": true
   },
   "outputs": [],
   "source": [
    "names = set(map(lambda x: x[0], all_names))"
   ]
  },
  {
   "cell_type": "code",
   "execution_count": 50,
   "metadata": {},
   "outputs": [
    {
     "data": {
      "text/plain": [
       "{'乔治', '潘旭临'}"
      ]
     },
     "execution_count": 50,
     "metadata": {},
     "output_type": "execute_result"
    }
   ],
   "source": [
    "names"
   ]
  },
  {
   "cell_type": "markdown",
   "metadata": {},
   "source": [
    "# 依存句法分析"
   ]
  },
  {
   "cell_type": "code",
   "execution_count": 51,
   "metadata": {
    "collapsed": true
   },
   "outputs": [],
   "source": [
    "arcs = parser.parse(words, postags)"
   ]
  },
  {
   "cell_type": "code",
   "execution_count": 60,
   "metadata": {
    "collapsed": true
   },
   "outputs": [],
   "source": [
    "# print(\"\\n\".join(\"%d:%s=>%d:%s\" % \n",
    "#         (i, '********{}********'.format(words[i]) if words[i] in said_list else words[i], arc.head, arc.relation) \n",
    "#                 for i, arc in enumerate(arcs)))"
   ]
  },
  {
   "cell_type": "markdown",
   "metadata": {},
   "source": [
    "# Extract from name"
   ]
  },
  {
   "cell_type": "code",
   "execution_count": 53,
   "metadata": {
    "collapsed": true
   },
   "outputs": [],
   "source": [
    "def get_all_words_related_to(index):\n",
    "    return [words[i] for i, arc in enumerate(arcs) if arc.head == index]"
   ]
  },
  {
   "cell_type": "code",
   "execution_count": 54,
   "metadata": {
    "collapsed": true
   },
   "outputs": [],
   "source": [
    "candidates = [(name, arcs[name[1]].relation, arcs[name[1]].head) \n",
    "              for name in all_names if arcs[name[1]].relation == 'SBV']"
   ]
  },
  {
   "cell_type": "code",
   "execution_count": 55,
   "metadata": {},
   "outputs": [
    {
     "data": {
      "text/plain": [
       "[(('乔治', 187), 'SBV', 189),\n",
       " (('乔治', 411), 'SBV', 413),\n",
       " (('乔治', 467), 'SBV', 469)]"
      ]
     },
     "execution_count": 55,
     "metadata": {},
     "output_type": "execute_result"
    }
   ],
   "source": [
    "candidates"
   ]
  },
  {
   "cell_type": "code",
   "execution_count": 56,
   "metadata": {
    "collapsed": true
   },
   "outputs": [],
   "source": [
    "def is_sentence_end(w):\n",
    "    return w in [\"。\", \"!\", \"！\"]"
   ]
  },
  {
   "cell_type": "code",
   "execution_count": 57,
   "metadata": {},
   "outputs": [
    {
     "name": "stdout",
     "output_type": "stream",
     "text": [
      "乔治:随着对华业务不断提升，意航明年可能会将每周4班提高到每天一班。\n",
      "乔治:意航转型期也是投资者的机遇期，意大利航空已做好吸引全球业界投资的准备，以迅速扩充实力，目前已有33家国际投资机构向意航提出投资申请，能否接受、如何接受，意航需做全面评估才会决定。\n",
      "乔治:在转型期内，意航业务如常，资金充分，并计划在下半年和明年增加中远程航线的投资，尤其是稳固和加强像中国这样的大市场投资。\n"
     ]
    }
   ],
   "source": [
    "for candidate in candidates:\n",
    "    sentence = ''\n",
    "    for w in words[candidate[2] + 1:]:\n",
    "        sentence += w\n",
    "        if is_sentence_end(w):\n",
    "            print('{}:{}'.format(candidate[0][0], sentence))\n",
    "            break"
   ]
  },
  {
   "cell_type": "markdown",
   "metadata": {},
   "source": [
    "# Extract from 'say' words"
   ]
  },
  {
   "cell_type": "code",
   "execution_count": 58,
   "metadata": {
    "collapsed": true
   },
   "outputs": [],
   "source": [
    "options = []\n",
    "for say_word, pos in say_positions:\n",
    "    option = {'say': say_word}\n",
    "    # Get the name who say the words\n",
    "    for i in range(pos, 0, -1):\n",
    "        w = words[i]\n",
    "        if w in names:\n",
    "            option['name'] = w\n",
    "            break\n",
    "    \n",
    "    sentence = ''\n",
    "    for w in words[pos + 1:]:\n",
    "        sentence += w\n",
    "        if is_sentence_end(w):\n",
    "            option['sentence'] = sentence\n",
    "            break\n",
    "    \n",
    "    options.append(option)"
   ]
  },
  {
   "cell_type": "code",
   "execution_count": 59,
   "metadata": {},
   "outputs": [
    {
     "name": "stdout",
     "output_type": "stream",
     "text": [
      "乔治 表示 ，意航确信中国市场对意航的重要性，目前意航已将发展中国市场提升到战略层级的高度，未来，意航将加大在华布局，提升业务水平。\n",
      "乔治 确信 中国市场对意航的重要性，目前意航已将发展中国市场提升到战略层级的高度，未来，意航将加大在华布局，提升业务水平。\n",
      "乔治 说 ，“自己是第一次访问北京，也是第一次到中国访问。\n",
      "乔治 称 ，随着对华业务不断提升，意航明年可能会将每周4班提高到每天一班。\n",
      "乔治 表示 ，随着中国经济持续稳步增长，中国将很快跃居成为世界第一出境旅游大国。\n",
      "乔治 坦言 ，走过70年的意大利航空，目前正在经历如裁员、管理层重组等历史上又一次转型期。\n",
      "乔治 表示 ，意航转型期也是投资者的机遇期，意大利航空已做好吸引全球业界投资的准备，以迅速扩充实力，目前已有33家国际投资机构向意航提出投资申请，能否接受、如何接受，意航需做全面评估才会决定。\n",
      "乔治 表示 ，在转型期内，意航业务如常，资金充分，并计划在下半年和明年增加中远程航线的投资，尤其是稳固和加强像中国这样的大市场投资。\n"
     ]
    }
   ],
   "source": [
    "for option in options:\n",
    "    print('{} {} {}'.format(option['name'], option['say'], option['sentence']))"
   ]
  },
  {
   "cell_type": "code",
   "execution_count": null,
   "metadata": {
    "collapsed": true
   },
   "outputs": [],
   "source": []
  }
 ],
 "metadata": {
  "kernelspec": {
   "display_name": "Python 3",
   "language": "python",
   "name": "python3"
  },
  "language_info": {
   "codemirror_mode": {
    "name": "ipython",
    "version": 3
   },
   "file_extension": ".py",
   "mimetype": "text/x-python",
   "name": "python",
   "nbconvert_exporter": "python",
   "pygments_lexer": "ipython3",
   "version": "3.6.3"
  },
  "toc": {
   "base_numbering": 1,
   "nav_menu": {},
   "number_sections": true,
   "sideBar": true,
   "skip_h1_title": false,
   "title_cell": "Table of Contents",
   "title_sidebar": "Contents",
   "toc_cell": true,
   "toc_position": {},
   "toc_section_display": true,
   "toc_window_display": false
  }
 },
 "nbformat": 4,
 "nbformat_minor": 2
}
